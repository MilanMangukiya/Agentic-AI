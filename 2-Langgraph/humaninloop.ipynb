{
 "cells": [
  {
   "cell_type": "code",
   "execution_count": 75,
   "id": "205e5c0d",
   "metadata": {},
   "outputs": [
    {
     "data": {
      "text/plain": [
       "True"
      ]
     },
     "execution_count": 75,
     "metadata": {},
     "output_type": "execute_result"
    }
   ],
   "source": [
    "from dotenv import load_dotenv\n",
    "load_dotenv()"
   ]
  },
  {
   "cell_type": "code",
   "execution_count": 76,
   "id": "1a4ffc2f",
   "metadata": {},
   "outputs": [],
   "source": [
    "from langchain_groq import ChatGroq"
   ]
  },
  {
   "cell_type": "code",
   "execution_count": 77,
   "id": "cacf07a1",
   "metadata": {},
   "outputs": [],
   "source": [
    "llm=ChatGroq(model_name=\"deepseek-r1-distill-llama-70b\")"
   ]
  },
  {
   "cell_type": "code",
   "execution_count": 78,
   "id": "e505db0b",
   "metadata": {},
   "outputs": [
    {
     "data": {
      "text/plain": [
       "AIMessage(content='<think>\\n\\n</think>\\n\\nThe capital of France is Paris.', additional_kwargs={}, response_metadata={'token_usage': {'completion_tokens': 12, 'prompt_tokens': 10, 'total_tokens': 22, 'completion_time': 0.053706326, 'prompt_time': 0.000556631, 'queue_time': 0.20206206599999998, 'total_time': 0.054262957}, 'model_name': 'deepseek-r1-distill-llama-70b', 'system_fingerprint': 'fp_1bbe7845ec', 'finish_reason': 'stop', 'logprobs': None}, id='run--183fe1d2-cf7a-499a-be33-1cc7c19ff33d-0', usage_metadata={'input_tokens': 10, 'output_tokens': 12, 'total_tokens': 22})"
      ]
     },
     "execution_count": 78,
     "metadata": {},
     "output_type": "execute_result"
    }
   ],
   "source": [
    "llm.invoke(\"What is the capital of France?\")"
   ]
  },
  {
   "cell_type": "code",
   "execution_count": 79,
   "id": "ba3effa3",
   "metadata": {},
   "outputs": [],
   "source": [
    "from langchain_core.tools import tool"
   ]
  },
  {
   "cell_type": "code",
   "execution_count": 80,
   "id": "3c43716b",
   "metadata": {},
   "outputs": [],
   "source": [
    "from langchain_community.tools.tavily_search import TavilySearchResults"
   ]
  },
  {
   "cell_type": "code",
   "execution_count": 81,
   "id": "9c8cca45",
   "metadata": {},
   "outputs": [],
   "source": [
    "@tool\n",
    "def multiply(x: int, y: int) -> int:\n",
    "    \"\"\"Multiplies two numbers.\"\"\"\n",
    "    return x * y"
   ]
  },
  {
   "cell_type": "code",
   "execution_count": 82,
   "id": "3e56f740",
   "metadata": {},
   "outputs": [
    {
     "data": {
      "text/plain": [
       "6"
      ]
     },
     "execution_count": 82,
     "metadata": {},
     "output_type": "execute_result"
    }
   ],
   "source": [
    "multiply({\"x\":2, \"y\":3})"
   ]
  },
  {
   "cell_type": "code",
   "execution_count": 83,
   "id": "7543d4b4",
   "metadata": {},
   "outputs": [],
   "source": [
    "@tool\n",
    "def search(query: str):\n",
    "    \"\"\"search the web for a query and return the results\"\"\"\n",
    "    tavily=TavilySearchResults()\n",
    "    result=tavily.invoke(query)\n",
    "    return f\"Result for {query} is: \\n{result}\""
   ]
  },
  {
   "cell_type": "code",
   "execution_count": 84,
   "id": "398e2946",
   "metadata": {},
   "outputs": [
    {
     "name": "stdout",
     "output_type": "stream",
     "text": [
      "Result for What is the capital of France? is: \n",
      "[{'title': 'List of capitals of France - Wikipedia', 'url': 'https://en.wikipedia.org/wiki/List_of_capitals_of_France', 'content': 'This is a chronological list of capitals of France. The capital of France has been Paris since its liberation in 1944.\\n\\n## Chronology\\n\\n[edit] [...] - Tours (10–13 June 1940), the city served as the temporary capital of France during World War II after the government fled Paris due to the German advance.\\n- Bordeaux (June 1940), the government was relocated from Paris to Tours then Bordeaux very briefly during World War II, when it became apparent that Paris would soon fall into German hands. [...] - Paris (1789–1871), on 5 and 6 October 1789, a throng from Paris invaded the castle and forced the royal family to move back to Paris. The National Constituent Assembly \"National Constituent Assembly (France)\") followed the King to Paris soon afterward; Versailles lost its role of capital city.', 'score': 0.8993429}, {'title': 'Paris facts: the capital of France in history', 'url': 'https://home.adelphi.edu/~ca19535/page%204.html', 'content': 'page 4\\n\\n|  |  |  |  |  |  |  |\\n| --- | --- | --- | --- | --- | --- | --- |\\n| Home | Spain | Sydney | San Francisco | Paris | Las Vegas | Maui |\\n\\n  \\nParis, France  \\n\\n  \\n\\n## Paris facts: Paris, the capital of France\\n\\nParis is the capital of France,\\nthe largest country of Europe\\nwith 550 000 km2 (65 millions inhabitants).\\n\\nParis has 2.234 million inhabitants\\nend 2011. She is the core of Ile de France region (12 million\\npeople). [...] Paris remained the capital of\\nFrance until today, with one four year interruption. During\\nGerman occupation (WW2 , 1940-1944), the capital of France was Vichy.\\n\\ngo to top\\n\\nReference: [...] ## Paris facts: the capital of France in history\\n\\nBefore Paris, the capital of France\\nwas Lyon\\n(under the Romans). Paris first became the capital of France in\\n508 under King Clovis. After centuries with no unique capital of\\nFrance, Paris retrieved its status of capital of France under King\\nPhilippe Auguste, who reigned between 1180 and 1223. You\\ncan see remains of the Philippe August Paris walls in the\\npassageway between the Louvre\\nparking and Louvre Museum', 'score': 0.8877607}, {'title': 'France | History, Maps, Flag, Population, Cities, Capital, & Facts', 'url': 'https://www.britannica.com/place/France', 'content': 'The capital and by far the most important city of France is Paris, one of the world’s preeminent cultural and commercial centres. A majestic city known as the ville lumière, or “city of light,” Paris has often been remade, most famously in the mid-19th century under the command of Georges-Eugène, Baron Haussman, who was committed to Napoleon III’s vision of a modern city free of the choleric swamps and congested alleys of old, with broad avenues and a regular plan. Paris is now a sprawling [...] Quick Facts\\n\\nFrance\\n\\nSee article: flag of France\\n\\nAudio File:\\nAnthem of France (see article)\\n\\nHead Of Government:\\n:   Prime minister: François Bayrou\\n\\n(Show more)\\n\\nCapital:\\n:   Paris\\n\\n(Show more)\\n\\nPopulation:\\n:   (2025 est.) 66,607,000\\n\\n(Show more)\\n\\nCurrency Exchange Rate:\\n:   1 USD equals 0.886 euro\\n\\n(Show more)\\n\\nHead Of State:\\n:   President: Emmanuel Macron\\n\\n(Show more)\\n\\nForm Of Government:\\n:   republic with two legislative houses (Parliament; Senate , National Assembly )\\n\\n(Show more) [...] Among France’s other major cities are Lyon, located along an ancient Rhône valley trade route linking the North Sea and the Mediterranean; Marseille, a multiethnic port on the Mediterranean founded as an entrepôt for Greek and Carthaginian traders in the 6th century bce; Nantes, an industrial centre and deepwater harbour along the Atlantic coast; and Bordeaux, located in southwestern France along the Garonne River.\\n\\nBritannica Chatbot logo\\n\\n# Britannica Chatbot', 'score': 0.8729662}, {'title': 'Paris - Wikipedia', 'url': 'https://en.wikipedia.org/wiki/Paris', 'content': 'Appearance\\n\\nmove to sidebar hide\\n\\nCoordinates: 48°51′24″N 2°21′8″E / 48.85667°N 2.35222°E / 48.85667; 2.35222_region:FR-75C)\\n\\nImage 4: This is a good article. Click here for more information.\\n\\nImage 5: Page semi-protected\\n\\nFrom Wikipedia, the free encyclopedia\\n\\nCapital and largest city of France\\n\\nThis article is about the capital city of France. For other uses, see Paris (disambiguation) \"Paris (disambiguation)\"). [...] Paris (French pronunciation:( \"Help:IPA/French\")ⓘ) is the capital and largest city of France. With an estimated population of 2,048,472 in January 2025( in an area of more than 105 km 2 (41 sq mi),( Paris is the fourth-most populous city in the European Union and the 30th most densely populated city in the world in 2022.( Since the 17th century, Paris has been one of the world\\'s major centres of finance, diplomacy, commerce, culture, fashion, and gastronomy. Because of its leading role in the [...] By the end of the 12th century, Paris had become the political, economic, religious, and cultural capital of France.( The Palais de la Cité, the royal residence, was located at the western end of the Île de la Cité. In 1163, during the reign of Louis VII, Maurice de Sully, bishop of Paris, undertook the construction of the Notre Dame Cathedral at its eastern extremity.', 'score': 0.8668671}, {'title': 'Paris, France - Intercultural City - The Council of Europe', 'url': 'https://www.coe.int/en/web/interculturalcities/paris', 'content': 'Paris is the capital and most populous city of France. Situated on the Seine River, in the north of the country, it is in the centre of the Île-de-France region, also known as the région parisienne, \"Paris Region\". The City of Paris has an area of 105 km² and a population of 2,241,346 (2014 estimate). Since the 19th century, the built-up area of Paris has grown far beyond its administrative borders; together with its suburbs, the whole agglomeration has a population of 10,550,350 (Jan. 2012', 'score': 0.8405867}]\n"
     ]
    }
   ],
   "source": [
    "print(search.invoke({\"query\":\"What is the capital of France?\"}))"
   ]
  },
  {
   "cell_type": "code",
   "execution_count": 85,
   "id": "174a5c22",
   "metadata": {},
   "outputs": [],
   "source": [
    "tools = [multiply, search]"
   ]
  },
  {
   "cell_type": "code",
   "execution_count": 86,
   "id": "91e27ee5",
   "metadata": {},
   "outputs": [
    {
     "data": {
      "text/plain": [
       "[StructuredTool(name='multiply', description='Multiplies two numbers.', args_schema=<class 'langchain_core.utils.pydantic.multiply'>, func=<function multiply at 0x000002016958E5C0>),\n",
       " StructuredTool(name='search', description='search the web for a query and return the results', args_schema=<class 'langchain_core.utils.pydantic.search'>, func=<function search at 0x00000201670EA480>)]"
      ]
     },
     "execution_count": 86,
     "metadata": {},
     "output_type": "execute_result"
    }
   ],
   "source": [
    "tools"
   ]
  },
  {
   "cell_type": "code",
   "execution_count": 87,
   "id": "95c3a87e",
   "metadata": {},
   "outputs": [],
   "source": [
    "llm_with_tool=llm.bind_tools(tools)"
   ]
  },
  {
   "cell_type": "code",
   "execution_count": 88,
   "id": "04fb42b5",
   "metadata": {},
   "outputs": [],
   "source": [
    "result = llm_with_tool.invoke(\"What is the current GDP of India?\")"
   ]
  },
  {
   "cell_type": "code",
   "execution_count": 89,
   "id": "6035547e",
   "metadata": {},
   "outputs": [
    {
     "data": {
      "text/plain": [
       "''"
      ]
     },
     "execution_count": 89,
     "metadata": {},
     "output_type": "execute_result"
    }
   ],
   "source": [
    "result.content"
   ]
  },
  {
   "cell_type": "code",
   "execution_count": 90,
   "id": "2867039c",
   "metadata": {},
   "outputs": [
    {
     "data": {
      "text/plain": [
       "[{'name': 'search',\n",
       "  'args': {'query': 'current GDP of India'},\n",
       "  'id': 'pz33mhmfk',\n",
       "  'type': 'tool_call'}]"
      ]
     },
     "execution_count": 90,
     "metadata": {},
     "output_type": "execute_result"
    }
   ],
   "source": [
    "result.tool_calls"
   ]
  },
  {
   "cell_type": "code",
   "execution_count": 91,
   "id": "06fcbc91",
   "metadata": {},
   "outputs": [
    {
     "data": {
      "text/plain": [
       "'search'"
      ]
     },
     "execution_count": 91,
     "metadata": {},
     "output_type": "execute_result"
    }
   ],
   "source": [
    "result.tool_calls[0][\"name\"]"
   ]
  },
  {
   "cell_type": "code",
   "execution_count": 92,
   "id": "7f7678f3",
   "metadata": {},
   "outputs": [
    {
     "data": {
      "text/plain": [
       "{'query': 'current GDP of India'}"
      ]
     },
     "execution_count": 92,
     "metadata": {},
     "output_type": "execute_result"
    }
   ],
   "source": [
    "result.tool_calls[0][\"args\"]"
   ]
  },
  {
   "cell_type": "code",
   "execution_count": 93,
   "id": "bdfc45d8",
   "metadata": {},
   "outputs": [
    {
     "data": {
      "text/plain": [
       "dict"
      ]
     },
     "execution_count": 93,
     "metadata": {},
     "output_type": "execute_result"
    }
   ],
   "source": [
    "type(result.tool_calls[0][\"args\"])"
   ]
  },
  {
   "cell_type": "code",
   "execution_count": 94,
   "id": "6c4b162b",
   "metadata": {},
   "outputs": [],
   "source": [
    "tool_mapping={tool.name:tool for tool in tools}"
   ]
  },
  {
   "cell_type": "code",
   "execution_count": 95,
   "id": "1d6c752a",
   "metadata": {},
   "outputs": [
    {
     "data": {
      "text/plain": [
       "{'multiply': StructuredTool(name='multiply', description='Multiplies two numbers.', args_schema=<class 'langchain_core.utils.pydantic.multiply'>, func=<function multiply at 0x000002016958E5C0>),\n",
       " 'search': StructuredTool(name='search', description='search the web for a query and return the results', args_schema=<class 'langchain_core.utils.pydantic.search'>, func=<function search at 0x00000201670EA480>)}"
      ]
     },
     "execution_count": 95,
     "metadata": {},
     "output_type": "execute_result"
    }
   ],
   "source": [
    "tool_mapping"
   ]
  },
  {
   "cell_type": "code",
   "execution_count": 96,
   "id": "371c4aa8",
   "metadata": {},
   "outputs": [
    {
     "data": {
      "text/plain": [
       "StructuredTool(name='search', description='search the web for a query and return the results', args_schema=<class 'langchain_core.utils.pydantic.search'>, func=<function search at 0x00000201670EA480>)"
      ]
     },
     "execution_count": 96,
     "metadata": {},
     "output_type": "execute_result"
    }
   ],
   "source": [
    "tool_mapping[\"search\"]"
   ]
  },
  {
   "cell_type": "code",
   "execution_count": 97,
   "id": "959966b7",
   "metadata": {},
   "outputs": [],
   "source": [
    "#manually \n",
    "# tool_mapping[\"search\"].invoke({\"query\":\"What is the capital of india?\"})"
   ]
  },
  {
   "cell_type": "code",
   "execution_count": 98,
   "id": "b7a90fb4",
   "metadata": {},
   "outputs": [
    {
     "data": {
      "text/plain": [
       "'Result for current GDP of India is: \\n[{\\'title\\': \\'India Becoming An Economic Powerhouse - PIB\\', \\'url\\': \\'https://www.pib.gov.in/PressNoteDetails.aspx?NoteId=154660\\', \\'content\\': \\'India’s GDP has witnessed a remarkable transformation over the past decade. At current prices, GDP has increased from ₹106.57 lakh crore in 2014–15 to an estimated ₹331.03 lakh crore in 2024–25, an approximate threefold rise in just ten years. In 2024–25 alone, nominal GDP grew by 9.9% over the previous year, while real GDP (at constant prices) increased by 6.5%, reflecting sustained economic momentum. This steep growth reflects the country’s expanding economic base and rising income levels. [...] India, the world’s fourth-largest economy, has emerged as the fastest-growing major economy and is on track to become the world’s third-largest economy with a projected GDP of $7.3 trillion by 2030. India is projected to be world’s fastest growing major economy (6.3% to 6.8% in 2025-26). This transformation is the result of a decade of decisive governance, visionary reforms, and global engagement under Prime Minister Narendra Modi. Driven by robust domestic demand, a dynamic demographic [...] This growth was supported by a marginal increase in merchandise exports, which stood at US$ 437.42 billion in FY 2024–25 compared to US$ 437.07 billion in the previous year, reflecting stability in goods-based trade. Over the decade, merchandise exports rose from US$ 310 billion in 2013–14 to US$ 437.42 billion in 2024–25, marking a 39% increase, driven by sectors such as engineering goods, petroleum products, and electronics.\\', \\'score\\': 0.8834878}, {\\'title\\': \\'India GDP - Worldometer\\', \\'url\\': \\'https://www.worldometers.info/gdp/india-gdp/\\', \\'content\\': \\'| Year | GDP Nominal (Current USD) | GDP Real (Inflation adj.) | GDP Change | GDP per capita | Pop. Change | Population |\\\\n| --- | --- | --- | --- | --- | --- | --- |\\\\n| 2023 | $3,567,550,000,000 | $3,215,970,000,000 | 8.15% | $2,236 | 0.89% | 1,438,069,596 |\\\\n| 2022 | $3,353,470,000,000 | $2,973,540,000,000 | 6.99% | $2,086 | 0.79% | 1,425,423,212 |\\\\n| 2021 | $3,167,270,000,000 | $2,779,350,000,000 | 9.69% | $1,965 | 0.83% | 1,414,203,896 | [...] | 2020 | $2,674,850,000,000 | $2,533,830,000,000 | −5.78% | $1,807 | 0.98% | 1,402,617,695 |\\\\n| 2019 | $2,835,610,000,000 | $2,689,210,000,000 | 3.87% | $1,936 | 1.05% | 1,389,030,312 |\\\\n| 2018 | $2,702,930,000,000 | $2,588,970,000,000 | 6.45% | $1,883 | 1.1% | 1,374,659,064 |\\\\n| 2017 | $2,651,470,000,000 | $2,432,020,000,000 | 6.8% | $1,789 | 1.17% | 1,359,657,400 |\\\\n| 2016 | $2,294,800,000,000 | $2,277,270,000,000 | 8.26% | $1,694 | 1.2% | 1,343,944,296 | [...] | 2015 | $2,103,590,000,000 | $2,103,590,000,000 | 8% | $1,584 | 1.2% | 1,328,024,498 |\\\\n| 2014 | $2,039,130,000,000 | $1,947,830,000,000 | 7.41% | $1,484 | 1.27% | 1,312,277,191 |\\\\n| 2013 | $1,856,720,000,000 | $1,813,450,000,000 | 6.39% | $1,399 | 1.34% | 1,295,829,511 |\\\\n| 2012 | $1,827,640,000,000 | $1,704,600,000,000 | 5.46% | $1,333 | 1.38% | 1,278,674,502 |\\\\n| 2011 | $1,823,050,000,000 | $1,616,400,000,000 | 5.24% | $1,282 | 1.43% | 1,261,224,954 |\\', \\'score\\': 0.85538095}, {\\'title\\': \\'World GDP Ranking 2025 List - ClearTax\\', \\'url\\': \\'https://cleartax.in/s/world-gdp-ranking-list\\', \\'content\\': \"India is currently ranked as the 4th largest economy globally in 2025 as of July 2025, overtaking Japan to secure the 4th position among the world\\'s top 10 largest economies, with a nominal GDP of $4.19 trillion in 2025. Moreover, the IMF forecasts that by 2028, India will overtake Germany to become the 3rd largest economy worldwide. [...] As per IMF projections, India\\'s GDP grow is at 6.2% in 2024-25 and 2025-26.With an estimated real GDP of Rs. 187.95 lakh crore in 2024-25, against the real GDP of Rs. 176.51 in 2023-24 generated by a population of over 1 billion, India is among the highest population-based economies in the world. India’s nominal GDP has grown 105% in just a decade, which means that it has more than doubled from 2014 to 2025. [...] In 2025, India has become a $4 trillion economy. As per IMF Data, India is the 4th largest economy in the world in the year 2025 on par with Japan. Today,India’s leading economic contributors are traditional and modern agriculture, technology services, the handicraft industry, and business outsourcing.\", \\'score\\': 0.8539252}, {\\'title\\': \\'India Fiscal Year GDP Growth - Trading Economics\\', \\'url\\': \\'https://tradingeconomics.com/india/full-year-gdp-growth\\', \\'content\\': \\'| Related | Last | Unit | Reference |\\\\n| --- | --- | --- | --- |\\\\n| Fiscal Year GDP Growth | 6.50 | percent | Mar 2025 |\\\\n| GDP | 3912.69 | USD Billion | Dec 2024 |\\\\n| GDP Growth Rate YoY | 7.40 | percent | Mar 2025 |\\\\n| GDP Constant Prices | 51351.63 | INR Billion | Mar 2025 |\\\\n| GDP from Agriculture | 6773.89 | INR Billion | Mar 2025 |\\\\n| GDP from Construction | 4636.41 | INR Billion | Mar 2025 |\\\\n| GDP from Manufacturing | 8299.55 | INR Billion | Mar 2025 | [...] ## Full Year GDP Growth in India decreased to 6.50 percent in 2025 from 9.20 percent in 2024. Full Year GDP Growth in India averaged 6.42 percent from 2006 until 2025, reaching an all time high of 9.70 percent in 2022 and a record low of -5.80 percent in 2021. This page includes a chart with historical data for India Full Year GDP Growth. India Fiscal Year GDP Growth - data, historical chart, forecasts and calendar of releases - was last updated on July of 2025. [...] | GDP from Mining | 1013.49 | INR Billion | Mar 2025 |\\\\n| GDP from Public Administration | 5623.82 | INR Billion | Mar 2025 |\\\\n| GDP from Utilities | 1000.44 | INR Billion | Mar 2025 |\\\\n| GDP Growth Rate | 2.00 | percent | Mar 2025 |\\\\n| Gross Fixed Capital Formation | 17411.50 | INR Billion | Mar 2025 |\\', \\'score\\': 0.8033131}, {\\'title\\': \\'India Indicators - Trading Economics\\', \\'url\\': \\'https://tradingeconomics.com/india/indicators\\', \\'content\\': \\'|  | Last | Previous | Highest | Lowest |  |  |\\\\n| --- | --- | --- | --- | --- | --- | --- |\\\\n| GDP Growth Rate | 2 | 1.9 | 22.6 | -22.8 | percent | Mar/25 |\\\\n| GDP Annual Growth Rate | 7.4 | 6.4 | 22.6 | -23.1 | percent | Mar/25 |\\\\n| GDP | 3913 | 3638 | 3913 | 37.03 | USD Billion | Dec/24 |\\\\n| GDP Constant Prices | 51352 | 47265 | 51352 | 20429 | INR Billion | Mar/25 |\\\\n| Gross National Product | 18523133 | 17404638 | 18523133 | 5442938 | INR Tens Of Million | Dec/24 | [...] | Gross Fixed Capital Formation | 17412 | 14991 | 17412 | 6872 | INR Billion | Mar/25 |\\\\n| GDP per Capita | 2397 | 2271 | 2397 | 313 | USD | Dec/24 |\\\\n| GDP per Capita PPP | 9817 | 9302 | 9817 | 2179 | USD | Dec/24 |\\\\n| Full Year GDP Growth | 6.5 | 9.2 | 9.7 | -5.8 | percent | Mar/25 |\\\\n| GDP from Agriculture | 6774 | 7757 | 7757 | 2691 | INR Billion | Mar/25 |\\\\n| GDP from Construction | 4636 | 3900 | 4636 | 1438 | INR Billion | Mar/25 | [...] |  | Last | Previous | Highest | Lowest |  |  |\\\\n| --- | --- | --- | --- | --- | --- | --- |\\\\n| Balance of Trade | -18.78 | -21.88 | 0.71 | -37.84 | USD Billion | Jun/25 |\\\\n| Current Account | 13500 | -11457 | 19083 | -31857 | USD Million | Mar/25 |\\\\n| Current Account to GDP | -0.7 | -2 | 2.3 | -4.8 | percent of GDP | Dec/23 |\\\\n| Exports | 35.14 | 38.73 | 44.57 | 0.06 | USD Billion | Jun/25 |\\\\n| Imports | 53.92 | 60.61 | 69.95 | 0.12 | USD Billion | Jun/25 |\\', \\'score\\': 0.79580134}]'"
      ]
     },
     "execution_count": 98,
     "metadata": {},
     "output_type": "execute_result"
    }
   ],
   "source": [
    "tool_mapping[result.tool_calls[0][\"name\"]].invoke(result.tool_calls[0][\"args\"])"
   ]
  },
  {
   "cell_type": "code",
   "execution_count": 99,
   "id": "9187d725",
   "metadata": {},
   "outputs": [],
   "source": [
    "from typing import TypedDict, Sequence, Annotated"
   ]
  },
  {
   "cell_type": "code",
   "execution_count": 100,
   "id": "14dec9e9",
   "metadata": {},
   "outputs": [],
   "source": [
    "import operator"
   ]
  },
  {
   "cell_type": "code",
   "execution_count": 101,
   "id": "fd202d38",
   "metadata": {},
   "outputs": [],
   "source": [
    "from langchain_core.messages import BaseMessage"
   ]
  },
  {
   "cell_type": "code",
   "execution_count": 102,
   "id": "ef04f855",
   "metadata": {},
   "outputs": [],
   "source": [
    "class AgentState(TypedDict):\n",
    "    \"\"\"State for the agent.\"\"\"\n",
    "    messages: Annotated[Sequence[BaseMessage],operator.add]"
   ]
  },
  {
   "cell_type": "code",
   "execution_count": 103,
   "id": "dc4cfcd2",
   "metadata": {},
   "outputs": [],
   "source": [
    "def invoke_model(state:AgentState):\n",
    "    messages=state[\"messages\"]\n",
    "    question=messages[-1]\n",
    "    response=llm_with_tool.invoke(question)\n",
    "    return {\"messages\":[response]}"
   ]
  },
  {
   "cell_type": "code",
   "execution_count": 104,
   "id": "36b4a667",
   "metadata": {},
   "outputs": [],
   "source": [
    "def router(state:AgentState):\n",
    "    tool_calls=state[\"messages\"][-1].tool_calls\n",
    "    if len(tool_calls)>0:\n",
    "        return \"tool\" #key name\n",
    "    else:\n",
    "        return \"end\" #key name"
   ]
  },
  {
   "cell_type": "code",
   "execution_count": 105,
   "id": "49e01067",
   "metadata": {},
   "outputs": [],
   "source": [
    "def invoke_tool(state:AgentState):\n",
    "    tool_details=state[\"messages\"][-1].tool_calls\n",
    "    \n",
    "    if tool_details is None:\n",
    "        return Exception(\"No tool calls found in the last message.\")\n",
    "    \n",
    "    print(f\"Seleted tool: {tool_details[0]['name']}\")\n",
    "    \n",
    "    if tool_details[0][\"name\"]==\"search\":\n",
    "        response=input(prompt=f\"[yes/no] do you want to continue with this expensive web search\")\n",
    "        if response.lower()==\"no\":\n",
    "            print(\"web search discarded by the user. exiting gracefully\")\n",
    "            raise Exception(\"Web search discarded by the user.\")\n",
    "            \n",
    "    \n",
    "    response=tool_mapping[tool_details[0][\"name\"]].invoke(tool_details[0][\"args\"])\n",
    "    return {\"messages\":[response]}"
   ]
  },
  {
   "cell_type": "markdown",
   "id": "392d9e9d",
   "metadata": {},
   "source": [
    "### eariler we were using the tool node from list of tool\n",
    "### but now we have create tool invoke(custom funtion)\n",
    "### why we are doing it: as a user if we want to take a authority to which i need to give permission for execution"
   ]
  },
  {
   "cell_type": "code",
   "execution_count": 106,
   "id": "336db198",
   "metadata": {},
   "outputs": [],
   "source": [
    "from langgraph.graph import StateGraph, START,END"
   ]
  },
  {
   "cell_type": "code",
   "execution_count": 107,
   "id": "6dc8e195",
   "metadata": {},
   "outputs": [],
   "source": [
    "graph=StateGraph(AgentState)"
   ]
  },
  {
   "cell_type": "code",
   "execution_count": 108,
   "id": "0522e50f",
   "metadata": {},
   "outputs": [
    {
     "data": {
      "text/plain": [
       "<langgraph.graph.state.StateGraph at 0x20169534ad0>"
      ]
     },
     "execution_count": 108,
     "metadata": {},
     "output_type": "execute_result"
    }
   ],
   "source": [
    "graph.add_node(\"ai_assistant\", invoke_model)"
   ]
  },
  {
   "cell_type": "code",
   "execution_count": 109,
   "id": "4977922f",
   "metadata": {},
   "outputs": [
    {
     "data": {
      "text/plain": [
       "<langgraph.graph.state.StateGraph at 0x20169534ad0>"
      ]
     },
     "execution_count": 109,
     "metadata": {},
     "output_type": "execute_result"
    }
   ],
   "source": [
    "graph.add_node(\"tool\", invoke_tool)"
   ]
  },
  {
   "cell_type": "code",
   "execution_count": 110,
   "id": "6a3615a7",
   "metadata": {},
   "outputs": [
    {
     "data": {
      "text/plain": [
       "<langgraph.graph.state.StateGraph at 0x20169534ad0>"
      ]
     },
     "execution_count": 110,
     "metadata": {},
     "output_type": "execute_result"
    }
   ],
   "source": [
    "graph.add_conditional_edges(\"ai_assistant\",\n",
    "                            router,\n",
    "                            {\n",
    "                                \"tool\":\"tool\", ##with the key tool which value is associated <tool>\n",
    "                                \"end\":END\n",
    "                            }\n",
    "                            )"
   ]
  },
  {
   "cell_type": "code",
   "execution_count": 111,
   "id": "1ebe0cd4",
   "metadata": {},
   "outputs": [
    {
     "data": {
      "text/plain": [
       "<langgraph.graph.state.StateGraph at 0x20169534ad0>"
      ]
     },
     "execution_count": 111,
     "metadata": {},
     "output_type": "execute_result"
    }
   ],
   "source": [
    "graph.add_edge(\"tool\", END)"
   ]
  },
  {
   "cell_type": "code",
   "execution_count": 112,
   "id": "2a08806d",
   "metadata": {},
   "outputs": [
    {
     "data": {
      "text/plain": [
       "<langgraph.graph.state.StateGraph at 0x20169534ad0>"
      ]
     },
     "execution_count": 112,
     "metadata": {},
     "output_type": "execute_result"
    }
   ],
   "source": [
    "graph.set_entry_point(\"ai_assistant\")"
   ]
  },
  {
   "cell_type": "code",
   "execution_count": 113,
   "id": "2ff33432",
   "metadata": {},
   "outputs": [],
   "source": [
    "app=graph.compile()"
   ]
  },
  {
   "cell_type": "code",
   "execution_count": 114,
   "id": "0e6adaf8",
   "metadata": {},
   "outputs": [
    {
     "data": {
      "image/png": "[encoded data removed]",
      "text/plain": [
       "<IPython.core.display.Image object>"
      ]
     },
     "metadata": {},
     "output_type": "display_data"
    }
   ],
   "source": [
    "from IPython.display import Image, display\n",
    "display(Image(app.get_graph().draw_mermaid_png()))"
   ]
  },
  {
   "cell_type": "code",
   "execution_count": 117,
   "id": "a7ef394b",
   "metadata": {},
   "outputs": [
    {
     "name": "stdout",
     "output_type": "stream",
     "text": [
      "Seleted tool: search\n"
     ]
    },
    {
     "data": {
      "text/plain": [
       "{'messages': ['What is the current gdp of the india?',\n",
       "  AIMessage(content='', additional_kwargs={'tool_calls': [{'id': 'fbpc376fd', 'function': {'arguments': '{\"query\":\"current GDP of India\"}', 'name': 'search'}, 'type': 'function'}]}, response_metadata={'token_usage': {'completion_tokens': 75, 'prompt_tokens': 176, 'total_tokens': 251, 'completion_time': 0.289939576, 'prompt_time': 0.010954767, 'queue_time': 0.20196825799999998, 'total_time': 0.300894343}, 'model_name': 'deepseek-r1-distill-llama-70b', 'system_fingerprint': 'fp_1bbe7845ec', 'finish_reason': 'tool_calls', 'logprobs': None}, id='run--d2a58fb1-a74f-4ed1-8ca3-a01f45057a2a-0', tool_calls=[{'name': 'search', 'args': {'query': 'current GDP of India'}, 'id': 'fbpc376fd', 'type': 'tool_call'}], usage_metadata={'input_tokens': 176, 'output_tokens': 75, 'total_tokens': 251}),\n",
       "  'Result for current GDP of India is: \\n[{\\'title\\': \\'India Becoming An Economic Powerhouse - PIB\\', \\'url\\': \\'https://www.pib.gov.in/PressNoteDetails.aspx?NoteId=154660\\', \\'content\\': \\'India’s GDP has witnessed a remarkable transformation over the past decade. At current prices, GDP has increased from ₹106.57 lakh crore in 2014–15 to an estimated ₹331.03 lakh crore in 2024–25, an approximate threefold rise in just ten years. In 2024–25 alone, nominal GDP grew by 9.9% over the previous year, while real GDP (at constant prices) increased by 6.5%, reflecting sustained economic momentum. This steep growth reflects the country’s expanding economic base and rising income levels. [...] India, the world’s fourth-largest economy, has emerged as the fastest-growing major economy and is on track to become the world’s third-largest economy with a projected GDP of $7.3 trillion by 2030. India is projected to be world’s fastest growing major economy (6.3% to 6.8% in 2025-26). This transformation is the result of a decade of decisive governance, visionary reforms, and global engagement under Prime Minister Narendra Modi. Driven by robust domestic demand, a dynamic demographic [...] This growth was supported by a marginal increase in merchandise exports, which stood at US$ 437.42 billion in FY 2024–25 compared to US$ 437.07 billion in the previous year, reflecting stability in goods-based trade. Over the decade, merchandise exports rose from US$ 310 billion in 2013–14 to US$ 437.42 billion in 2024–25, marking a 39% increase, driven by sectors such as engineering goods, petroleum products, and electronics.\\', \\'score\\': 0.8834878}, {\\'title\\': \\'World GDP Ranking 2025 List - ClearTax\\', \\'url\\': \\'https://cleartax.in/s/world-gdp-ranking-list\\', \\'content\\': \"India is currently ranked as the 4th largest economy globally in 2025 as of July 2025, overtaking Japan to secure the 4th position among the world\\'s top 10 largest economies, with a nominal GDP of $4.19 trillion in 2025. Moreover, the IMF forecasts that by 2028, India will overtake Germany to become the 3rd largest economy worldwide. [...] As per IMF projections, India\\'s GDP grow is at 6.2% in 2024-25 and 2025-26.With an estimated real GDP of Rs. 187.95 lakh crore in 2024-25, against the real GDP of Rs. 176.51 in 2023-24 generated by a population of over 1 billion, India is among the highest population-based economies in the world. India’s nominal GDP has grown 105% in just a decade, which means that it has more than doubled from 2014 to 2025. [...] In 2025, India has become a $4 trillion economy. As per IMF Data, India is the 4th largest economy in the world in the year 2025 on par with Japan. Today,India’s leading economic contributors are traditional and modern agriculture, technology services, the handicraft industry, and business outsourcing.\", \\'score\\': 0.8539252}, {\\'title\\': \\'India GDP - Trading Economics\\', \\'url\\': \\'https://tradingeconomics.com/india/gdp\\', \\'content\\': \\'##### Members\\\\n\\\\n##### \\\\n\\\\n# India GDP\\\\n\\\\n## The Gross Domestic Product (GDP) in India was worth 3912.69 billion US dollars in 2024, according to official data from the World Bank. The GDP value of India represents 3.69 percent of the world economy. source: World Bank [...] ## GDP in India averaged 834.50 USD Billion from 1960 until 2024, reaching an all time high of 3912.69 USD Billion in 2024 and a record low of 37.03 USD Billion in 1960. This page provides the latest reported value for - India GDP - plus previous releases, historical high and low, short-term forecast and long-term prediction, economic calendar, survey consensus and news. India GDP - values, historical data and charts - was last updated on July of 2025. [...] | Related | Last | Unit | Reference |\\\\n| --- | --- | --- | --- |\\\\n| Fiscal Year GDP Growth | 6.50 | percent | Mar 2025 |\\\\n| GDP | 3912.69 | USD Billion | Dec 2024 |\\\\n| GDP Growth Rate YoY | 7.40 | percent | Mar 2025 |\\\\n| GDP Growth Rate | 2.00 | percent | Mar 2025 |\\\\n| GDP per Capita | 2396.71 | USD | Dec 2024 |\\\\n| GDP per Capita PPP | 9817.07 | USD | Dec 2024 |\\', \\'score\\': 0.8455478}, {\\'title\\': \\'India Fiscal Year GDP Growth - Trading Economics\\', \\'url\\': \\'https://tradingeconomics.com/india/full-year-gdp-growth\\', \\'content\\': \\'| Related | Last | Previous | Unit | Reference |\\\\n| --- | --- | --- | --- | --- |\\\\n| Fiscal Year GDP Growth | 6.50 | 9.20 | percent | Mar 2025 |\\\\n| GDP | 3912.69 | 3638.49 | USD Billion | Dec 2024 |\\\\n| GDP Growth Rate YoY | 7.40 | 6.40 | percent | Mar 2025 |\\\\n| GDP Constant Prices | 51351.63 | 47265.42 | INR Billion | Mar 2025 |\\\\n| GDP from Agriculture | 6773.89 | 7757.32 | INR Billion | Mar 2025 |\\\\n| GDP from Construction | 4636.41 | 3899.90 | INR Billion | Mar 2025 | [...] | GDP from Manufacturing | 8299.55 | 6960.49 | INR Billion | Mar 2025 |\\\\n| GDP from Mining | 1013.49 | 824.88 | INR Billion | Mar 2025 |\\\\n| GDP from Public Administration | 5623.82 | 5544.70 | INR Billion | Mar 2025 |\\\\n| GDP from Utilities | 1000.44 | 963.01 | INR Billion | Mar 2025 |\\\\n| GDP Growth Rate | 2.00 | 1.90 | percent | Mar 2025 |\\\\n| Gross Fixed Capital Formation | 17411.50 | 14991.34 | INR Billion | Mar 2025 | [...] ## Full Year GDP Growth in India decreased to 6.50 percent in 2025 from 9.20 percent in 2024. Full Year GDP Growth in India averaged 6.42 percent from 2006 until 2025, reaching an all time high of 9.70 percent in 2022 and a record low of -5.80 percent in 2021. This page includes a chart with historical data for India Full Year GDP Growth. India Fiscal Year GDP Growth - data, historical chart, forecasts and calendar of releases - was last updated on July of 2025.\\', \\'score\\': 0.79901963}, {\\'title\\': \"India\\'s Economic Juggernaut On Way To Becoming The 3rd Largest ...\", \\'url\\': \\'https://www.forbes.com/sites/sarwantsingh/2025/07/14/indias-economic-juggernaut-on-way-to-becoming-the-3rd-largest-economy/\\', \\'content\\': \"Despite external pressures, India\\'s economy continues to demonstrate impressive resilience. In nominal terms, the country is projected to become a USD 30 trillion economy by 2047, targeting an average nominal GDP growth rate of 9%–10% per year. India’s gross savings to GDP ratio, too, is expected to improve, projected to reach 48% by 2036–37 under a linear trend scenario, supporting strong investment-led growth. Though the country faces some concerns regarding the current account balance and [...] India is already on the path to economic greatness, having surpassed Japan recently to become the 4th largest economy in 2025.And that’s just the beginning! By 2028, India is also expected to become the world’s third-largest economy, moving ahead of Germany. India is aiming to add about USD 1 trillion to its GDP every 12 to 18 months over the next decade, targeting a CAGR of 9% nominal GDP growth rate from 2025 to 2047. While this is undoubtedly ambitious, India’s strong macroeconomic [...] Maharashtra, Gujarat, and Tamil Nadu are on track to reach a GDP of USD 1 trillion each by 2035—collectively matching the combined economic might of the United Arab Emirates, Sweden, and Belgium, and highlighting their role as the engines of India’s economic progress. Rapid expansion, urban development, and a focus on high-value industries have transformed these states into manufacturing powerhouses and financial centers, helping India gain a competitive edge and avoiding over-reliance on any\", \\'score\\': 0.7171114}]']}"
      ]
     },
     "execution_count": 117,
     "metadata": {},
     "output_type": "execute_result"
    }
   ],
   "source": [
    "app.invoke({\"messages\":[\"What is the current gdp of the india?\"]})"
   ]
  },
  {
   "cell_type": "code",
   "execution_count": 118,
   "id": "85c627e2",
   "metadata": {},
   "outputs": [
    {
     "name": "stdout",
     "output_type": "stream",
     "text": [
      "Seleted tool: multiply\n"
     ]
    },
    {
     "data": {
      "text/plain": [
       "{'messages': ['What is the multiplication of 5 and 20?',\n",
       "  AIMessage(content='To multiply 5 and 20, I will use the multiply tool with the provided values.\\n\\n', additional_kwargs={'tool_calls': [{'id': '65evp0hwz', 'function': {'arguments': '{\"x\":5,\"y\":20}', 'name': 'multiply'}, 'type': 'function'}]}, response_metadata={'token_usage': {'completion_tokens': 291, 'prompt_tokens': 177, 'total_tokens': 468, 'completion_time': 1.313980386, 'prompt_time': 0.011072316, 'queue_time': 0.202285102, 'total_time': 1.325052702}, 'model_name': 'deepseek-r1-distill-llama-70b', 'system_fingerprint': 'fp_1bbe7845ec', 'finish_reason': 'tool_calls', 'logprobs': None}, id='run--1fbe5db8-531f-421c-bf78-685c92480449-0', tool_calls=[{'name': 'multiply', 'args': {'x': 5, 'y': 20}, 'id': '65evp0hwz', 'type': 'tool_call'}], usage_metadata={'input_tokens': 177, 'output_tokens': 291, 'total_tokens': 468}),\n",
       "  100]}"
      ]
     },
     "execution_count": 118,
     "metadata": {},
     "output_type": "execute_result"
    }
   ],
   "source": [
    "app.invoke({\"messages\":[\"What is the multiplication of 5 and 20?\"]})"
   ]
  },
  {
   "cell_type": "markdown",
   "id": "7246351c",
   "metadata": {},
   "source": [
    "### Langgraph inbuilt human in loop\n"
   ]
  },
  {
   "cell_type": "code",
   "execution_count": 119,
   "id": "35cffb19",
   "metadata": {},
   "outputs": [],
   "source": [
    "from langgraph.prebuilt import ToolNode, tools_condition\n",
    "tool_node=ToolNode(tools)"
   ]
  },
  {
   "cell_type": "code",
   "execution_count": 120,
   "id": "a700c62b",
   "metadata": {},
   "outputs": [],
   "source": [
    "class AgentState(TypedDict):\n",
    "    messages: Annotated[Sequence[BaseMessage], operator.add]"
   ]
  },
  {
   "cell_type": "code",
   "execution_count": 121,
   "id": "28177b2d",
   "metadata": {},
   "outputs": [],
   "source": [
    "llm_with_tools=llm.bind_tools(tools)"
   ]
  },
  {
   "cell_type": "code",
   "execution_count": 122,
   "id": "2ce61381",
   "metadata": {},
   "outputs": [],
   "source": [
    "def ai_assistant(state:AgentState):\n",
    "    response=llm_with_tools.invoke(state[\"messages\"])\n",
    "    return {\"messages\":[response]}"
   ]
  },
  {
   "cell_type": "code",
   "execution_count": 123,
   "id": "d5d951e8",
   "metadata": {},
   "outputs": [],
   "source": [
    "from langgraph.checkpoint.memory import MemorySaver\n",
    "memory=MemorySaver()"
   ]
  },
  {
   "cell_type": "code",
   "execution_count": 124,
   "id": "a34adb12",
   "metadata": {},
   "outputs": [],
   "source": [
    "graph_builder=StateGraph(AgentState)"
   ]
  },
  {
   "cell_type": "code",
   "execution_count": 125,
   "id": "7f3c746e",
   "metadata": {},
   "outputs": [
    {
     "data": {
      "text/plain": [
       "<langgraph.graph.state.StateGraph at 0x201695330e0>"
      ]
     },
     "execution_count": 125,
     "metadata": {},
     "output_type": "execute_result"
    }
   ],
   "source": [
    "graph_builder.add_node(\"ai_assistant\", ai_assistant)"
   ]
  },
  {
   "cell_type": "code",
   "execution_count": 126,
   "id": "81fab06f",
   "metadata": {},
   "outputs": [
    {
     "data": {
      "text/plain": [
       "<langgraph.graph.state.StateGraph at 0x201695330e0>"
      ]
     },
     "execution_count": 126,
     "metadata": {},
     "output_type": "execute_result"
    }
   ],
   "source": [
    "graph_builder.add_node(\"tools\", tool_node)"
   ]
  },
  {
   "cell_type": "code",
   "execution_count": 127,
   "id": "a6d1b9b7",
   "metadata": {},
   "outputs": [
    {
     "data": {
      "text/plain": [
       "<langgraph.graph.state.StateGraph at 0x201695330e0>"
      ]
     },
     "execution_count": 127,
     "metadata": {},
     "output_type": "execute_result"
    }
   ],
   "source": [
    "graph_builder.add_edge(START,\"ai_assistant\")"
   ]
  },
  {
   "cell_type": "code",
   "execution_count": 128,
   "id": "3e1e7d83",
   "metadata": {},
   "outputs": [
    {
     "data": {
      "text/plain": [
       "<langgraph.graph.state.StateGraph at 0x201695330e0>"
      ]
     },
     "execution_count": 128,
     "metadata": {},
     "output_type": "execute_result"
    }
   ],
   "source": [
    "graph_builder.add_conditional_edges(\"ai_assistant\",\n",
    "                                    tools_condition,\n",
    "                                    )"
   ]
  },
  {
   "cell_type": "code",
   "execution_count": 129,
   "id": "6e5112fb",
   "metadata": {},
   "outputs": [
    {
     "data": {
      "text/plain": [
       "<langgraph.graph.state.StateGraph at 0x201695330e0>"
      ]
     },
     "execution_count": 129,
     "metadata": {},
     "output_type": "execute_result"
    }
   ],
   "source": [
    "graph_builder.add_edge(\"tools\", \"ai_assistant\")"
   ]
  },
  {
   "cell_type": "code",
   "execution_count": 130,
   "id": "779524e7",
   "metadata": {},
   "outputs": [],
   "source": [
    "app2=graph_builder.compile(checkpointer=memory,interrupt_before=[\"tools\"])"
   ]
  },
  {
   "cell_type": "code",
   "execution_count": 131,
   "id": "f61bd73b",
   "metadata": {},
   "outputs": [
    {
     "data": {
      "image/png": "[encoded data removed]",
      "text/plain": [
       "<IPython.core.display.Image object>"
      ]
     },
     "metadata": {},
     "output_type": "display_data"
    }
   ],
   "source": [
    "from IPython.display import Image, display\n",
    "display(Image(app2.get_graph().draw_mermaid_png()))"
   ]
  },
  {
   "cell_type": "code",
   "execution_count": 132,
   "id": "338157f5",
   "metadata": {},
   "outputs": [],
   "source": [
    "config={\"configurable\":{\"thread_id\":\"1\"}}"
   ]
  },
  {
   "cell_type": "code",
   "execution_count": 140,
   "id": "5fd8ef35",
   "metadata": {},
   "outputs": [],
   "source": [
    "from langchain_core.messages import HumanMessage\n",
    "response=app2.invoke({\"messages\":[HumanMessage(\"What is the current gdp of the china?\")]},config=config)"
   ]
  },
  {
   "cell_type": "code",
   "execution_count": 141,
   "id": "85944309",
   "metadata": {},
   "outputs": [
    {
     "data": {
      "text/plain": [
       "{'messages': [HumanMessage(content='What is the current gdp of the china?', additional_kwargs={}, response_metadata={}),\n",
       "  AIMessage(content=\"I don't have access to real-time data, including the current GDP of China. For the most accurate and up-to-date information, I recommend checking a reliable source like the World Bank, IMF, or official Chinese economic reports. Let me know if you'd like help finding a specific source!\", additional_kwargs={}, response_metadata={'token_usage': {'completion_tokens': 143, 'prompt_tokens': 176, 'total_tokens': 319, 'completion_time': 0.590518117, 'prompt_time': 0.010951665, 'queue_time': 0.202081989, 'total_time': 0.601469782}, 'model_name': 'deepseek-r1-distill-llama-70b', 'system_fingerprint': 'fp_1bbe7845ec', 'finish_reason': 'stop', 'logprobs': None}, id='run--fa6f9a78-843e-4cc8-83c1-a7650b837f0e-0', usage_metadata={'input_tokens': 176, 'output_tokens': 143, 'total_tokens': 319}),\n",
       "  HumanMessage(content='What is the current gdp of the china?', additional_kwargs={}, response_metadata={}),\n",
       "  AIMessage(content='', additional_kwargs={'tool_calls': [{'id': 'gqe41eqnn', 'function': {'arguments': '{\"query\":\"current GDP of China\"}', 'name': 'search'}, 'type': 'function'}]}, response_metadata={'token_usage': {'completion_tokens': 251, 'prompt_tokens': 248, 'total_tokens': 499, 'completion_time': 1.047800742, 'prompt_time': 0.016112438, 'queue_time': 0.202006786, 'total_time': 1.06391318}, 'model_name': 'deepseek-r1-distill-llama-70b', 'system_fingerprint': 'fp_1bbe7845ec', 'finish_reason': 'tool_calls', 'logprobs': None}, id='run--06aa4a62-f984-4e44-a50d-bb53d22195ad-0', tool_calls=[{'name': 'search', 'args': {'query': 'current GDP of China'}, 'id': 'gqe41eqnn', 'type': 'tool_call'}], usage_metadata={'input_tokens': 248, 'output_tokens': 251, 'total_tokens': 499})]}"
      ]
     },
     "execution_count": 141,
     "metadata": {},
     "output_type": "execute_result"
    }
   ],
   "source": [
    "response"
   ]
  },
  {
   "cell_type": "code",
   "execution_count": 142,
   "id": "0accc478",
   "metadata": {},
   "outputs": [],
   "source": [
    "snapshot=app2.get_state(config)"
   ]
  },
  {
   "cell_type": "code",
   "execution_count": 143,
   "id": "553f8cd4",
   "metadata": {},
   "outputs": [
    {
     "data": {
      "text/plain": [
       "StateSnapshot(values={'messages': [HumanMessage(content='What is the current gdp of the china?', additional_kwargs={}, response_metadata={}), AIMessage(content=\"I don't have access to real-time data, including the current GDP of China. For the most accurate and up-to-date information, I recommend checking a reliable source like the World Bank, IMF, or official Chinese economic reports. Let me know if you'd like help finding a specific source!\", additional_kwargs={}, response_metadata={'token_usage': {'completion_tokens': 143, 'prompt_tokens': 176, 'total_tokens': 319, 'completion_time': 0.590518117, 'prompt_time': 0.010951665, 'queue_time': 0.202081989, 'total_time': 0.601469782}, 'model_name': 'deepseek-r1-distill-llama-70b', 'system_fingerprint': 'fp_1bbe7845ec', 'finish_reason': 'stop', 'logprobs': None}, id='run--fa6f9a78-843e-4cc8-83c1-a7650b837f0e-0', usage_metadata={'input_tokens': 176, 'output_tokens': 143, 'total_tokens': 319}), HumanMessage(content='What is the current gdp of the china?', additional_kwargs={}, response_metadata={}), AIMessage(content='', additional_kwargs={'tool_calls': [{'id': 'gqe41eqnn', 'function': {'arguments': '{\"query\":\"current GDP of China\"}', 'name': 'search'}, 'type': 'function'}]}, response_metadata={'token_usage': {'completion_tokens': 251, 'prompt_tokens': 248, 'total_tokens': 499, 'completion_time': 1.047800742, 'prompt_time': 0.016112438, 'queue_time': 0.202006786, 'total_time': 1.06391318}, 'model_name': 'deepseek-r1-distill-llama-70b', 'system_fingerprint': 'fp_1bbe7845ec', 'finish_reason': 'tool_calls', 'logprobs': None}, id='run--06aa4a62-f984-4e44-a50d-bb53d22195ad-0', tool_calls=[{'name': 'search', 'args': {'query': 'current GDP of China'}, 'id': 'gqe41eqnn', 'type': 'tool_call'}], usage_metadata={'input_tokens': 248, 'output_tokens': 251, 'total_tokens': 499})]}, next=('tools',), config={'configurable': {'thread_id': '1', 'checkpoint_ns': '', 'checkpoint_id': '1f06a562-4bff-6530-8004-26b6e4ad0cf2'}}, metadata={'source': 'loop', 'writes': {'ai_assistant': {'messages': [AIMessage(content='', additional_kwargs={'tool_calls': [{'id': 'gqe41eqnn', 'function': {'arguments': '{\"query\":\"current GDP of China\"}', 'name': 'search'}, 'type': 'function'}]}, response_metadata={'token_usage': {'completion_tokens': 251, 'prompt_tokens': 248, 'total_tokens': 499, 'completion_time': 1.047800742, 'prompt_time': 0.016112438, 'queue_time': 0.202006786, 'total_time': 1.06391318}, 'model_name': 'deepseek-r1-distill-llama-70b', 'system_fingerprint': 'fp_1bbe7845ec', 'finish_reason': 'tool_calls', 'logprobs': None}, id='run--06aa4a62-f984-4e44-a50d-bb53d22195ad-0', tool_calls=[{'name': 'search', 'args': {'query': 'current GDP of China'}, 'id': 'gqe41eqnn', 'type': 'tool_call'}], usage_metadata={'input_tokens': 248, 'output_tokens': 251, 'total_tokens': 499})]}}, 'step': 4, 'parents': {}, 'thread_id': '1'}, created_at='2025-07-26T19:24:26.477700+00:00', parent_config={'configurable': {'thread_id': '1', 'checkpoint_ns': '', 'checkpoint_id': '1f06a562-3e77-6d64-8003-510f9c7f3185'}}, tasks=(PregelTask(id='73d5c34f-94b2-a981-a9ea-cfcf6beb1368', name='tools', path=('__pregel_pull', 'tools'), error=None, interrupts=(), state=None, result=None),), interrupts=())"
      ]
     },
     "execution_count": 143,
     "metadata": {},
     "output_type": "execute_result"
    }
   ],
   "source": [
    "snapshot"
   ]
  },
  {
   "cell_type": "code",
   "execution_count": 144,
   "id": "1f55bd2f",
   "metadata": {},
   "outputs": [
    {
     "data": {
      "text/plain": [
       "('tools',)"
      ]
     },
     "execution_count": 144,
     "metadata": {},
     "output_type": "execute_result"
    }
   ],
   "source": [
    "snapshot.next"
   ]
  },
  {
   "cell_type": "code",
   "execution_count": 145,
   "id": "4796b77a",
   "metadata": {},
   "outputs": [],
   "source": [
    "last_message=snapshot.values[\"messages\"][-1]"
   ]
  },
  {
   "cell_type": "code",
   "execution_count": 146,
   "id": "542299a9",
   "metadata": {},
   "outputs": [
    {
     "data": {
      "text/plain": [
       "AIMessage(content='', additional_kwargs={'tool_calls': [{'id': 'gqe41eqnn', 'function': {'arguments': '{\"query\":\"current GDP of China\"}', 'name': 'search'}, 'type': 'function'}]}, response_metadata={'token_usage': {'completion_tokens': 251, 'prompt_tokens': 248, 'total_tokens': 499, 'completion_time': 1.047800742, 'prompt_time': 0.016112438, 'queue_time': 0.202006786, 'total_time': 1.06391318}, 'model_name': 'deepseek-r1-distill-llama-70b', 'system_fingerprint': 'fp_1bbe7845ec', 'finish_reason': 'tool_calls', 'logprobs': None}, id='run--06aa4a62-f984-4e44-a50d-bb53d22195ad-0', tool_calls=[{'name': 'search', 'args': {'query': 'current GDP of China'}, 'id': 'gqe41eqnn', 'type': 'tool_call'}], usage_metadata={'input_tokens': 248, 'output_tokens': 251, 'total_tokens': 499})"
      ]
     },
     "execution_count": 146,
     "metadata": {},
     "output_type": "execute_result"
    }
   ],
   "source": [
    "last_message"
   ]
  },
  {
   "cell_type": "code",
   "execution_count": 147,
   "id": "9510eb37",
   "metadata": {},
   "outputs": [],
   "source": [
    "tool_details=last_message.tool_calls"
   ]
  },
  {
   "cell_type": "code",
   "execution_count": 148,
   "id": "850fad08",
   "metadata": {},
   "outputs": [
    {
     "data": {
      "text/plain": [
       "[{'name': 'search',\n",
       "  'args': {'query': 'current GDP of China'},\n",
       "  'id': 'gqe41eqnn',\n",
       "  'type': 'tool_call'}]"
      ]
     },
     "execution_count": 148,
     "metadata": {},
     "output_type": "execute_result"
    }
   ],
   "source": [
    "tool_details"
   ]
  },
  {
   "cell_type": "code",
   "execution_count": 149,
   "id": "20dd027d",
   "metadata": {},
   "outputs": [
    {
     "data": {
      "text/plain": [
       "'search'"
      ]
     },
     "execution_count": 149,
     "metadata": {},
     "output_type": "execute_result"
    }
   ],
   "source": [
    "tool_details[0][\"name\"]"
   ]
  },
  {
   "cell_type": "code",
   "execution_count": 150,
   "id": "a6fd5b2b",
   "metadata": {},
   "outputs": [
    {
     "name": "stdout",
     "output_type": "stream",
     "text": [
      "{'messages': [HumanMessage(content='What is the current gdp of the china?', additional_kwargs={}, response_metadata={}), AIMessage(content=\"I don't have access to real-time data, including the current GDP of China. For the most accurate and up-to-date information, I recommend checking a reliable source like the World Bank, IMF, or official Chinese economic reports. Let me know if you'd like help finding a specific source!\", additional_kwargs={}, response_metadata={'token_usage': {'completion_tokens': 143, 'prompt_tokens': 176, 'total_tokens': 319, 'completion_time': 0.590518117, 'prompt_time': 0.010951665, 'queue_time': 0.202081989, 'total_time': 0.601469782}, 'model_name': 'deepseek-r1-distill-llama-70b', 'system_fingerprint': 'fp_1bbe7845ec', 'finish_reason': 'stop', 'logprobs': None}, id='run--fa6f9a78-843e-4cc8-83c1-a7650b837f0e-0', usage_metadata={'input_tokens': 176, 'output_tokens': 143, 'total_tokens': 319}), HumanMessage(content='What is the current gdp of the china?', additional_kwargs={}, response_metadata={}), AIMessage(content='', additional_kwargs={'tool_calls': [{'id': 'gqe41eqnn', 'function': {'arguments': '{\"query\":\"current GDP of China\"}', 'name': 'search'}, 'type': 'function'}]}, response_metadata={'token_usage': {'completion_tokens': 251, 'prompt_tokens': 248, 'total_tokens': 499, 'completion_time': 1.047800742, 'prompt_time': 0.016112438, 'queue_time': 0.202006786, 'total_time': 1.06391318}, 'model_name': 'deepseek-r1-distill-llama-70b', 'system_fingerprint': 'fp_1bbe7845ec', 'finish_reason': 'tool_calls', 'logprobs': None}, id='run--06aa4a62-f984-4e44-a50d-bb53d22195ad-0', tool_calls=[{'name': 'search', 'args': {'query': 'current GDP of China'}, 'id': 'gqe41eqnn', 'type': 'tool_call'}], usage_metadata={'input_tokens': 248, 'output_tokens': 251, 'total_tokens': 499}), ToolMessage(content='Result for current GDP of China is: \\n[{\\'title\\': \\'China GDP - Trading Economics\\', \\'url\\': \\'https://tradingeconomics.com/china/gdp\\', \\'content\\': \\'##### Members\\\\n\\\\n##### \\\\n\\\\n# China GDP\\\\n\\\\n## The Gross Domestic Product (GDP) in China was worth 18743.80 billion US dollars in 2024, according to official data from the World Bank. The GDP value of China represents 17.65 percent of the world economy. source: World Bank [...] ## GDP in China averaged 3590.13 USD Billion from 1960 until 2024, reaching an all time high of 18743.80 USD Billion in 2024 and a record low of 47.31 USD Billion in 1962. This page provides - China GDP - actual values, historical data, forecast, chart, statistics, economic calendar and news. China GDP - values, historical data and charts - was last updated on July of 2025. [...] ### GDP in China is expected to reach 19681.00 USD Billion by the end of 2025, according to Trading Economics global macro models and analysts expectations. In the long-term, the China GDP is projected to trend around 20626.00 USD Billion in 2026 and 21574.00 USD Billion in 2027, according to our econometric models.\\', \\'score\\': 0.8524574}, {\\'title\\': \\'China Economic Update (June 2025) - The World Bank\\', \\'url\\': \\'https://thedocs.worldbank.org/en/doc/8ae5ce818673952a85fee1ee57c3e933-0070012025/original/CEU-June-2025-EN.pdf\\', \\'content\\': \\'Structural challenges—including slowing productivity growth, high debt, and an aging population—are expected to constrain growth over the medium term. China Economic Outlook 2021 2022 2023 2024 2025f 2026f Real GDP growth (%) 8.6 3.1 5.4 5.0 4.5 4.0 Consumer price index (% change, average) 0.9 2.0 0.2 0.2 0.5 1.3 Current account balance (% of GDP) 1.9 2.4 1.4 2.2 1.0 0.8 Consolidated fiscal balance (% of GDP) -3.9 -6.1 -5.5 -6.5 -8.1 -7.8 Source: World Bank. Note: f = forecast (baseline). [...] in 2024 and is expected to decelerate to 22 million in 2025 (Figure 10A and 10B). Table 1. China selected economic indicators, 2022-2027 Annual percent change unless indicated otherwise 2022 2023 2024e 2025f 2026f 2027f Real GDP growth, at constant market prices 3.1 5.4 5.0 4.5 4.0 3.9 Private Consumption 1.7 9.0 4.3 4.9 4.8 4.7 Government Consumption 5.3 7.3 3.3 5.7 5.2 3.8 Gross Fixed Capital Formation 3.4 4.5 3.6 4.7 3.8 3.6 Exports, Goods and Services -1.9 1.1 11.5 2.0 1.8 1.9 Imports, [...] loan Mortgage China Economic Update - June 2025 17 II. Outlook, Risks, and Policy Implications Outlook China’s GDP growth is projected to moderate to 4.5 percent in 2025 and 4.0 percent in 2026. Despite export frontloading in the first half of the year, export growth is expected to decelerate from the level observed last year. Significantly higher uncertainty could temper manufacturing investment and labor demand. Fiscal policy will be the main lever in mitigating the negative impact of trade\\', \\'score\\': 0.72231215}, {\\'title\\': \\'Our economic outlook for China - Vanguard\\', \\'url\\': \\'https://corporate.vanguard.com/content/corporatesite/us/en/corp/vemo/vemo-china.html\\', \\'content\\': \\'China’s economy demonstrated resilient growth in the second quarter, with real GDP expanding by a stronger-than-expected 5.2% year over year and a solid quarter-over-quarter increase of 1.1%. Given this strength, we have upgraded our full-year China GDP forecast from 4.6% to 4.8%. Growth was primarily underpinned by robust exports and frontloaded policy easing. A goods trade-in program has boosted consumption, and accelerated policy stimulus has supported economic growth. Exports have remained [...] Notes: GDP growth is defined as the annual change in real (inflation-adjusted) GDP in the forecast year compared with the previous year. Unemployment rate is as of December 2025. Core inflation is the year-over-year change in the Consumer Price Index, excluding volatile food and energy prices, compared with the previous year. Monetary policy is the People’s Bank of China’s seven-day reverse repo rate at year-end.\\\\n\\\\nSource: Vanguard. \\\\n\\\\nA closer look\\\\n\\\\n2025: Our global outlook [...] The government has adopted a gradual, data-dependent policy approach. Strong growth in the first half makes additional near-term stimulus unlikely. With deflationary pressures set to persist throughout 2025, the path toward reflation is likely to be gradual and bumpy.\\\\n\\\\n## China economic forecasts\\', \\'score\\': 0.70726365}, {\\'title\\': \"How to Predict China\\'s Economic Performance for 2025: A Sectoral ...\", \\'url\\': \\'https://carnegieendowment.org/posts/2025/05/how-to-predict-chinas-economic-performance-for-2025?lang=en\\', \\'content\\': \\'Already in early 2025, analysts have revised their estimates several times. At the beginning of the year, most banks expected that China’s GDP growth in 2025 would come in well below the GDP growth target of 5 percent. But these expectations changed in late March after Chinese leadership made ambitious economic pronouncements during the annual Two Sessions governmental meetings in March. As the Wall Street Journal reported, the banks HSBC, ANZ, and Citi upgraded their forecasts for China’s GDP [...] Barring a disaster, in which case all predictions will be off, China will almost certainly achieve its GDP growth target in 2025, which means that predictions by all the global financial institutions will converge to 4.8–5.0 percent by the fourth quarter of 2025. Lower predicted growth rates earlier in the year, in other words, are mostly meaningless as predictions. [...] The point is that GDP growth means something fundamentally different in China than in most countries. In the West, it is an output—a measure of economic activity that emerges from countless decentralized decisions—and so it makes sense to evaluate growth prospects continuously over the year and to change them as underlying conditions change. In China, GDP growth is an input—a number that is decided early in the year and then achieved through whatever intervention is necessary. For that reason,\\', \\'score\\': 0.60694176}, {\\'title\\': \\'The Fed - Is China Really Growing at 5 Percent?\\', \\'url\\': \\'https://www.federalreserve.gov/econres/notes/feds-notes/is-china-really-growing-at-5-percent-20250606.html\\', \\'content\\': \\'Third, there is a clear structural break at the start of the pandemic. Starting with the sharp contraction in the first quarter of 2020â\\\\x80\\\\x94when China implemented its initial lockdown measuresâ\\\\x80\\\\x94official Chinese GDP growth has closely tracked our alternative GDP growth indicator, suggesting that recent official GDP figures are not overstated. Both measures have GDP growing at around 5 percent in recent quarters. [...] Chinese authorities recently announced a growth target of \"around 5 percent\" for 2025, the same as their 2024 target. Five percent is about half the pace of growth that China sustained from the 1980s to the early 2010s, but it is nonetheless quite high for an economy flirting with deflation and mired in a years-long property bust. The ambitious growth target, given the circumstances, has led many observers of the Chinese economy to once again treat the official GDP data with skepticism. In this [...] In addition to becoming more volatile, Chinese GDP growth appears to have tracked other indicators of the Chinese economy more closely in recent years. Figure 2 compares the official four-quarter GDP growth rate from China\\\\\\'s National Bureau of Statistics to our alternative measure of GDP growth. As outlined in Barcelona et al. (2022), our alternative GDP indicator relies on a large set of indicators that are informative about the Chinese business cycle, including industrial production, retail\\', \\'score\\': 0.5363378}]', name='search', tool_call_id='gqe41eqnn'), AIMessage(content=\"The current GDP of China, as of the latest available data, is approximately **$18,743.80 billion USD** (2024 estimate). According to forecasts, China's GDP is expected to grow to around **$19,681 billion USD** by the end of 2025, with a projected growth rate of **4.5%** for that year. These figures reflect China's ongoing economic expansion, despite structural challenges such as slowing productivity growth, high debt, and an aging population, which are expected to moderate growth over the medium term.\", additional_kwargs={}, response_metadata={'token_usage': {'completion_tokens': 380, 'prompt_tokens': 2192, 'total_tokens': 2572, 'completion_time': 1.5822362, 'prompt_time': 0.157124439, 'queue_time': 0.20479839300000002, 'total_time': 1.739360639}, 'model_name': 'deepseek-r1-distill-llama-70b', 'system_fingerprint': 'fp_1bbe7845ec', 'finish_reason': 'stop', 'logprobs': None}, id='run--8e94b73d-1cc2-44d9-b0d4-99ba5124b0fb-0', usage_metadata={'input_tokens': 2192, 'output_tokens': 380, 'total_tokens': 2572})]}\n"
     ]
    }
   ],
   "source": [
    "if tool_details[0][\"name\"]== \"search\":\n",
    "    user_input=input(prompt=f\"[yes/no] do you want to continue with {tool_details[0]['name']}?\").lower()\n",
    "    if user_input==\"no\":\n",
    "        print(\"web tool discarded\")\n",
    "        raise Exception(\"Web tool discarded by the user.\")\n",
    "    else:\n",
    "        response=app2.invoke(None,config)\n",
    "        print(response)\n",
    "else:\n",
    "    response=app2.invoke(None,config)\n",
    "    print(response)"
   ]
  },
  {
   "cell_type": "code",
   "execution_count": 151,
   "id": "0c0530bf",
   "metadata": {},
   "outputs": [
    {
     "data": {
      "text/plain": [
       "{'messages': [HumanMessage(content='What is the current gdp of the china?', additional_kwargs={}, response_metadata={}),\n",
       "  AIMessage(content=\"I don't have access to real-time data, including the current GDP of China. For the most accurate and up-to-date information, I recommend checking a reliable source like the World Bank, IMF, or official Chinese economic reports. Let me know if you'd like help finding a specific source!\", additional_kwargs={}, response_metadata={'token_usage': {'completion_tokens': 143, 'prompt_tokens': 176, 'total_tokens': 319, 'completion_time': 0.590518117, 'prompt_time': 0.010951665, 'queue_time': 0.202081989, 'total_time': 0.601469782}, 'model_name': 'deepseek-r1-distill-llama-70b', 'system_fingerprint': 'fp_1bbe7845ec', 'finish_reason': 'stop', 'logprobs': None}, id='run--fa6f9a78-843e-4cc8-83c1-a7650b837f0e-0', usage_metadata={'input_tokens': 176, 'output_tokens': 143, 'total_tokens': 319}),\n",
       "  HumanMessage(content='What is the current gdp of the china?', additional_kwargs={}, response_metadata={}),\n",
       "  AIMessage(content='', additional_kwargs={'tool_calls': [{'id': 'gqe41eqnn', 'function': {'arguments': '{\"query\":\"current GDP of China\"}', 'name': 'search'}, 'type': 'function'}]}, response_metadata={'token_usage': {'completion_tokens': 251, 'prompt_tokens': 248, 'total_tokens': 499, 'completion_time': 1.047800742, 'prompt_time': 0.016112438, 'queue_time': 0.202006786, 'total_time': 1.06391318}, 'model_name': 'deepseek-r1-distill-llama-70b', 'system_fingerprint': 'fp_1bbe7845ec', 'finish_reason': 'tool_calls', 'logprobs': None}, id='run--06aa4a62-f984-4e44-a50d-bb53d22195ad-0', tool_calls=[{'name': 'search', 'args': {'query': 'current GDP of China'}, 'id': 'gqe41eqnn', 'type': 'tool_call'}], usage_metadata={'input_tokens': 248, 'output_tokens': 251, 'total_tokens': 499}),\n",
       "  ToolMessage(content='Result for current GDP of China is: \\n[{\\'title\\': \\'China GDP - Trading Economics\\', \\'url\\': \\'https://tradingeconomics.com/china/gdp\\', \\'content\\': \\'##### Members\\\\n\\\\n##### \\\\n\\\\n# China GDP\\\\n\\\\n## The Gross Domestic Product (GDP) in China was worth 18743.80 billion US dollars in 2024, according to official data from the World Bank. The GDP value of China represents 17.65 percent of the world economy. source: World Bank [...] ## GDP in China averaged 3590.13 USD Billion from 1960 until 2024, reaching an all time high of 18743.80 USD Billion in 2024 and a record low of 47.31 USD Billion in 1962. This page provides - China GDP - actual values, historical data, forecast, chart, statistics, economic calendar and news. China GDP - values, historical data and charts - was last updated on July of 2025. [...] ### GDP in China is expected to reach 19681.00 USD Billion by the end of 2025, according to Trading Economics global macro models and analysts expectations. In the long-term, the China GDP is projected to trend around 20626.00 USD Billion in 2026 and 21574.00 USD Billion in 2027, according to our econometric models.\\', \\'score\\': 0.8524574}, {\\'title\\': \\'China Economic Update (June 2025) - The World Bank\\', \\'url\\': \\'https://thedocs.worldbank.org/en/doc/8ae5ce818673952a85fee1ee57c3e933-0070012025/original/CEU-June-2025-EN.pdf\\', \\'content\\': \\'Structural challenges—including slowing productivity growth, high debt, and an aging population—are expected to constrain growth over the medium term. China Economic Outlook 2021 2022 2023 2024 2025f 2026f Real GDP growth (%) 8.6 3.1 5.4 5.0 4.5 4.0 Consumer price index (% change, average) 0.9 2.0 0.2 0.2 0.5 1.3 Current account balance (% of GDP) 1.9 2.4 1.4 2.2 1.0 0.8 Consolidated fiscal balance (% of GDP) -3.9 -6.1 -5.5 -6.5 -8.1 -7.8 Source: World Bank. Note: f = forecast (baseline). [...] in 2024 and is expected to decelerate to 22 million in 2025 (Figure 10A and 10B). Table 1. China selected economic indicators, 2022-2027 Annual percent change unless indicated otherwise 2022 2023 2024e 2025f 2026f 2027f Real GDP growth, at constant market prices 3.1 5.4 5.0 4.5 4.0 3.9 Private Consumption 1.7 9.0 4.3 4.9 4.8 4.7 Government Consumption 5.3 7.3 3.3 5.7 5.2 3.8 Gross Fixed Capital Formation 3.4 4.5 3.6 4.7 3.8 3.6 Exports, Goods and Services -1.9 1.1 11.5 2.0 1.8 1.9 Imports, [...] loan Mortgage China Economic Update - June 2025 17 II. Outlook, Risks, and Policy Implications Outlook China’s GDP growth is projected to moderate to 4.5 percent in 2025 and 4.0 percent in 2026. Despite export frontloading in the first half of the year, export growth is expected to decelerate from the level observed last year. Significantly higher uncertainty could temper manufacturing investment and labor demand. Fiscal policy will be the main lever in mitigating the negative impact of trade\\', \\'score\\': 0.72231215}, {\\'title\\': \\'Our economic outlook for China - Vanguard\\', \\'url\\': \\'https://corporate.vanguard.com/content/corporatesite/us/en/corp/vemo/vemo-china.html\\', \\'content\\': \\'China’s economy demonstrated resilient growth in the second quarter, with real GDP expanding by a stronger-than-expected 5.2% year over year and a solid quarter-over-quarter increase of 1.1%. Given this strength, we have upgraded our full-year China GDP forecast from 4.6% to 4.8%. Growth was primarily underpinned by robust exports and frontloaded policy easing. A goods trade-in program has boosted consumption, and accelerated policy stimulus has supported economic growth. Exports have remained [...] Notes: GDP growth is defined as the annual change in real (inflation-adjusted) GDP in the forecast year compared with the previous year. Unemployment rate is as of December 2025. Core inflation is the year-over-year change in the Consumer Price Index, excluding volatile food and energy prices, compared with the previous year. Monetary policy is the People’s Bank of China’s seven-day reverse repo rate at year-end.\\\\n\\\\nSource: Vanguard. \\\\n\\\\nA closer look\\\\n\\\\n2025: Our global outlook [...] The government has adopted a gradual, data-dependent policy approach. Strong growth in the first half makes additional near-term stimulus unlikely. With deflationary pressures set to persist throughout 2025, the path toward reflation is likely to be gradual and bumpy.\\\\n\\\\n## China economic forecasts\\', \\'score\\': 0.70726365}, {\\'title\\': \"How to Predict China\\'s Economic Performance for 2025: A Sectoral ...\", \\'url\\': \\'https://carnegieendowment.org/posts/2025/05/how-to-predict-chinas-economic-performance-for-2025?lang=en\\', \\'content\\': \\'Already in early 2025, analysts have revised their estimates several times. At the beginning of the year, most banks expected that China’s GDP growth in 2025 would come in well below the GDP growth target of 5 percent. But these expectations changed in late March after Chinese leadership made ambitious economic pronouncements during the annual Two Sessions governmental meetings in March. As the Wall Street Journal reported, the banks HSBC, ANZ, and Citi upgraded their forecasts for China’s GDP [...] Barring a disaster, in which case all predictions will be off, China will almost certainly achieve its GDP growth target in 2025, which means that predictions by all the global financial institutions will converge to 4.8–5.0 percent by the fourth quarter of 2025. Lower predicted growth rates earlier in the year, in other words, are mostly meaningless as predictions. [...] The point is that GDP growth means something fundamentally different in China than in most countries. In the West, it is an output—a measure of economic activity that emerges from countless decentralized decisions—and so it makes sense to evaluate growth prospects continuously over the year and to change them as underlying conditions change. In China, GDP growth is an input—a number that is decided early in the year and then achieved through whatever intervention is necessary. For that reason,\\', \\'score\\': 0.60694176}, {\\'title\\': \\'The Fed - Is China Really Growing at 5 Percent?\\', \\'url\\': \\'https://www.federalreserve.gov/econres/notes/feds-notes/is-china-really-growing-at-5-percent-20250606.html\\', \\'content\\': \\'Third, there is a clear structural break at the start of the pandemic. Starting with the sharp contraction in the first quarter of 2020â\\\\x80\\\\x94when China implemented its initial lockdown measuresâ\\\\x80\\\\x94official Chinese GDP growth has closely tracked our alternative GDP growth indicator, suggesting that recent official GDP figures are not overstated. Both measures have GDP growing at around 5 percent in recent quarters. [...] Chinese authorities recently announced a growth target of \"around 5 percent\" for 2025, the same as their 2024 target. Five percent is about half the pace of growth that China sustained from the 1980s to the early 2010s, but it is nonetheless quite high for an economy flirting with deflation and mired in a years-long property bust. The ambitious growth target, given the circumstances, has led many observers of the Chinese economy to once again treat the official GDP data with skepticism. In this [...] In addition to becoming more volatile, Chinese GDP growth appears to have tracked other indicators of the Chinese economy more closely in recent years. Figure 2 compares the official four-quarter GDP growth rate from China\\\\\\'s National Bureau of Statistics to our alternative measure of GDP growth. As outlined in Barcelona et al. (2022), our alternative GDP indicator relies on a large set of indicators that are informative about the Chinese business cycle, including industrial production, retail\\', \\'score\\': 0.5363378}]', name='search', tool_call_id='gqe41eqnn'),\n",
       "  AIMessage(content=\"The current GDP of China, as of the latest available data, is approximately **$18,743.80 billion USD** (2024 estimate). According to forecasts, China's GDP is expected to grow to around **$19,681 billion USD** by the end of 2025, with a projected growth rate of **4.5%** for that year. These figures reflect China's ongoing economic expansion, despite structural challenges such as slowing productivity growth, high debt, and an aging population, which are expected to moderate growth over the medium term.\", additional_kwargs={}, response_metadata={'token_usage': {'completion_tokens': 380, 'prompt_tokens': 2192, 'total_tokens': 2572, 'completion_time': 1.5822362, 'prompt_time': 0.157124439, 'queue_time': 0.20479839300000002, 'total_time': 1.739360639}, 'model_name': 'deepseek-r1-distill-llama-70b', 'system_fingerprint': 'fp_1bbe7845ec', 'finish_reason': 'stop', 'logprobs': None}, id='run--8e94b73d-1cc2-44d9-b0d4-99ba5124b0fb-0', usage_metadata={'input_tokens': 2192, 'output_tokens': 380, 'total_tokens': 2572})]}"
      ]
     },
     "execution_count": 151,
     "metadata": {},
     "output_type": "execute_result"
    }
   ],
   "source": [
    "app2.invoke(None,config) #none means resume the last state or resume the process"
   ]
  },
  {
   "cell_type": "code",
   "execution_count": 152,
   "id": "b17bea3b",
   "metadata": {},
   "outputs": [],
   "source": [
    "response=app2.invoke({\"messages\":[HumanMessage(\"What is the current gdp of the japan?\")]},config=config)"
   ]
  },
  {
   "cell_type": "code",
   "execution_count": 154,
   "id": "38ee1b8a",
   "metadata": {},
   "outputs": [
    {
     "data": {
      "text/plain": [
       "{'messages': [HumanMessage(content='What is the current gdp of the china?', additional_kwargs={}, response_metadata={}),\n",
       "  AIMessage(content=\"I don't have access to real-time data, including the current GDP of China. For the most accurate and up-to-date information, I recommend checking a reliable source like the World Bank, IMF, or official Chinese economic reports. Let me know if you'd like help finding a specific source!\", additional_kwargs={}, response_metadata={'token_usage': {'completion_tokens': 143, 'prompt_tokens': 176, 'total_tokens': 319, 'completion_time': 0.590518117, 'prompt_time': 0.010951665, 'queue_time': 0.202081989, 'total_time': 0.601469782}, 'model_name': 'deepseek-r1-distill-llama-70b', 'system_fingerprint': 'fp_1bbe7845ec', 'finish_reason': 'stop', 'logprobs': None}, id='run--fa6f9a78-843e-4cc8-83c1-a7650b837f0e-0', usage_metadata={'input_tokens': 176, 'output_tokens': 143, 'total_tokens': 319}),\n",
       "  HumanMessage(content='What is the current gdp of the china?', additional_kwargs={}, response_metadata={}),\n",
       "  AIMessage(content='', additional_kwargs={'tool_calls': [{'id': 'gqe41eqnn', 'function': {'arguments': '{\"query\":\"current GDP of China\"}', 'name': 'search'}, 'type': 'function'}]}, response_metadata={'token_usage': {'completion_tokens': 251, 'prompt_tokens': 248, 'total_tokens': 499, 'completion_time': 1.047800742, 'prompt_time': 0.016112438, 'queue_time': 0.202006786, 'total_time': 1.06391318}, 'model_name': 'deepseek-r1-distill-llama-70b', 'system_fingerprint': 'fp_1bbe7845ec', 'finish_reason': 'tool_calls', 'logprobs': None}, id='run--06aa4a62-f984-4e44-a50d-bb53d22195ad-0', tool_calls=[{'name': 'search', 'args': {'query': 'current GDP of China'}, 'id': 'gqe41eqnn', 'type': 'tool_call'}], usage_metadata={'input_tokens': 248, 'output_tokens': 251, 'total_tokens': 499}),\n",
       "  ToolMessage(content='Result for current GDP of China is: \\n[{\\'title\\': \\'China GDP - Trading Economics\\', \\'url\\': \\'https://tradingeconomics.com/china/gdp\\', \\'content\\': \\'##### Members\\\\n\\\\n##### \\\\n\\\\n# China GDP\\\\n\\\\n## The Gross Domestic Product (GDP) in China was worth 18743.80 billion US dollars in 2024, according to official data from the World Bank. The GDP value of China represents 17.65 percent of the world economy. source: World Bank [...] ## GDP in China averaged 3590.13 USD Billion from 1960 until 2024, reaching an all time high of 18743.80 USD Billion in 2024 and a record low of 47.31 USD Billion in 1962. This page provides - China GDP - actual values, historical data, forecast, chart, statistics, economic calendar and news. China GDP - values, historical data and charts - was last updated on July of 2025. [...] ### GDP in China is expected to reach 19681.00 USD Billion by the end of 2025, according to Trading Economics global macro models and analysts expectations. In the long-term, the China GDP is projected to trend around 20626.00 USD Billion in 2026 and 21574.00 USD Billion in 2027, according to our econometric models.\\', \\'score\\': 0.8524574}, {\\'title\\': \\'China Economic Update (June 2025) - The World Bank\\', \\'url\\': \\'https://thedocs.worldbank.org/en/doc/8ae5ce818673952a85fee1ee57c3e933-0070012025/original/CEU-June-2025-EN.pdf\\', \\'content\\': \\'Structural challenges—including slowing productivity growth, high debt, and an aging population—are expected to constrain growth over the medium term. China Economic Outlook 2021 2022 2023 2024 2025f 2026f Real GDP growth (%) 8.6 3.1 5.4 5.0 4.5 4.0 Consumer price index (% change, average) 0.9 2.0 0.2 0.2 0.5 1.3 Current account balance (% of GDP) 1.9 2.4 1.4 2.2 1.0 0.8 Consolidated fiscal balance (% of GDP) -3.9 -6.1 -5.5 -6.5 -8.1 -7.8 Source: World Bank. Note: f = forecast (baseline). [...] in 2024 and is expected to decelerate to 22 million in 2025 (Figure 10A and 10B). Table 1. China selected economic indicators, 2022-2027 Annual percent change unless indicated otherwise 2022 2023 2024e 2025f 2026f 2027f Real GDP growth, at constant market prices 3.1 5.4 5.0 4.5 4.0 3.9 Private Consumption 1.7 9.0 4.3 4.9 4.8 4.7 Government Consumption 5.3 7.3 3.3 5.7 5.2 3.8 Gross Fixed Capital Formation 3.4 4.5 3.6 4.7 3.8 3.6 Exports, Goods and Services -1.9 1.1 11.5 2.0 1.8 1.9 Imports, [...] loan Mortgage China Economic Update - June 2025 17 II. Outlook, Risks, and Policy Implications Outlook China’s GDP growth is projected to moderate to 4.5 percent in 2025 and 4.0 percent in 2026. Despite export frontloading in the first half of the year, export growth is expected to decelerate from the level observed last year. Significantly higher uncertainty could temper manufacturing investment and labor demand. Fiscal policy will be the main lever in mitigating the negative impact of trade\\', \\'score\\': 0.72231215}, {\\'title\\': \\'Our economic outlook for China - Vanguard\\', \\'url\\': \\'https://corporate.vanguard.com/content/corporatesite/us/en/corp/vemo/vemo-china.html\\', \\'content\\': \\'China’s economy demonstrated resilient growth in the second quarter, with real GDP expanding by a stronger-than-expected 5.2% year over year and a solid quarter-over-quarter increase of 1.1%. Given this strength, we have upgraded our full-year China GDP forecast from 4.6% to 4.8%. Growth was primarily underpinned by robust exports and frontloaded policy easing. A goods trade-in program has boosted consumption, and accelerated policy stimulus has supported economic growth. Exports have remained [...] Notes: GDP growth is defined as the annual change in real (inflation-adjusted) GDP in the forecast year compared with the previous year. Unemployment rate is as of December 2025. Core inflation is the year-over-year change in the Consumer Price Index, excluding volatile food and energy prices, compared with the previous year. Monetary policy is the People’s Bank of China’s seven-day reverse repo rate at year-end.\\\\n\\\\nSource: Vanguard. \\\\n\\\\nA closer look\\\\n\\\\n2025: Our global outlook [...] The government has adopted a gradual, data-dependent policy approach. Strong growth in the first half makes additional near-term stimulus unlikely. With deflationary pressures set to persist throughout 2025, the path toward reflation is likely to be gradual and bumpy.\\\\n\\\\n## China economic forecasts\\', \\'score\\': 0.70726365}, {\\'title\\': \"How to Predict China\\'s Economic Performance for 2025: A Sectoral ...\", \\'url\\': \\'https://carnegieendowment.org/posts/2025/05/how-to-predict-chinas-economic-performance-for-2025?lang=en\\', \\'content\\': \\'Already in early 2025, analysts have revised their estimates several times. At the beginning of the year, most banks expected that China’s GDP growth in 2025 would come in well below the GDP growth target of 5 percent. But these expectations changed in late March after Chinese leadership made ambitious economic pronouncements during the annual Two Sessions governmental meetings in March. As the Wall Street Journal reported, the banks HSBC, ANZ, and Citi upgraded their forecasts for China’s GDP [...] Barring a disaster, in which case all predictions will be off, China will almost certainly achieve its GDP growth target in 2025, which means that predictions by all the global financial institutions will converge to 4.8–5.0 percent by the fourth quarter of 2025. Lower predicted growth rates earlier in the year, in other words, are mostly meaningless as predictions. [...] The point is that GDP growth means something fundamentally different in China than in most countries. In the West, it is an output—a measure of economic activity that emerges from countless decentralized decisions—and so it makes sense to evaluate growth prospects continuously over the year and to change them as underlying conditions change. In China, GDP growth is an input—a number that is decided early in the year and then achieved through whatever intervention is necessary. For that reason,\\', \\'score\\': 0.60694176}, {\\'title\\': \\'The Fed - Is China Really Growing at 5 Percent?\\', \\'url\\': \\'https://www.federalreserve.gov/econres/notes/feds-notes/is-china-really-growing-at-5-percent-20250606.html\\', \\'content\\': \\'Third, there is a clear structural break at the start of the pandemic. Starting with the sharp contraction in the first quarter of 2020â\\\\x80\\\\x94when China implemented its initial lockdown measuresâ\\\\x80\\\\x94official Chinese GDP growth has closely tracked our alternative GDP growth indicator, suggesting that recent official GDP figures are not overstated. Both measures have GDP growing at around 5 percent in recent quarters. [...] Chinese authorities recently announced a growth target of \"around 5 percent\" for 2025, the same as their 2024 target. Five percent is about half the pace of growth that China sustained from the 1980s to the early 2010s, but it is nonetheless quite high for an economy flirting with deflation and mired in a years-long property bust. The ambitious growth target, given the circumstances, has led many observers of the Chinese economy to once again treat the official GDP data with skepticism. In this [...] In addition to becoming more volatile, Chinese GDP growth appears to have tracked other indicators of the Chinese economy more closely in recent years. Figure 2 compares the official four-quarter GDP growth rate from China\\\\\\'s National Bureau of Statistics to our alternative measure of GDP growth. As outlined in Barcelona et al. (2022), our alternative GDP indicator relies on a large set of indicators that are informative about the Chinese business cycle, including industrial production, retail\\', \\'score\\': 0.5363378}]', name='search', tool_call_id='gqe41eqnn'),\n",
       "  AIMessage(content=\"The current GDP of China, as of the latest available data, is approximately **$18,743.80 billion USD** (2024 estimate). According to forecasts, China's GDP is expected to grow to around **$19,681 billion USD** by the end of 2025, with a projected growth rate of **4.5%** for that year. These figures reflect China's ongoing economic expansion, despite structural challenges such as slowing productivity growth, high debt, and an aging population, which are expected to moderate growth over the medium term.\", additional_kwargs={}, response_metadata={'token_usage': {'completion_tokens': 380, 'prompt_tokens': 2192, 'total_tokens': 2572, 'completion_time': 1.5822362, 'prompt_time': 0.157124439, 'queue_time': 0.20479839300000002, 'total_time': 1.739360639}, 'model_name': 'deepseek-r1-distill-llama-70b', 'system_fingerprint': 'fp_1bbe7845ec', 'finish_reason': 'stop', 'logprobs': None}, id='run--8e94b73d-1cc2-44d9-b0d4-99ba5124b0fb-0', usage_metadata={'input_tokens': 2192, 'output_tokens': 380, 'total_tokens': 2572}),\n",
       "  HumanMessage(content='What is the current gdp of the japan?', additional_kwargs={}, response_metadata={}),\n",
       "  AIMessage(content='', additional_kwargs={'tool_calls': [{'id': '9x5xhahmg', 'function': {'arguments': '{\"query\":\"current GDP of Japan\"}', 'name': 'search'}, 'type': 'function'}]}, response_metadata={'token_usage': {'completion_tokens': 223, 'prompt_tokens': 2317, 'total_tokens': 2540, 'completion_time': 1.03315937, 'prompt_time': 0.174078071, 'queue_time': 0.203800294, 'total_time': 1.207237441}, 'model_name': 'deepseek-r1-distill-llama-70b', 'system_fingerprint': 'fp_1bbe7845ec', 'finish_reason': 'tool_calls', 'logprobs': None}, id='run--312b5498-ffb8-4c1c-a0aa-24798e8a4674-0', tool_calls=[{'name': 'search', 'args': {'query': 'current GDP of Japan'}, 'id': '9x5xhahmg', 'type': 'tool_call'}], usage_metadata={'input_tokens': 2317, 'output_tokens': 223, 'total_tokens': 2540})]}"
      ]
     },
     "execution_count": 154,
     "metadata": {},
     "output_type": "execute_result"
    }
   ],
   "source": [
    "response"
   ]
  },
  {
   "cell_type": "code",
   "execution_count": 157,
   "id": "11c739a1",
   "metadata": {},
   "outputs": [],
   "source": [
    "snapshot=app2.get_state(config)"
   ]
  },
  {
   "cell_type": "code",
   "execution_count": 158,
   "id": "55769cdf",
   "metadata": {},
   "outputs": [
    {
     "data": {
      "text/plain": [
       "('tools',)"
      ]
     },
     "execution_count": 158,
     "metadata": {},
     "output_type": "execute_result"
    }
   ],
   "source": [
    "snapshot.next"
   ]
  },
  {
   "cell_type": "code",
   "execution_count": 159,
   "id": "27036f51",
   "metadata": {},
   "outputs": [],
   "source": [
    "last_message=snapshot.values[\"messages\"][-1]"
   ]
  },
  {
   "cell_type": "code",
   "execution_count": 160,
   "id": "cfd6ca0e",
   "metadata": {},
   "outputs": [
    {
     "data": {
      "text/plain": [
       "[{'name': 'search',\n",
       "  'args': {'query': 'current GDP of Japan'},\n",
       "  'id': '9x5xhahmg',\n",
       "  'type': 'tool_call'}]"
      ]
     },
     "execution_count": 160,
     "metadata": {},
     "output_type": "execute_result"
    }
   ],
   "source": [
    "last_message.tool_calls"
   ]
  },
  {
   "cell_type": "code",
   "execution_count": 161,
   "id": "8efa57a1",
   "metadata": {},
   "outputs": [],
   "source": [
    "tool_call_id=last_message.tool_calls[0][\"id\"]"
   ]
  },
  {
   "cell_type": "code",
   "execution_count": 162,
   "id": "e541c737",
   "metadata": {},
   "outputs": [
    {
     "data": {
      "text/plain": [
       "'9x5xhahmg'"
      ]
     },
     "execution_count": 162,
     "metadata": {},
     "output_type": "execute_result"
    }
   ],
   "source": [
    "tool_call_id"
   ]
  },
  {
   "cell_type": "code",
   "execution_count": 153,
   "id": "27f7da59",
   "metadata": {},
   "outputs": [],
   "source": [
    "from langchain_core.messages import AIMessage,ToolMessage"
   ]
  },
  {
   "cell_type": "code",
   "execution_count": 163,
   "id": "593b7420",
   "metadata": {},
   "outputs": [],
   "source": [
    "new_message=[\n",
    "    ToolMessage(content=\"according to the latest data 4.1 trillion USD\",tool_call_id=tool_call_id),\n",
    "    AIMessage(content=\"GDP is 4.1 Trillion USD.\")\n",
    "    \n",
    "]"
   ]
  },
  {
   "cell_type": "code",
   "execution_count": 164,
   "id": "2b030897",
   "metadata": {},
   "outputs": [
    {
     "data": {
      "text/plain": [
       "{'configurable': {'thread_id': '1',\n",
       "  'checkpoint_ns': '',\n",
       "  'checkpoint_id': '1f06a58e-416f-6bd1-800a-2a5ce628678b'}}"
      ]
     },
     "execution_count": 164,
     "metadata": {},
     "output_type": "execute_result"
    }
   ],
   "source": [
    "app2.update_state(config, \n",
    "                  {\n",
    "                      \"messages\":new_message\n",
    "                   }\n",
    "                  )"
   ]
  },
  {
   "cell_type": "code",
   "execution_count": 165,
   "id": "940c77e2",
   "metadata": {},
   "outputs": [
    {
     "data": {
      "text/plain": [
       "AIMessage(content='GDP is 4.1 Trillion USD.', additional_kwargs={}, response_metadata={})"
      ]
     },
     "execution_count": 165,
     "metadata": {},
     "output_type": "execute_result"
    }
   ],
   "source": [
    "app2.get_state(config).values[\"messages\"][-1]"
   ]
  },
  {
   "cell_type": "code",
   "execution_count": 166,
   "id": "3a9fb9ff",
   "metadata": {},
   "outputs": [
    {
     "data": {
      "text/plain": [
       "{'messages': [HumanMessage(content='What is the current gdp of the china?', additional_kwargs={}, response_metadata={}),\n",
       "  AIMessage(content=\"I don't have access to real-time data, including the current GDP of China. For the most accurate and up-to-date information, I recommend checking a reliable source like the World Bank, IMF, or official Chinese economic reports. Let me know if you'd like help finding a specific source!\", additional_kwargs={}, response_metadata={'token_usage': {'completion_tokens': 143, 'prompt_tokens': 176, 'total_tokens': 319, 'completion_time': 0.590518117, 'prompt_time': 0.010951665, 'queue_time': 0.202081989, 'total_time': 0.601469782}, 'model_name': 'deepseek-r1-distill-llama-70b', 'system_fingerprint': 'fp_1bbe7845ec', 'finish_reason': 'stop', 'logprobs': None}, id='run--fa6f9a78-843e-4cc8-83c1-a7650b837f0e-0', usage_metadata={'input_tokens': 176, 'output_tokens': 143, 'total_tokens': 319}),\n",
       "  HumanMessage(content='What is the current gdp of the china?', additional_kwargs={}, response_metadata={}),\n",
       "  AIMessage(content='', additional_kwargs={'tool_calls': [{'id': 'gqe41eqnn', 'function': {'arguments': '{\"query\":\"current GDP of China\"}', 'name': 'search'}, 'type': 'function'}]}, response_metadata={'token_usage': {'completion_tokens': 251, 'prompt_tokens': 248, 'total_tokens': 499, 'completion_time': 1.047800742, 'prompt_time': 0.016112438, 'queue_time': 0.202006786, 'total_time': 1.06391318}, 'model_name': 'deepseek-r1-distill-llama-70b', 'system_fingerprint': 'fp_1bbe7845ec', 'finish_reason': 'tool_calls', 'logprobs': None}, id='run--06aa4a62-f984-4e44-a50d-bb53d22195ad-0', tool_calls=[{'name': 'search', 'args': {'query': 'current GDP of China'}, 'id': 'gqe41eqnn', 'type': 'tool_call'}], usage_metadata={'input_tokens': 248, 'output_tokens': 251, 'total_tokens': 499}),\n",
       "  ToolMessage(content='Result for current GDP of China is: \\n[{\\'title\\': \\'China GDP - Trading Economics\\', \\'url\\': \\'https://tradingeconomics.com/china/gdp\\', \\'content\\': \\'##### Members\\\\n\\\\n##### \\\\n\\\\n# China GDP\\\\n\\\\n## The Gross Domestic Product (GDP) in China was worth 18743.80 billion US dollars in 2024, according to official data from the World Bank. The GDP value of China represents 17.65 percent of the world economy. source: World Bank [...] ## GDP in China averaged 3590.13 USD Billion from 1960 until 2024, reaching an all time high of 18743.80 USD Billion in 2024 and a record low of 47.31 USD Billion in 1962. This page provides - China GDP - actual values, historical data, forecast, chart, statistics, economic calendar and news. China GDP - values, historical data and charts - was last updated on July of 2025. [...] ### GDP in China is expected to reach 19681.00 USD Billion by the end of 2025, according to Trading Economics global macro models and analysts expectations. In the long-term, the China GDP is projected to trend around 20626.00 USD Billion in 2026 and 21574.00 USD Billion in 2027, according to our econometric models.\\', \\'score\\': 0.8524574}, {\\'title\\': \\'China Economic Update (June 2025) - The World Bank\\', \\'url\\': \\'https://thedocs.worldbank.org/en/doc/8ae5ce818673952a85fee1ee57c3e933-0070012025/original/CEU-June-2025-EN.pdf\\', \\'content\\': \\'Structural challenges—including slowing productivity growth, high debt, and an aging population—are expected to constrain growth over the medium term. China Economic Outlook 2021 2022 2023 2024 2025f 2026f Real GDP growth (%) 8.6 3.1 5.4 5.0 4.5 4.0 Consumer price index (% change, average) 0.9 2.0 0.2 0.2 0.5 1.3 Current account balance (% of GDP) 1.9 2.4 1.4 2.2 1.0 0.8 Consolidated fiscal balance (% of GDP) -3.9 -6.1 -5.5 -6.5 -8.1 -7.8 Source: World Bank. Note: f = forecast (baseline). [...] in 2024 and is expected to decelerate to 22 million in 2025 (Figure 10A and 10B). Table 1. China selected economic indicators, 2022-2027 Annual percent change unless indicated otherwise 2022 2023 2024e 2025f 2026f 2027f Real GDP growth, at constant market prices 3.1 5.4 5.0 4.5 4.0 3.9 Private Consumption 1.7 9.0 4.3 4.9 4.8 4.7 Government Consumption 5.3 7.3 3.3 5.7 5.2 3.8 Gross Fixed Capital Formation 3.4 4.5 3.6 4.7 3.8 3.6 Exports, Goods and Services -1.9 1.1 11.5 2.0 1.8 1.9 Imports, [...] loan Mortgage China Economic Update - June 2025 17 II. Outlook, Risks, and Policy Implications Outlook China’s GDP growth is projected to moderate to 4.5 percent in 2025 and 4.0 percent in 2026. Despite export frontloading in the first half of the year, export growth is expected to decelerate from the level observed last year. Significantly higher uncertainty could temper manufacturing investment and labor demand. Fiscal policy will be the main lever in mitigating the negative impact of trade\\', \\'score\\': 0.72231215}, {\\'title\\': \\'Our economic outlook for China - Vanguard\\', \\'url\\': \\'https://corporate.vanguard.com/content/corporatesite/us/en/corp/vemo/vemo-china.html\\', \\'content\\': \\'China’s economy demonstrated resilient growth in the second quarter, with real GDP expanding by a stronger-than-expected 5.2% year over year and a solid quarter-over-quarter increase of 1.1%. Given this strength, we have upgraded our full-year China GDP forecast from 4.6% to 4.8%. Growth was primarily underpinned by robust exports and frontloaded policy easing. A goods trade-in program has boosted consumption, and accelerated policy stimulus has supported economic growth. Exports have remained [...] Notes: GDP growth is defined as the annual change in real (inflation-adjusted) GDP in the forecast year compared with the previous year. Unemployment rate is as of December 2025. Core inflation is the year-over-year change in the Consumer Price Index, excluding volatile food and energy prices, compared with the previous year. Monetary policy is the People’s Bank of China’s seven-day reverse repo rate at year-end.\\\\n\\\\nSource: Vanguard. \\\\n\\\\nA closer look\\\\n\\\\n2025: Our global outlook [...] The government has adopted a gradual, data-dependent policy approach. Strong growth in the first half makes additional near-term stimulus unlikely. With deflationary pressures set to persist throughout 2025, the path toward reflation is likely to be gradual and bumpy.\\\\n\\\\n## China economic forecasts\\', \\'score\\': 0.70726365}, {\\'title\\': \"How to Predict China\\'s Economic Performance for 2025: A Sectoral ...\", \\'url\\': \\'https://carnegieendowment.org/posts/2025/05/how-to-predict-chinas-economic-performance-for-2025?lang=en\\', \\'content\\': \\'Already in early 2025, analysts have revised their estimates several times. At the beginning of the year, most banks expected that China’s GDP growth in 2025 would come in well below the GDP growth target of 5 percent. But these expectations changed in late March after Chinese leadership made ambitious economic pronouncements during the annual Two Sessions governmental meetings in March. As the Wall Street Journal reported, the banks HSBC, ANZ, and Citi upgraded their forecasts for China’s GDP [...] Barring a disaster, in which case all predictions will be off, China will almost certainly achieve its GDP growth target in 2025, which means that predictions by all the global financial institutions will converge to 4.8–5.0 percent by the fourth quarter of 2025. Lower predicted growth rates earlier in the year, in other words, are mostly meaningless as predictions. [...] The point is that GDP growth means something fundamentally different in China than in most countries. In the West, it is an output—a measure of economic activity that emerges from countless decentralized decisions—and so it makes sense to evaluate growth prospects continuously over the year and to change them as underlying conditions change. In China, GDP growth is an input—a number that is decided early in the year and then achieved through whatever intervention is necessary. For that reason,\\', \\'score\\': 0.60694176}, {\\'title\\': \\'The Fed - Is China Really Growing at 5 Percent?\\', \\'url\\': \\'https://www.federalreserve.gov/econres/notes/feds-notes/is-china-really-growing-at-5-percent-20250606.html\\', \\'content\\': \\'Third, there is a clear structural break at the start of the pandemic. Starting with the sharp contraction in the first quarter of 2020â\\\\x80\\\\x94when China implemented its initial lockdown measuresâ\\\\x80\\\\x94official Chinese GDP growth has closely tracked our alternative GDP growth indicator, suggesting that recent official GDP figures are not overstated. Both measures have GDP growing at around 5 percent in recent quarters. [...] Chinese authorities recently announced a growth target of \"around 5 percent\" for 2025, the same as their 2024 target. Five percent is about half the pace of growth that China sustained from the 1980s to the early 2010s, but it is nonetheless quite high for an economy flirting with deflation and mired in a years-long property bust. The ambitious growth target, given the circumstances, has led many observers of the Chinese economy to once again treat the official GDP data with skepticism. In this [...] In addition to becoming more volatile, Chinese GDP growth appears to have tracked other indicators of the Chinese economy more closely in recent years. Figure 2 compares the official four-quarter GDP growth rate from China\\\\\\'s National Bureau of Statistics to our alternative measure of GDP growth. As outlined in Barcelona et al. (2022), our alternative GDP indicator relies on a large set of indicators that are informative about the Chinese business cycle, including industrial production, retail\\', \\'score\\': 0.5363378}]', name='search', tool_call_id='gqe41eqnn'),\n",
       "  AIMessage(content=\"The current GDP of China, as of the latest available data, is approximately **$18,743.80 billion USD** (2024 estimate). According to forecasts, China's GDP is expected to grow to around **$19,681 billion USD** by the end of 2025, with a projected growth rate of **4.5%** for that year. These figures reflect China's ongoing economic expansion, despite structural challenges such as slowing productivity growth, high debt, and an aging population, which are expected to moderate growth over the medium term.\", additional_kwargs={}, response_metadata={'token_usage': {'completion_tokens': 380, 'prompt_tokens': 2192, 'total_tokens': 2572, 'completion_time': 1.5822362, 'prompt_time': 0.157124439, 'queue_time': 0.20479839300000002, 'total_time': 1.739360639}, 'model_name': 'deepseek-r1-distill-llama-70b', 'system_fingerprint': 'fp_1bbe7845ec', 'finish_reason': 'stop', 'logprobs': None}, id='run--8e94b73d-1cc2-44d9-b0d4-99ba5124b0fb-0', usage_metadata={'input_tokens': 2192, 'output_tokens': 380, 'total_tokens': 2572}),\n",
       "  HumanMessage(content='What is the current gdp of the japan?', additional_kwargs={}, response_metadata={}),\n",
       "  AIMessage(content='', additional_kwargs={'tool_calls': [{'id': '9x5xhahmg', 'function': {'arguments': '{\"query\":\"current GDP of Japan\"}', 'name': 'search'}, 'type': 'function'}]}, response_metadata={'token_usage': {'completion_tokens': 223, 'prompt_tokens': 2317, 'total_tokens': 2540, 'completion_time': 1.03315937, 'prompt_time': 0.174078071, 'queue_time': 0.203800294, 'total_time': 1.207237441}, 'model_name': 'deepseek-r1-distill-llama-70b', 'system_fingerprint': 'fp_1bbe7845ec', 'finish_reason': 'tool_calls', 'logprobs': None}, id='run--312b5498-ffb8-4c1c-a0aa-24798e8a4674-0', tool_calls=[{'name': 'search', 'args': {'query': 'current GDP of Japan'}, 'id': '9x5xhahmg', 'type': 'tool_call'}], usage_metadata={'input_tokens': 2317, 'output_tokens': 223, 'total_tokens': 2540}),\n",
       "  ToolMessage(content='according to the latest data 4.1 trillion USD', tool_call_id='9x5xhahmg'),\n",
       "  AIMessage(content='GDP is 4.1 Trillion USD.', additional_kwargs={}, response_metadata={})]}"
      ]
     },
     "execution_count": 166,
     "metadata": {},
     "output_type": "execute_result"
    }
   ],
   "source": [
    "app2.invoke(None,config=config)"
   ]
  },
  {
   "cell_type": "code",
   "execution_count": 168,
   "id": "da4c37ff",
   "metadata": {},
   "outputs": [
    {
     "data": {
      "text/plain": [
       "{'messages': [HumanMessage(content='What is the current gdp of the china?', additional_kwargs={}, response_metadata={}),\n",
       "  AIMessage(content=\"I don't have access to real-time data, including the current GDP of China. For the most accurate and up-to-date information, I recommend checking a reliable source like the World Bank, IMF, or official Chinese economic reports. Let me know if you'd like help finding a specific source!\", additional_kwargs={}, response_metadata={'token_usage': {'completion_tokens': 143, 'prompt_tokens': 176, 'total_tokens': 319, 'completion_time': 0.590518117, 'prompt_time': 0.010951665, 'queue_time': 0.202081989, 'total_time': 0.601469782}, 'model_name': 'deepseek-r1-distill-llama-70b', 'system_fingerprint': 'fp_1bbe7845ec', 'finish_reason': 'stop', 'logprobs': None}, id='run--fa6f9a78-843e-4cc8-83c1-a7650b837f0e-0', usage_metadata={'input_tokens': 176, 'output_tokens': 143, 'total_tokens': 319}),\n",
       "  HumanMessage(content='What is the current gdp of the china?', additional_kwargs={}, response_metadata={}),\n",
       "  AIMessage(content='', additional_kwargs={'tool_calls': [{'id': 'gqe41eqnn', 'function': {'arguments': '{\"query\":\"current GDP of China\"}', 'name': 'search'}, 'type': 'function'}]}, response_metadata={'token_usage': {'completion_tokens': 251, 'prompt_tokens': 248, 'total_tokens': 499, 'completion_time': 1.047800742, 'prompt_time': 0.016112438, 'queue_time': 0.202006786, 'total_time': 1.06391318}, 'model_name': 'deepseek-r1-distill-llama-70b', 'system_fingerprint': 'fp_1bbe7845ec', 'finish_reason': 'tool_calls', 'logprobs': None}, id='run--06aa4a62-f984-4e44-a50d-bb53d22195ad-0', tool_calls=[{'name': 'search', 'args': {'query': 'current GDP of China'}, 'id': 'gqe41eqnn', 'type': 'tool_call'}], usage_metadata={'input_tokens': 248, 'output_tokens': 251, 'total_tokens': 499}),\n",
       "  ToolMessage(content='Result for current GDP of China is: \\n[{\\'title\\': \\'China GDP - Trading Economics\\', \\'url\\': \\'https://tradingeconomics.com/china/gdp\\', \\'content\\': \\'##### Members\\\\n\\\\n##### \\\\n\\\\n# China GDP\\\\n\\\\n## The Gross Domestic Product (GDP) in China was worth 18743.80 billion US dollars in 2024, according to official data from the World Bank. The GDP value of China represents 17.65 percent of the world economy. source: World Bank [...] ## GDP in China averaged 3590.13 USD Billion from 1960 until 2024, reaching an all time high of 18743.80 USD Billion in 2024 and a record low of 47.31 USD Billion in 1962. This page provides - China GDP - actual values, historical data, forecast, chart, statistics, economic calendar and news. China GDP - values, historical data and charts - was last updated on July of 2025. [...] ### GDP in China is expected to reach 19681.00 USD Billion by the end of 2025, according to Trading Economics global macro models and analysts expectations. In the long-term, the China GDP is projected to trend around 20626.00 USD Billion in 2026 and 21574.00 USD Billion in 2027, according to our econometric models.\\', \\'score\\': 0.8524574}, {\\'title\\': \\'China Economic Update (June 2025) - The World Bank\\', \\'url\\': \\'https://thedocs.worldbank.org/en/doc/8ae5ce818673952a85fee1ee57c3e933-0070012025/original/CEU-June-2025-EN.pdf\\', \\'content\\': \\'Structural challenges—including slowing productivity growth, high debt, and an aging population—are expected to constrain growth over the medium term. China Economic Outlook 2021 2022 2023 2024 2025f 2026f Real GDP growth (%) 8.6 3.1 5.4 5.0 4.5 4.0 Consumer price index (% change, average) 0.9 2.0 0.2 0.2 0.5 1.3 Current account balance (% of GDP) 1.9 2.4 1.4 2.2 1.0 0.8 Consolidated fiscal balance (% of GDP) -3.9 -6.1 -5.5 -6.5 -8.1 -7.8 Source: World Bank. Note: f = forecast (baseline). [...] in 2024 and is expected to decelerate to 22 million in 2025 (Figure 10A and 10B). Table 1. China selected economic indicators, 2022-2027 Annual percent change unless indicated otherwise 2022 2023 2024e 2025f 2026f 2027f Real GDP growth, at constant market prices 3.1 5.4 5.0 4.5 4.0 3.9 Private Consumption 1.7 9.0 4.3 4.9 4.8 4.7 Government Consumption 5.3 7.3 3.3 5.7 5.2 3.8 Gross Fixed Capital Formation 3.4 4.5 3.6 4.7 3.8 3.6 Exports, Goods and Services -1.9 1.1 11.5 2.0 1.8 1.9 Imports, [...] loan Mortgage China Economic Update - June 2025 17 II. Outlook, Risks, and Policy Implications Outlook China’s GDP growth is projected to moderate to 4.5 percent in 2025 and 4.0 percent in 2026. Despite export frontloading in the first half of the year, export growth is expected to decelerate from the level observed last year. Significantly higher uncertainty could temper manufacturing investment and labor demand. Fiscal policy will be the main lever in mitigating the negative impact of trade\\', \\'score\\': 0.72231215}, {\\'title\\': \\'Our economic outlook for China - Vanguard\\', \\'url\\': \\'https://corporate.vanguard.com/content/corporatesite/us/en/corp/vemo/vemo-china.html\\', \\'content\\': \\'China’s economy demonstrated resilient growth in the second quarter, with real GDP expanding by a stronger-than-expected 5.2% year over year and a solid quarter-over-quarter increase of 1.1%. Given this strength, we have upgraded our full-year China GDP forecast from 4.6% to 4.8%. Growth was primarily underpinned by robust exports and frontloaded policy easing. A goods trade-in program has boosted consumption, and accelerated policy stimulus has supported economic growth. Exports have remained [...] Notes: GDP growth is defined as the annual change in real (inflation-adjusted) GDP in the forecast year compared with the previous year. Unemployment rate is as of December 2025. Core inflation is the year-over-year change in the Consumer Price Index, excluding volatile food and energy prices, compared with the previous year. Monetary policy is the People’s Bank of China’s seven-day reverse repo rate at year-end.\\\\n\\\\nSource: Vanguard. \\\\n\\\\nA closer look\\\\n\\\\n2025: Our global outlook [...] The government has adopted a gradual, data-dependent policy approach. Strong growth in the first half makes additional near-term stimulus unlikely. With deflationary pressures set to persist throughout 2025, the path toward reflation is likely to be gradual and bumpy.\\\\n\\\\n## China economic forecasts\\', \\'score\\': 0.70726365}, {\\'title\\': \"How to Predict China\\'s Economic Performance for 2025: A Sectoral ...\", \\'url\\': \\'https://carnegieendowment.org/posts/2025/05/how-to-predict-chinas-economic-performance-for-2025?lang=en\\', \\'content\\': \\'Already in early 2025, analysts have revised their estimates several times. At the beginning of the year, most banks expected that China’s GDP growth in 2025 would come in well below the GDP growth target of 5 percent. But these expectations changed in late March after Chinese leadership made ambitious economic pronouncements during the annual Two Sessions governmental meetings in March. As the Wall Street Journal reported, the banks HSBC, ANZ, and Citi upgraded their forecasts for China’s GDP [...] Barring a disaster, in which case all predictions will be off, China will almost certainly achieve its GDP growth target in 2025, which means that predictions by all the global financial institutions will converge to 4.8–5.0 percent by the fourth quarter of 2025. Lower predicted growth rates earlier in the year, in other words, are mostly meaningless as predictions. [...] The point is that GDP growth means something fundamentally different in China than in most countries. In the West, it is an output—a measure of economic activity that emerges from countless decentralized decisions—and so it makes sense to evaluate growth prospects continuously over the year and to change them as underlying conditions change. In China, GDP growth is an input—a number that is decided early in the year and then achieved through whatever intervention is necessary. For that reason,\\', \\'score\\': 0.60694176}, {\\'title\\': \\'The Fed - Is China Really Growing at 5 Percent?\\', \\'url\\': \\'https://www.federalreserve.gov/econres/notes/feds-notes/is-china-really-growing-at-5-percent-20250606.html\\', \\'content\\': \\'Third, there is a clear structural break at the start of the pandemic. Starting with the sharp contraction in the first quarter of 2020â\\\\x80\\\\x94when China implemented its initial lockdown measuresâ\\\\x80\\\\x94official Chinese GDP growth has closely tracked our alternative GDP growth indicator, suggesting that recent official GDP figures are not overstated. Both measures have GDP growing at around 5 percent in recent quarters. [...] Chinese authorities recently announced a growth target of \"around 5 percent\" for 2025, the same as their 2024 target. Five percent is about half the pace of growth that China sustained from the 1980s to the early 2010s, but it is nonetheless quite high for an economy flirting with deflation and mired in a years-long property bust. The ambitious growth target, given the circumstances, has led many observers of the Chinese economy to once again treat the official GDP data with skepticism. In this [...] In addition to becoming more volatile, Chinese GDP growth appears to have tracked other indicators of the Chinese economy more closely in recent years. Figure 2 compares the official four-quarter GDP growth rate from China\\\\\\'s National Bureau of Statistics to our alternative measure of GDP growth. As outlined in Barcelona et al. (2022), our alternative GDP indicator relies on a large set of indicators that are informative about the Chinese business cycle, including industrial production, retail\\', \\'score\\': 0.5363378}]', name='search', tool_call_id='gqe41eqnn'),\n",
       "  AIMessage(content=\"The current GDP of China, as of the latest available data, is approximately **$18,743.80 billion USD** (2024 estimate). According to forecasts, China's GDP is expected to grow to around **$19,681 billion USD** by the end of 2025, with a projected growth rate of **4.5%** for that year. These figures reflect China's ongoing economic expansion, despite structural challenges such as slowing productivity growth, high debt, and an aging population, which are expected to moderate growth over the medium term.\", additional_kwargs={}, response_metadata={'token_usage': {'completion_tokens': 380, 'prompt_tokens': 2192, 'total_tokens': 2572, 'completion_time': 1.5822362, 'prompt_time': 0.157124439, 'queue_time': 0.20479839300000002, 'total_time': 1.739360639}, 'model_name': 'deepseek-r1-distill-llama-70b', 'system_fingerprint': 'fp_1bbe7845ec', 'finish_reason': 'stop', 'logprobs': None}, id='run--8e94b73d-1cc2-44d9-b0d4-99ba5124b0fb-0', usage_metadata={'input_tokens': 2192, 'output_tokens': 380, 'total_tokens': 2572}),\n",
       "  HumanMessage(content='What is the current gdp of the japan?', additional_kwargs={}, response_metadata={}),\n",
       "  AIMessage(content='', additional_kwargs={'tool_calls': [{'id': '9x5xhahmg', 'function': {'arguments': '{\"query\":\"current GDP of Japan\"}', 'name': 'search'}, 'type': 'function'}]}, response_metadata={'token_usage': {'completion_tokens': 223, 'prompt_tokens': 2317, 'total_tokens': 2540, 'completion_time': 1.03315937, 'prompt_time': 0.174078071, 'queue_time': 0.203800294, 'total_time': 1.207237441}, 'model_name': 'deepseek-r1-distill-llama-70b', 'system_fingerprint': 'fp_1bbe7845ec', 'finish_reason': 'tool_calls', 'logprobs': None}, id='run--312b5498-ffb8-4c1c-a0aa-24798e8a4674-0', tool_calls=[{'name': 'search', 'args': {'query': 'current GDP of Japan'}, 'id': '9x5xhahmg', 'type': 'tool_call'}], usage_metadata={'input_tokens': 2317, 'output_tokens': 223, 'total_tokens': 2540}),\n",
       "  ToolMessage(content='according to the latest data 4.1 trillion USD', tool_call_id='9x5xhahmg'),\n",
       "  AIMessage(content='GDP is 4.1 Trillion USD.', additional_kwargs={}, response_metadata={}),\n",
       "  HumanMessage(content='What is the current gdp of the japan?', additional_kwargs={}, response_metadata={}),\n",
       "  AIMessage(content='', additional_kwargs={'tool_calls': [{'id': 'x8r4nq8xe', 'function': {'arguments': '{\"query\":\"current GDP of Japan\"}', 'name': 'search'}, 'type': 'function'}]}, response_metadata={'token_usage': {'completion_tokens': 189, 'prompt_tokens': 2404, 'total_tokens': 2593, 'completion_time': 1.010164334, 'prompt_time': 0.179640232, 'queue_time': 0.20402512299999997, 'total_time': 1.189804566}, 'model_name': 'deepseek-r1-distill-llama-70b', 'system_fingerprint': 'fp_1bbe7845ec', 'finish_reason': 'tool_calls', 'logprobs': None}, id='run--79a6f1e2-4233-46d8-be1f-396e5fcffc5b-0', tool_calls=[{'name': 'search', 'args': {'query': 'current GDP of Japan'}, 'id': 'x8r4nq8xe', 'type': 'tool_call'}], usage_metadata={'input_tokens': 2404, 'output_tokens': 189, 'total_tokens': 2593}),\n",
       "  HumanMessage(content='What is the current gdp of the japan?', additional_kwargs={}, response_metadata={}),\n",
       "  AIMessage(content=\"To find the current GDP of Japan, follow these steps:\\n\\n1. **Identify Reputable Sources**: Visit websites of organizations like the World Bank, IMF, OECD, or Japan's official statistics bureau for reliable data.\\n\\n2. **Check Latest Reports**: Look for the most recent publications or press releases on these websites.\\n\\n3. **Ensure Up-to-Date Information**: Verify that the GDP figures are for the latest available year or quarter.\\n\\n4. **Currency Conversion**: If the GDP is listed in Japanese Yen (JPY), convert it to US Dollars (USD) for comparison purposes using current exchange rates.\\n\\n5. **Cross-Reference**: Compare data from multiple sources to ensure accuracy and consistency.\\n\\nBy following these steps, you can accurately determine the current GDP of Japan.\", additional_kwargs={}, response_metadata={'token_usage': {'completion_tokens': 748, 'prompt_tokens': 2446, 'total_tokens': 3194, 'completion_time': 2.7199999999999998, 'prompt_time': 0.182413359, 'queue_time': 0.204171889, 'total_time': 2.902413359}, 'model_name': 'deepseek-r1-distill-llama-70b', 'system_fingerprint': 'fp_1bbe7845ec', 'finish_reason': 'stop', 'logprobs': None}, id='run--3ce8a41e-f859-4fec-93d1-a96548bd0c05-0', usage_metadata={'input_tokens': 2446, 'output_tokens': 748, 'total_tokens': 3194})]}"
      ]
     },
     "execution_count": 168,
     "metadata": {},
     "output_type": "execute_result"
    }
   ],
   "source": [
    "app2.invoke({\"messages\":[HumanMessage(\"What is the current gdp of the japan?\")]},config=config)"
   ]
  },
  {
   "cell_type": "code",
   "execution_count": null,
   "id": "f137c624",
   "metadata": {},
   "outputs": [],
   "source": []
  }
 ],
 "metadata": {
  "kernelspec": {
   "display_name": "base",
   "language": "python",
   "name": "python3"
  },
  "language_info": {
   "codemirror_mode": {
    "name": "ipython",
    "version": 3
   },
   "file_extension": ".py",
   "mimetype": "text/x-python",
   "name": "python",
   "nbconvert_exporter": "python",
   "pygments_lexer": "ipython3",
   "version": "3.12.7"
  }
 },
 "nbformat": 4,
 "nbformat_minor": 5
}
