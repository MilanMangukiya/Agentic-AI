{
 "cells": [
  {
   "cell_type": "markdown",
   "id": "6046748a",
   "metadata": {},
   "source": [
    "## graph - state - edges - nodes - invoke - stategraph"
   ]
  },
  {
   "cell_type": "code",
   "execution_count": 1,
   "id": "708536ce",
   "metadata": {},
   "outputs": [],
   "source": [
    "def function1(input1):\n",
    "    return input1+ \" from first function\""
   ]
  },
  {
   "cell_type": "code",
   "execution_count": 2,
   "id": "7ff31f48",
   "metadata": {},
   "outputs": [],
   "source": [
    "def function2(input2):\n",
    "    return input2+ \"  from second function\""
   ]
  },
  {
   "cell_type": "code",
   "execution_count": 3,
   "id": "f8d9b41c",
   "metadata": {},
   "outputs": [],
   "source": [
    "def function3(input3):\n",
    "    pass"
   ]
  },
  {
   "cell_type": "code",
   "execution_count": 4,
   "id": "29b274fa",
   "metadata": {},
   "outputs": [
    {
     "data": {
      "text/plain": [
       "'Hello from first function'"
      ]
     },
     "execution_count": 4,
     "metadata": {},
     "output_type": "execute_result"
    }
   ],
   "source": [
    "function1(\"Hello\")"
   ]
  },
  {
   "cell_type": "code",
   "execution_count": 5,
   "id": "a84ef2ed",
   "metadata": {},
   "outputs": [
    {
     "data": {
      "text/plain": [
       "'World  from second function'"
      ]
     },
     "execution_count": 5,
     "metadata": {},
     "output_type": "execute_result"
    }
   ],
   "source": [
    "function2(\"World\")"
   ]
  },
  {
   "cell_type": "code",
   "execution_count": 6,
   "id": "9e588cee",
   "metadata": {},
   "outputs": [],
   "source": [
    "from langgraph.graph import Graph"
   ]
  },
  {
   "cell_type": "code",
   "execution_count": 7,
   "id": "3dddef80",
   "metadata": {},
   "outputs": [],
   "source": [
    "workflow1=Graph()"
   ]
  },
  {
   "cell_type": "code",
   "execution_count": 8,
   "id": "a4efe42c",
   "metadata": {},
   "outputs": [
    {
     "data": {
      "text/plain": [
       "<langgraph.graph.graph.Graph at 0x18cb1f11400>"
      ]
     },
     "execution_count": 8,
     "metadata": {},
     "output_type": "execute_result"
    }
   ],
   "source": [
    "workflow1.add_node(\"fun1\",function1)"
   ]
  },
  {
   "cell_type": "code",
   "execution_count": 9,
   "id": "5664deb0",
   "metadata": {},
   "outputs": [
    {
     "data": {
      "text/plain": [
       "<langgraph.graph.graph.Graph at 0x18cb1f11400>"
      ]
     },
     "execution_count": 9,
     "metadata": {},
     "output_type": "execute_result"
    }
   ],
   "source": [
    "workflow1.add_node(\"fun2\",function2)"
   ]
  },
  {
   "cell_type": "code",
   "execution_count": 10,
   "id": "038d8343",
   "metadata": {},
   "outputs": [
    {
     "data": {
      "text/plain": [
       "<langgraph.graph.graph.Graph at 0x18cb1f11400>"
      ]
     },
     "execution_count": 10,
     "metadata": {},
     "output_type": "execute_result"
    }
   ],
   "source": [
    "workflow1.add_edge(\"fun1\",\"fun2\")"
   ]
  },
  {
   "cell_type": "code",
   "execution_count": 11,
   "id": "d46ff47e",
   "metadata": {},
   "outputs": [
    {
     "data": {
      "text/plain": [
       "<langgraph.graph.graph.Graph at 0x18cb1f11400>"
      ]
     },
     "execution_count": 11,
     "metadata": {},
     "output_type": "execute_result"
    }
   ],
   "source": [
    "workflow1.set_entry_point(\"fun1\")"
   ]
  },
  {
   "cell_type": "code",
   "execution_count": 12,
   "id": "927aef13",
   "metadata": {},
   "outputs": [
    {
     "data": {
      "text/plain": [
       "<langgraph.graph.graph.Graph at 0x18cb1f11400>"
      ]
     },
     "execution_count": 12,
     "metadata": {},
     "output_type": "execute_result"
    }
   ],
   "source": [
    "workflow1.set_finish_point(\"fun2\")"
   ]
  },
  {
   "cell_type": "code",
   "execution_count": 13,
   "id": "3136d7fb",
   "metadata": {},
   "outputs": [],
   "source": [
    "app=workflow1.compile()"
   ]
  },
  {
   "cell_type": "code",
   "execution_count": 14,
   "id": "2f99fdf5",
   "metadata": {},
   "outputs": [
    {
     "data": {
      "text/plain": [
       "Graph(nodes={'fun1': Node(id='fun1', name='fun1', data=fun1(tags=None, recurse=True, explode_args=False, func_accepts_config=False, func_accepts={}), metadata=None), 'fun2': Node(id='fun2', name='fun2', data=fun2(tags=None, recurse=True, explode_args=False, func_accepts_config=False, func_accepts={}), metadata=None), '__start__': Node(id='__start__', name='__start__', data=None, metadata=None), '__end__': Node(id='__end__', name='__end__', data=None, metadata=None)}, edges=[Edge(source='__start__', target='fun1', data=None, conditional=False), Edge(source='fun1', target='fun2', data=None, conditional=False), Edge(source='fun2', target='__end__', data=None, conditional=False)])"
      ]
     },
     "execution_count": 14,
     "metadata": {},
     "output_type": "execute_result"
    }
   ],
   "source": [
    "app.get_graph()"
   ]
  },
  {
   "cell_type": "code",
   "execution_count": 15,
   "id": "998a4bdb",
   "metadata": {},
   "outputs": [],
   "source": [
    "from IPython.display import Image, display"
   ]
  },
  {
   "cell_type": "code",
   "execution_count": 16,
   "id": "b0770582",
   "metadata": {},
   "outputs": [
    {
     "data": {
      "image/png": "[encoded data removed]",
      "text/plain": [
       "<IPython.core.display.Image object>"
      ]
     },
     "metadata": {},
     "output_type": "display_data"
    }
   ],
   "source": [
    "display(Image(app.get_graph().draw_mermaid_png()))"
   ]
  },
  {
   "cell_type": "code",
   "execution_count": 17,
   "id": "e8b4eb12",
   "metadata": {},
   "outputs": [
    {
     "data": {
      "text/plain": [
       "'Agentic AI  from first function  from second function'"
      ]
     },
     "execution_count": 17,
     "metadata": {},
     "output_type": "execute_result"
    }
   ],
   "source": [
    "app.invoke(\"Agentic AI \")\n"
   ]
  },
  {
   "cell_type": "code",
   "execution_count": 18,
   "id": "f2eca5d8",
   "metadata": {},
   "outputs": [
    {
     "name": "stdout",
     "output_type": "stream",
     "text": [
      "here is output from fun1\n",
      "_______\n",
      "hi this is rohit from first function\n",
      "\n",
      "\n",
      "here is output from fun2\n",
      "_______\n",
      "hi this is rohit from first function  from second function\n",
      "\n",
      "\n"
     ]
    }
   ],
   "source": [
    "#Visualize the o/p of workflow node wise\n",
    "for output in app.stream(\"hi this is rohit\"):\n",
    "    for key,value in output.items():\n",
    "        print(f\"here is output from {key}\")\n",
    "        print(\"_______\")\n",
    "        print(value)\n",
    "        print(\"\\n\")"
   ]
  },
  {
   "cell_type": "code",
   "execution_count": 19,
   "id": "0114ddca",
   "metadata": {},
   "outputs": [
    {
     "data": {
      "text/plain": [
       "True"
      ]
     },
     "execution_count": 19,
     "metadata": {},
     "output_type": "execute_result"
    }
   ],
   "source": [
    "import os\n",
    "from dotenv import load_dotenv\n",
    "load_dotenv()"
   ]
  },
  {
   "cell_type": "code",
   "execution_count": 20,
   "id": "97dc7966",
   "metadata": {},
   "outputs": [],
   "source": [
    "os.environ[\"GROQ_API_KEY\"] = os.getenv(\"GROQ_API_KEY\")"
   ]
  },
  {
   "cell_type": "code",
   "execution_count": 21,
   "id": "76351e4b",
   "metadata": {},
   "outputs": [],
   "source": [
    "from langchain_groq import ChatGroq\n",
    "model = ChatGroq(model=\"allam-2-7b\")"
   ]
  },
  {
   "cell_type": "code",
   "execution_count": 22,
   "id": "d9391e61",
   "metadata": {},
   "outputs": [],
   "source": [
    "def llm(input):\n",
    "    from langchain_groq import ChatGroq\n",
    "    model = ChatGroq(model=\"allam-2-7b\")\n",
    "    output=model.invoke(input)\n",
    "    return output.content"
   ]
  },
  {
   "cell_type": "code",
   "execution_count": 23,
   "id": "d08668e7",
   "metadata": {},
   "outputs": [],
   "source": [
    "def token_counter(input):\n",
    "    token=input.split()\n",
    "    token_number=len(token)\n",
    "    return f\"total token number in the generated answer is {token_number}\""
   ]
  },
  {
   "cell_type": "code",
   "execution_count": 24,
   "id": "458ab64c",
   "metadata": {},
   "outputs": [],
   "source": [
    "workflow2=Graph()"
   ]
  },
  {
   "cell_type": "code",
   "execution_count": 25,
   "id": "703e9ba3",
   "metadata": {},
   "outputs": [
    {
     "data": {
      "text/plain": [
       "<langgraph.graph.graph.Graph at 0x18cb2379a90>"
      ]
     },
     "execution_count": 25,
     "metadata": {},
     "output_type": "execute_result"
    }
   ],
   "source": [
    "workflow2.add_node(\"llm\", llm)"
   ]
  },
  {
   "cell_type": "code",
   "execution_count": 26,
   "id": "8e537c8e",
   "metadata": {},
   "outputs": [
    {
     "data": {
      "text/plain": [
       "<langgraph.graph.graph.Graph at 0x18cb2379a90>"
      ]
     },
     "execution_count": 26,
     "metadata": {},
     "output_type": "execute_result"
    }
   ],
   "source": [
    "workflow2.add_node(\"token_counter\", token_counter)"
   ]
  },
  {
   "cell_type": "code",
   "execution_count": 27,
   "id": "012b6a8d",
   "metadata": {},
   "outputs": [
    {
     "data": {
      "text/plain": [
       "<langgraph.graph.graph.Graph at 0x18cb2379a90>"
      ]
     },
     "execution_count": 27,
     "metadata": {},
     "output_type": "execute_result"
    }
   ],
   "source": [
    "workflow2.add_edge(\"llm\", \"token_counter\")"
   ]
  },
  {
   "cell_type": "code",
   "execution_count": 28,
   "id": "a845f18e",
   "metadata": {},
   "outputs": [
    {
     "data": {
      "text/plain": [
       "<langgraph.graph.graph.Graph at 0x18cb2379a90>"
      ]
     },
     "execution_count": 28,
     "metadata": {},
     "output_type": "execute_result"
    }
   ],
   "source": [
    "workflow2.set_entry_point(\"llm\")"
   ]
  },
  {
   "cell_type": "code",
   "execution_count": 29,
   "id": "cb76c2e9",
   "metadata": {},
   "outputs": [
    {
     "data": {
      "text/plain": [
       "<langgraph.graph.graph.Graph at 0x18cb2379a90>"
      ]
     },
     "execution_count": 29,
     "metadata": {},
     "output_type": "execute_result"
    }
   ],
   "source": [
    "workflow2.set_finish_point(\"token_counter\")"
   ]
  },
  {
   "cell_type": "code",
   "execution_count": 30,
   "id": "0a80c4b8",
   "metadata": {},
   "outputs": [],
   "source": [
    "app=workflow2.compile()"
   ]
  },
  {
   "cell_type": "code",
   "execution_count": 31,
   "id": "cccc9bda",
   "metadata": {},
   "outputs": [
    {
     "data": {
      "image/png": "[encoded data removed]",
      "text/plain": [
       "<IPython.core.display.Image object>"
      ]
     },
     "metadata": {},
     "output_type": "display_data"
    }
   ],
   "source": [
    "display(Image(app.get_graph().draw_mermaid_png()))"
   ]
  },
  {
   "cell_type": "code",
   "execution_count": 32,
   "id": "3fc56891",
   "metadata": {},
   "outputs": [
    {
     "data": {
      "text/plain": [
       "'total token number in the generated answer is 571'"
      ]
     },
     "execution_count": 32,
     "metadata": {},
     "output_type": "execute_result"
    }
   ],
   "source": [
    "app.invoke(\"can you tell me about the india's capital?\")"
   ]
  },
  {
   "cell_type": "code",
   "execution_count": 33,
   "id": "81a3fa25",
   "metadata": {},
   "outputs": [
    {
     "data": {
      "text/plain": [
       "'total token number in the generated answer is 2159'"
      ]
     },
     "execution_count": 33,
     "metadata": {},
     "output_type": "execute_result"
    }
   ],
   "source": [
    "app.invoke(\"tell me about the tata enterpirse in very detail.\")"
   ]
  },
  {
   "cell_type": "code",
   "execution_count": 34,
   "id": "f94b0b57",
   "metadata": {},
   "outputs": [
    {
     "name": "stdout",
     "output_type": "stream",
     "text": [
      "Here is output from llm\n",
      "_______\n",
      "The Tata Enterprise, also known as the Tata Group, is a highly diversified Indian conglomerate founded in 1868 by Jamsetji Tata. It is one of the largest and oldest business families in India, with a rich history of industrial and philanthropic endeavors. The Tata Group comprises over 100 companies spanning various sectors, including automotive, aviation, steel, telecommunications, agriculture, hotels, and more.\n",
      "\n",
      "Let's dive into the history, structure, and major achievements of the Tata Enterprise:\n",
      "\n",
      "1. Founding and Early Years:\n",
      "   - Jamsetji Tata, a Parsi businessman, established the Tata Group with his first company, Tata Sons Limited, in 1868.\n",
      "   - Jamsetji's son, Sir Ratan Tata, took over the leadership of the group in 1932 and played a significant role in expanding the company's portfolio.\n",
      "   - Under his guidance, the Tata Group diversified into sectors like steel, textiles, and aviation.\n",
      "\n",
      "2. Expansion and Modernization:\n",
      "   - In the 1950s and 1960s, Tata Steel was established as India's first integrated steel plant, laying the foundation for the group's steel manufacturing capabilities.\n",
      "   - In 1945, Tata Motors was established, leading to the launch of India's first home-grown car, the Tata 1500, in 1958.\n",
      "   - In the aviation sector, Tata Airlines (now Air India) was founded in 1932, which later merged with Indian Airlines to become Air India Limited.\n",
      "\n",
      "3. Contemporary Structure:\n",
      "   - Tata Sons, the holding company, has several subsidiaries and associate companies across various sectors.\n",
      "   - The Tata Group's structure includes Tata Consultancy Services (TCS), India's largest IT services firm, and Tata Motors, one of the largest automobile manufacturers in India.\n",
      "   - Tata Steel is one of the largest steel manufacturers in India and the world.\n",
      "   - The Tata Group also includes many well-known brands, such as Tata Consultancy Services (TCS), Taj Hotels, Air India, and Tata Steel.\n",
      "\n",
      "4. Philanthropy and Social Responsibility:\n",
      "   - The Tata Group is well-known for its philanthropic activities and social responsibility programs.\n",
      "   - The Tata Trusts were established in 1919 by Jamsetji Tata, with a mission to improve the overall well-being of society and contribute to India's development.\n",
      "   - The Tata Group's philanthropic initiatives include supporting education, healthcare, rural development, and environmental conservation.\n",
      "\n",
      "5. Corporate Governance:\n",
      "   - Tata Sons Limited is the parent company of the Tata Group, with the majority of shares held by the Tata Trusts.\n",
      "   - The trusts act as a philanthropic arm of the Tata Group and guide the management of the group's businesses.\n",
      "   - The Tata family holds a significant stake in Tata Sons, but the majority ownership is held by the Tata Trusts, ensuring that the group operates with a strong social and ethical framework.\n",
      "\n",
      "6. Strategic Partnerships and Expansion:\n",
      "   - The Tata Group has pursued strategic partnerships and acquisitions to expand its business portfolio and maintain its competitive edge in the Indian market.\n",
      "   - Some notable acquisitions include:\n",
      "     - Corus Group, a UK-based steel company, in 2007, leading to the creation of Tata Steel.\n",
      "     - The acquisition of Jaguar Land Rover Automotive North America Inc. in 2008, making Tata Motors the owner of the renowned Jaguar Land Rover automotive brand.\n",
      "\n",
      "7. Ethical Business Practices:\n",
      "   - The Tata Group is known for its commitment to sustainable business practices and adherence to ethical principles.\n",
      "   - The group has implemented various initiatives to ensure environmental sustainability, social responsibility, and responsible business practices, reflecting the values of its founder, Jamsetji Tata.\n",
      "\n",
      "8. Philanthropy:\n",
      "   - The Tata Group is one of the largest corporate donors in India, contributing significantly to social causes and educational institutions.\n",
      "   - The Tata Trusts, established by Jamsetji Tata, control the majority of Tata Sons Limited, ensuring that the group's philanthropy is deeply rooted in its history.\n",
      "\n",
      "9. Impact in Indian Economy and Industry:\n",
      "   - The Tata Group has played a significant role in India's industrial development, contributing to the growth of the Indian economy and various sectors.\n",
      "   - The Tata Group has provided employment to millions of people, driving economic growth and promoting sustainable development in India.\n",
      "   - Tata's involvement in industries like steel, automobiles, information technology, hotels, and more has led to its significant impact on the Indian economy and society.\n",
      "\n",
      "10. Innovation and Technological Advancements:\n",
      "   - The Tata Group has been a pioneer in various industries, contributing to innovation and technological advancements in India.\n",
      "   - Examples include Tata Motors' development of India's first passenger car (Tata Motors' Premier Automotive) and the world's first commercial vehicle (Tata Engineering and Locomotive Works).\n",
      "\n",
      "11. Philanthropy and Corporate Social Responsibility:\n",
      "   - The Tata Group is known for philanthropy, with the Tata Trusts overseeing significant grants and supporting various social causes, making significant contributions to India's development.\n",
      "   - The Tata Trusts have donated billions of rupees for education, healthcare, and social welfare projects across India.\n",
      "\n",
      "The Tata Enterprise has significantly contributed to India's industrial growth, social welfare, and philanthropy. The group's focus on sustainable development, innovation, and social responsibility has made it one of India's largest business conglomerates. The Tata Group has played a pivotal role in India's economic development and has left a lasting impact on various industries and sectors.\n",
      "\n",
      "In summary, the Tata Enterprise is a testament to the legacy of Jamsetji Tata, who established the Tata Group with a vision of creating a group of companies that contribute to India's development while maintaining strong ethical business practices.\n",
      "\n",
      "Tata Group companies have contributed significantly to India's growth, innovation, and social welfare initiatives. Their commitment to sustainable development, innovation, and corporate social responsibility has helped shape India's economy and society.\n",
      "\n",
      "To summarize, the Tata Enterprise is a testament to the vision of Jamsetji Tata, who established the group with a focus on creating a group of companies that contribute to India's development while maintaining strong ethical business practices.\n",
      "\n",
      "If you have any specific questions about Tata Motors, Tata Steel, or other Tata Group companies, feel free to ask, and I'll be happy to provide more detailed information about them. \n",
      "Here is output from token_counter\n",
      "_______\n",
      "total token number in the generated answer is 975\n"
     ]
    }
   ],
   "source": [
    "for output in app.stream(\"tell me about the tata enterpirse in very detail.\"):\n",
    "    for key,value in output.items():\n",
    "        print(f\"Here is output from {key}\")\n",
    "        print(\"_______\")\n",
    "        print(value)"
   ]
  }
 ],
 "metadata": {
  "kernelspec": {
   "display_name": "Agentic_AI",
   "language": "python",
   "name": "python3"
  },
  "language_info": {
   "codemirror_mode": {
    "name": "ipython",
    "version": 3
   },
   "file_extension": ".py",
   "mimetype": "text/x-python",
   "name": "python",
   "nbconvert_exporter": "python",
   "pygments_lexer": "ipython3",
   "version": "3.13.3"
  }
 },
 "nbformat": 4,
 "nbformat_minor": 5
}
