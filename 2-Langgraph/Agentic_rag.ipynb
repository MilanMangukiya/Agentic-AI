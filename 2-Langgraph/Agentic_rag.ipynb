{
 "cells": [
  {
   "cell_type": "code",
   "execution_count": 1,
   "id": "7e576af8",
   "metadata": {},
   "outputs": [
    {
     "data": {
      "text/plain": [
       "True"
      ]
     },
     "execution_count": 1,
     "metadata": {},
     "output_type": "execute_result"
    }
   ],
   "source": [
    "import os\n",
    "from dotenv import load_dotenv\n",
    "load_dotenv()"
   ]
  },
  {
   "cell_type": "code",
   "execution_count": 2,
   "id": "c0592224",
   "metadata": {},
   "outputs": [],
   "source": [
    "from langchain_groq import ChatGroq\n",
    "llm = ChatGroq(model=\"deepseek-r1-distill-llama-70b\")"
   ]
  },
  {
   "cell_type": "code",
   "execution_count": 8,
   "id": "0ac4d948",
   "metadata": {},
   "outputs": [],
   "source": [
    "from langchain.tools import tool"
   ]
  },
  {
   "cell_type": "markdown",
   "id": "1dc5ae37",
   "metadata": {},
   "source": [
    "### This is my custom tool"
   ]
  },
  {
   "cell_type": "code",
   "execution_count": 9,
   "id": "eaa1e253",
   "metadata": {},
   "outputs": [],
   "source": [
    "@tool\n",
    "def multiply(a: int, b: int) -> int:\n",
    "    \"\"\"Multiplies two numbers.\n",
    "    \n",
    "    Args:\n",
    "        a (int): The first number.\n",
    "        b (int): The second number.\n",
    "        \n",
    "        Returns:\n",
    "        int: The product of a and b.\"\"\"\n",
    "    return a * b\n",
    "\n",
    "@tool\n",
    "def add(a: int, b: int) -> int:\n",
    "    \"\"\"Adds two numbers.\n",
    "\n",
    "    Args:\n",
    "        a (int): The first number.\n",
    "        b (int): The second number.\n",
    "\n",
    "    Returns:\n",
    "        int: The sum of a and b.\"\"\"\n",
    "    return a + b\n",
    "\n",
    "@tool\n",
    "def divide(a: int, b: int) -> float:\n",
    "    \"\"\"Divides two numbers.\n",
    "\n",
    "    Args:\n",
    "        a (int): The numerator.\n",
    "        b (int): The denominator.\n",
    "\n",
    "    Returns:\n",
    "        float: The result of the division.\n",
    "    \"\"\"\n",
    "    if b == 0:\n",
    "        raise ValueError(\"Cannot divide by zero.\")\n",
    "    return a / b"
   ]
  },
  {
   "cell_type": "markdown",
   "id": "a22c7aaf",
   "metadata": {},
   "source": [
    "### Importing the inbuilt tool"
   ]
  },
  {
   "cell_type": "code",
   "execution_count": 10,
   "id": "33ffe6ad",
   "metadata": {},
   "outputs": [],
   "source": [
    "from langchain_community.tools import DuckDuckGoSearchResults\n",
    "search = DuckDuckGoSearchResults()"
   ]
  },
  {
   "cell_type": "code",
   "execution_count": 7,
   "id": "a90cc8fa",
   "metadata": {},
   "outputs": [
    {
     "data": {
      "text/plain": [
       "'snippet: iPhone 17: Price. We haven\\'t yet heard if the iPhone 17 line will cost the same as the iPhone 16 line. Most rumors suggest the \"Plus\" model will be replaced by the new super-slim \"Air ..., title: iPhone 17: Release date, rumors, specs, price of Apple\\'s 2025 iPhone ..., link: https://www.macworld.com/article/2393967/iphone-17-release-date-specs-features-rumors.html, snippet: 2025 could bring one of the biggest updates to the iPhone\\'s design that we\\'ve seen since the 2017 iPhone X, with Apple rumored to be planning for an all-new iPhone 17 \"Air\" that has a much thinner ..., title: iPhone 17: Everything We Know - MacRumors, link: https://www.macrumors.com/roundup/iphone-17/, snippet: The iPhone 17 is already shaping up to be one of its biggest updates in years. From the ultra-slim iPhone 17 Air to a new matte finish, upgraded front cameras, a possible sky blue model and more ..., title: iPhone 17: Everything to know, from release date to price, link: https://www.independent.co.uk/extras/indybest/gadgets-tech/phones-accessories/iphone-17-release-date-price-b2768130.html, snippet: This beta release will be available to anyone who wants it via enrollment at beta.apple.com. Like all beta software, iOS 26\\'s public beta is expected to include bugs and performance issues that ..., title: iOS 26 release date: Here\\'s when the new iPhone update will launch, link: https://9to5mac.com/2025/06/11/ios-26-release-date-heres-when-the-new-iphone-update-will-launch/'"
      ]
     },
     "execution_count": 7,
     "metadata": {},
     "output_type": "execute_result"
    }
   ],
   "source": [
    "search.invoke(\"What is the latest update on iPhone 17 release?\")"
   ]
  },
  {
   "cell_type": "code",
   "execution_count": 11,
   "id": "ac6a54fb",
   "metadata": {},
   "outputs": [],
   "source": [
    "tools = [multiply, add, divide, search]"
   ]
  },
  {
   "cell_type": "code",
   "execution_count": 12,
   "id": "10baf2bb",
   "metadata": {},
   "outputs": [],
   "source": [
    "llm_with_tools = llm.bind_tools(tools)"
   ]
  },
  {
   "cell_type": "code",
   "execution_count": 20,
   "id": "ad90537a",
   "metadata": {},
   "outputs": [],
   "source": [
    "response = llm_with_tools.invoke(\"what is 10/2\")"
   ]
  },
  {
   "cell_type": "code",
   "execution_count": 21,
   "id": "b291aa59",
   "metadata": {},
   "outputs": [
    {
     "data": {
      "text/plain": [
       "''"
      ]
     },
     "execution_count": 21,
     "metadata": {},
     "output_type": "execute_result"
    }
   ],
   "source": [
    "response.content"
   ]
  },
  {
   "cell_type": "code",
   "execution_count": 22,
   "id": "661596f5",
   "metadata": {},
   "outputs": [
    {
     "data": {
      "text/plain": [
       "[{'name': 'divide',\n",
       "  'args': {'a': 10, 'b': 2},\n",
       "  'id': 'vr6aned0b',\n",
       "  'type': 'tool_call'}]"
      ]
     },
     "execution_count": 22,
     "metadata": {},
     "output_type": "execute_result"
    }
   ],
   "source": [
    "response.tool_calls"
   ]
  },
  {
   "cell_type": "code",
   "execution_count": 23,
   "id": "b05ba67b",
   "metadata": {},
   "outputs": [],
   "source": [
    "response = llm_with_tools.invoke(\"what is the current age of the TATA group?\")"
   ]
  },
  {
   "cell_type": "code",
   "execution_count": 24,
   "id": "01c8bb34",
   "metadata": {},
   "outputs": [
    {
     "data": {
      "text/plain": [
       "''"
      ]
     },
     "execution_count": 24,
     "metadata": {},
     "output_type": "execute_result"
    }
   ],
   "source": [
    "response.content"
   ]
  },
  {
   "cell_type": "code",
   "execution_count": 25,
   "id": "e898cd6a",
   "metadata": {},
   "outputs": [
    {
     "data": {
      "text/plain": [
       "[{'name': 'duckduckgo_results_json',\n",
       "  'args': {'query': 'TATA group age 2023'},\n",
       "  'id': '67zzrwrny',\n",
       "  'type': 'tool_call'}]"
      ]
     },
     "execution_count": 25,
     "metadata": {},
     "output_type": "execute_result"
    }
   ],
   "source": [
    "response.tool_calls"
   ]
  },
  {
   "cell_type": "code",
   "execution_count": 56,
   "id": "8d023453",
   "metadata": {},
   "outputs": [],
   "source": [
    "SYSTEM_PROMPT=\"You are a helpful assistant tasked with using search and performing arithmetic on a set of inputs.\""
   ]
  },
  {
   "cell_type": "code",
   "execution_count": 54,
   "id": "bee1c7cf",
   "metadata": {},
   "outputs": [],
   "source": [
    "user_query=[\"tell me what is 2+2\"]"
   ]
  },
  {
   "cell_type": "code",
   "execution_count": 55,
   "id": "c43bf90e",
   "metadata": {},
   "outputs": [
    {
     "data": {
      "text/plain": [
       "['You are a helpful assistant tasked with using search and performing arithmetic on a set of inputs.',\n",
       " 'tell me what is 2+2']"
      ]
     },
     "execution_count": 55,
     "metadata": {},
     "output_type": "execute_result"
    }
   ],
   "source": [
    "[SYSTEM_PROMPT]+user_query"
   ]
  },
  {
   "cell_type": "code",
   "execution_count": 58,
   "id": "c4c02dfb",
   "metadata": {},
   "outputs": [],
   "source": [
    "def function_1(state:MessagesState):\n",
    "    \n",
    "    user_question=state[\"messages\"]\n",
    "    \n",
    "    input_question = [SYSTEM_PROMPT]+user_question\n",
    "    \n",
    "    response = llm_with_tools.invoke(input_question)\n",
    "    \n",
    "    return {\n",
    "        \"messages\":[response]\n",
    "    }"
   ]
  },
  {
   "cell_type": "code",
   "execution_count": 99,
   "id": "1c453067",
   "metadata": {},
   "outputs": [],
   "source": [
    "from langchain_core.messages import HumanMessage, AIMessage, SystemMessage\n",
    "from langgraph.graph import StateGraph,MessagesState,START,END"
   ]
  },
  {
   "cell_type": "code",
   "execution_count": 60,
   "id": "d4ee7baa",
   "metadata": {},
   "outputs": [],
   "source": [
    "builder = StateGraph(MessagesState)"
   ]
  },
  {
   "cell_type": "code",
   "execution_count": 61,
   "id": "ef3cdc35",
   "metadata": {},
   "outputs": [
    {
     "data": {
      "text/plain": [
       "<langgraph.graph.state.StateGraph at 0x24a083d5bd0>"
      ]
     },
     "execution_count": 61,
     "metadata": {},
     "output_type": "execute_result"
    }
   ],
   "source": [
    "builder.add_node(\"llm_decision_step\",function_1)"
   ]
  },
  {
   "cell_type": "code",
   "execution_count": 46,
   "id": "04ff5a57",
   "metadata": {},
   "outputs": [
    {
     "data": {
      "text/plain": [
       "[StructuredTool(name='multiply', description='Multiplies two numbers.\\n\\nArgs:\\n    a (int): The first number.\\n    b (int): The second number.\\n\\n    Returns:\\n    int: The product of a and b.', args_schema=<class 'langchain_core.utils.pydantic.multiply'>, func=<function multiply at 0x0000024A7FE34900>),\n",
       " StructuredTool(name='add', description='Adds two numbers.\\n\\nArgs:\\n    a (int): The first number.\\n    b (int): The second number.\\n\\nReturns:\\n    int: The sum of a and b.', args_schema=<class 'langchain_core.utils.pydantic.add'>, func=<function add at 0x0000024A7FE34680>),\n",
       " StructuredTool(name='divide', description='Divides two numbers.\\n\\nArgs:\\n    a (int): The numerator.\\n    b (int): The denominator.\\n\\nReturns:\\n    float: The result of the division.', args_schema=<class 'langchain_core.utils.pydantic.divide'>, func=<function divide at 0x0000024A7FE347C0>),\n",
       " DuckDuckGoSearchResults(api_wrapper=DuckDuckGoSearchAPIWrapper(region='wt-wt', safesearch='moderate', time='y', max_results=5, backend='auto', source='text'))]"
      ]
     },
     "execution_count": 46,
     "metadata": {},
     "output_type": "execute_result"
    }
   ],
   "source": [
    "tools"
   ]
  },
  {
   "cell_type": "code",
   "execution_count": 62,
   "id": "7b657cb7",
   "metadata": {},
   "outputs": [
    {
     "data": {
      "text/plain": [
       "<langgraph.graph.state.StateGraph at 0x24a083d5bd0>"
      ]
     },
     "execution_count": 62,
     "metadata": {},
     "output_type": "execute_result"
    }
   ],
   "source": [
    "from langgraph.prebuilt import ToolNode\n",
    "builder.add_node(\"tools\", ToolNode(tools))"
   ]
  },
  {
   "cell_type": "code",
   "execution_count": 63,
   "id": "93f27a46",
   "metadata": {},
   "outputs": [
    {
     "data": {
      "text/plain": [
       "<langgraph.graph.state.StateGraph at 0x24a083d5bd0>"
      ]
     },
     "execution_count": 63,
     "metadata": {},
     "output_type": "execute_result"
    }
   ],
   "source": [
    "builder.add_edge(START, \"llm_decision_step\")"
   ]
  },
  {
   "cell_type": "code",
   "execution_count": 64,
   "id": "cf75e8ca",
   "metadata": {},
   "outputs": [
    {
     "data": {
      "text/plain": [
       "<langgraph.graph.state.StateGraph at 0x24a083d5bd0>"
      ]
     },
     "execution_count": 64,
     "metadata": {},
     "output_type": "execute_result"
    }
   ],
   "source": [
    "from langgraph.prebuilt import tools_condition\n",
    "builder.add_conditional_edges(\"llm_decision_step\", tools_condition)\n"
   ]
  },
  {
   "cell_type": "code",
   "execution_count": 65,
   "id": "8e9f933e",
   "metadata": {},
   "outputs": [
    {
     "data": {
      "text/plain": [
       "<langgraph.graph.state.StateGraph at 0x24a083d5bd0>"
      ]
     },
     "execution_count": 65,
     "metadata": {},
     "output_type": "execute_result"
    }
   ],
   "source": [
    "builder.add_edge(\"tools\",\"llm_decision_step\")"
   ]
  },
  {
   "cell_type": "code",
   "execution_count": 66,
   "id": "d91eb3e7",
   "metadata": {},
   "outputs": [],
   "source": [
    "react_graph = builder.compile()"
   ]
  },
  {
   "cell_type": "code",
   "execution_count": 67,
   "id": "a7c535dd",
   "metadata": {},
   "outputs": [
    {
     "data": {
      "image/png": "[encoded data removed]",
      "text/plain": [
       "<IPython.core.display.Image object>"
      ]
     },
     "metadata": {},
     "output_type": "display_data"
    }
   ],
   "source": [
    "from IPython.display import Image, display\n",
    "display(Image(react_graph.get_graph().draw_mermaid_png()))"
   ]
  },
  {
   "cell_type": "code",
   "execution_count": 68,
   "id": "d1ca3f71",
   "metadata": {},
   "outputs": [],
   "source": [
    "message=[HumanMessage(content=\"What is 2 times of narendramodi's age?\")]"
   ]
  },
  {
   "cell_type": "code",
   "execution_count": 69,
   "id": "092b6d62",
   "metadata": {},
   "outputs": [
    {
     "data": {
      "text/plain": [
       "{'messages': [HumanMessage(content=\"What is 2 times of narendramodi's age?\", additional_kwargs={}, response_metadata={}, id='1d11efac-14e5-4dd3-b8ee-af06a5c9887e'),\n",
       "  AIMessage(content='', additional_kwargs={'tool_calls': [{'id': 'v617a7ahf', 'function': {'arguments': '{\"query\":\"Narendra Modi age 2023\"}', 'name': 'duckduckgo_results_json'}, 'type': 'function'}]}, response_metadata={'token_usage': {'completion_tokens': 386, 'prompt_tokens': 420, 'total_tokens': 806, 'completion_time': 1.5439639189999999, 'prompt_time': 0.034701109, 'queue_time': 0.20360367199999999, 'total_time': 1.578665028}, 'model_name': 'deepseek-r1-distill-llama-70b', 'system_fingerprint': 'fp_1bbe7845ec', 'finish_reason': 'tool_calls', 'logprobs': None}, id='run--2916dcde-342a-4916-938f-c866aa1c0183-0', tool_calls=[{'name': 'duckduckgo_results_json', 'args': {'query': 'Narendra Modi age 2023'}, 'id': 'v617a7ahf', 'type': 'tool_call'}], usage_metadata={'input_tokens': 420, 'output_tokens': 386, 'total_tokens': 806}),\n",
       "  ToolMessage(content=\"snippet: List of all Prime Ministers of India till 2025: Narendra Modi is the current and 14th Prime Minister of India who assumed office on 10 June 2024. Jawaharlal Nehru is the first and the longest ..., title: List of all Prime Ministers of India (1947-2025) | India PM List, link: https://m.jagranjosh.com/general-knowledge/list-of-all-prime-ministers-of-india-1473165149-1, snippet: Learn about the life and achievements of Narendra Modi, the current Prime Minister of India, who was born on September 17, 1950, in Gujarat. Find out his full name, constituency, education, and political journey from a humble background to a prominent leader., title: Narendra Modi Biography, Age, Education, Political Career, link: https://www.studyiq.com/articles/narendra-modi-biography/, snippet: Mahmoud Abbas | Age: 89. ... Narendra Modi | Age: 74. Narendra Modi was born on September 17, 1950, and has served as the Prime Minister of India since 2014. Beforehand, he used to hold the role of chief minister of Gujarat in 2001-2014. ... having assumed office in March 2024 after previously serving from April 2022 to August 2023. He ..., title: Top 10 Oldest Presidents in the World Currently Serving, link: https://en.tempo.co/read/1930849/top-10-oldest-presidents-in-the-world-currently-serving, snippet: 2023: PM Narendra Modi announced the PM Vishwakarma Yojana to enhance the skilling of craftsmen and artisans in the country. Two key infrastructure projects - India International Convention and ..., title: PM Narendra Modi turns 74 today: Here's how he celebrated his birthday ..., link: https://www.hindustantimes.com/india-news/pm-narendra-modi-turns-74-today-heres-how-he-celebrated-his-birthday-over-last-five-years-101726542207485.html\", name='duckduckgo_results_json', id='dbf488dc-b0cb-488e-a6b6-bdb0520fcf72', tool_call_id='v617a7ahf', artifact=[{'snippet': 'List of all Prime Ministers of India till 2025: Narendra Modi is the current and 14th Prime Minister of India who assumed office on 10 June 2024. Jawaharlal Nehru is the first and the longest ...', 'title': 'List of all Prime Ministers of India (1947-2025) | India PM List', 'link': 'https://m.jagranjosh.com/general-knowledge/list-of-all-prime-ministers-of-india-1473165149-1'}, {'snippet': 'Learn about the life and achievements of Narendra Modi, the current Prime Minister of India, who was born on September 17, 1950, in Gujarat. Find out his full name, constituency, education, and political journey from a humble background to a prominent leader.', 'title': 'Narendra Modi Biography, Age, Education, Political Career', 'link': 'https://www.studyiq.com/articles/narendra-modi-biography/'}, {'snippet': 'Mahmoud Abbas | Age: 89. ... Narendra Modi | Age: 74. Narendra Modi was born on September 17, 1950, and has served as the Prime Minister of India since 2014. Beforehand, he used to hold the role of chief minister of Gujarat in 2001-2014. ... having assumed office in March 2024 after previously serving from April 2022 to August 2023. He ...', 'title': 'Top 10 Oldest Presidents in the World Currently Serving', 'link': 'https://en.tempo.co/read/1930849/top-10-oldest-presidents-in-the-world-currently-serving'}, {'snippet': '2023: PM Narendra Modi announced the PM Vishwakarma Yojana to enhance the skilling of craftsmen and artisans in the country. Two key infrastructure projects - India International Convention and ...', 'title': \"PM Narendra Modi turns 74 today: Here's how he celebrated his birthday ...\", 'link': 'https://www.hindustantimes.com/india-news/pm-narendra-modi-turns-74-today-heres-how-he-celebrated-his-birthday-over-last-five-years-101726542207485.html'}]),\n",
       "  AIMessage(content='', additional_kwargs={'tool_calls': [{'id': '6vr2kt2rz', 'function': {'arguments': '{\"a\":74,\"b\":2}', 'name': 'multiply'}, 'type': 'function'}]}, response_metadata={'token_usage': {'completion_tokens': 148, 'prompt_tokens': 914, 'total_tokens': 1062, 'completion_time': 0.538181818, 'prompt_time': 0.070619928, 'queue_time': 0.20391834199999997, 'total_time': 0.608801746}, 'model_name': 'deepseek-r1-distill-llama-70b', 'system_fingerprint': 'fp_1bbe7845ec', 'finish_reason': 'tool_calls', 'logprobs': None}, id='run--435520d2-a242-43b3-9a9e-ae0f5d4a5fcd-0', tool_calls=[{'name': 'multiply', 'args': {'a': 74, 'b': 2}, 'id': '6vr2kt2rz', 'type': 'tool_call'}], usage_metadata={'input_tokens': 914, 'output_tokens': 148, 'total_tokens': 1062}),\n",
       "  ToolMessage(content='148', name='multiply', id='f30c4782-4acc-45e5-9428-daa56bf7032f', tool_call_id='6vr2kt2rz'),\n",
       "  AIMessage(content='', additional_kwargs={'tool_calls': [{'id': 'jfgm53xdb', 'function': {'arguments': '{\"a\":74,\"b\":2}', 'name': 'multiply'}, 'type': 'function'}]}, response_metadata={'token_usage': {'completion_tokens': 520, 'prompt_tokens': 967, 'total_tokens': 1487, 'completion_time': 1.911649958, 'prompt_time': 0.063297813, 'queue_time': 0.20571597600000002, 'total_time': 1.974947771}, 'model_name': 'deepseek-r1-distill-llama-70b', 'system_fingerprint': 'fp_1bbe7845ec', 'finish_reason': 'tool_calls', 'logprobs': None}, id='run--dd862194-15a6-40c7-a86c-d011b9a79e51-0', tool_calls=[{'name': 'multiply', 'args': {'a': 74, 'b': 2}, 'id': 'jfgm53xdb', 'type': 'tool_call'}], usage_metadata={'input_tokens': 967, 'output_tokens': 520, 'total_tokens': 1487}),\n",
       "  ToolMessage(content='148', name='multiply', id='a5416f02-a6c1-41b7-8c8e-c7871683b5c0', tool_call_id='jfgm53xdb'),\n",
       "  AIMessage(content=\"To determine 2 times Narendra Modi's age, follow these steps:\\n\\n1. **Find Narendra Modi's Age**: \\n   - Narendra Modi was born on September 17, 1950.\\n   - As of the current year (2023), he is 73 years old.\\n\\n2. **Calculate 2 Times His Age**:\\n   - Multiply his age by 2: \\\\( 73 \\\\times 2 = 146 \\\\).\\n\\n**Answer**: 146\", additional_kwargs={}, response_metadata={'token_usage': {'completion_tokens': 553, 'prompt_tokens': 1019, 'total_tokens': 1572, 'completion_time': 2.217514506, 'prompt_time': 0.074538279, 'queue_time': 0.22516110700000003, 'total_time': 2.292052785}, 'model_name': 'deepseek-r1-distill-llama-70b', 'system_fingerprint': 'fp_1bbe7845ec', 'finish_reason': 'stop', 'logprobs': None}, id='run--e3fe1e6e-63f1-4bea-89ca-e6574f5c145d-0', usage_metadata={'input_tokens': 1019, 'output_tokens': 553, 'total_tokens': 1572})]}"
      ]
     },
     "execution_count": 69,
     "metadata": {},
     "output_type": "execute_result"
    }
   ],
   "source": [
    "react_graph.invoke({\"messages\":message})"
   ]
  },
  {
   "cell_type": "code",
   "execution_count": 74,
   "id": "863d2163",
   "metadata": {},
   "outputs": [],
   "source": [
    "message = [HumanMessage(content=\"How much is the net worth of Elon Musk, and divide it by 2?\")]"
   ]
  },
  {
   "cell_type": "code",
   "execution_count": 75,
   "id": "2a2ce56d",
   "metadata": {},
   "outputs": [
    {
     "data": {
      "text/plain": [
       "{'messages': [HumanMessage(content='How much is the net worth of Elon Musk, and divide it by 2?', additional_kwargs={}, response_metadata={}, id='0e5082ff-9104-4b34-900e-fd76be47f696'),\n",
       "  AIMessage(content='', additional_kwargs={'tool_calls': [{'id': 'ddsbz5eea', 'function': {'arguments': '{\"query\":\"Elon Musk net worth 2023\"}', 'name': 'duckduckgo_results_json'}, 'type': 'function'}]}, response_metadata={'token_usage': {'completion_tokens': 244, 'prompt_tokens': 424, 'total_tokens': 668, 'completion_time': 0.887272727, 'prompt_time': 0.029349208, 'queue_time': 0.210025413, 'total_time': 0.916621935}, 'model_name': 'deepseek-r1-distill-llama-70b', 'system_fingerprint': 'fp_1bbe7845ec', 'finish_reason': 'tool_calls', 'logprobs': None}, id='run--4b31d069-a369-4bfb-8fa2-126e0f82f9f5-0', tool_calls=[{'name': 'duckduckgo_results_json', 'args': {'query': 'Elon Musk net worth 2023'}, 'id': 'ddsbz5eea', 'type': 'tool_call'}], usage_metadata={'input_tokens': 424, 'output_tokens': 244, 'total_tokens': 668}),\n",
       "  ToolMessage(content=\"snippet: Elon Musk's net worth has reached $400 billion, according to Bloomberg, making him the first to ever reach that level of wealth., title: Elon Musk becomes the first person to reach a net worth of $400 billion, link: https://www.cnn.com/2024/12/11/business/elon-musk-400-billion-net-worth, snippet: Elon Musk is a South African-born Canadian-American businessman, inventor, and investor who has a net worth of $368 billion. Elon Musk is currently the richest person in the world. In November ..., title: Elon Musk Net Worth, link: https://www.celebritynetworth.com/richest-businessmen/ceos/elon-musk-net-worth/, snippet: As of 2025, Elon Musk is the richest person in the world with a net worth of over $300 billion. Here's everything to know about Elon Musk's net worth., title: What Is Elon Musk's Net Worth? How the Tesla CEO Became the Richest ..., link: https://people.com/what-is-elon-musk-net-worth-11696472, snippet: Musk is CEO of publicly traded Tesla, the world's most valuable carmaker, and closely held rocket business SpaceX. Musk owns about 13% of Tesla, according to the company's 2024 proxy statement., title: Bloomberg Billionaires Index - Elon Musk, link: https://www.bloomberg.com/billionaires/profiles/elon-r-musk/\", name='duckduckgo_results_json', id='99175b15-e2f3-4433-a3e9-7c0cb9aee840', tool_call_id='ddsbz5eea', artifact=[{'snippet': \"Elon Musk's net worth has reached $400 billion, according to Bloomberg, making him the first to ever reach that level of wealth.\", 'title': 'Elon Musk becomes the first person to reach a net worth of $400 billion', 'link': 'https://www.cnn.com/2024/12/11/business/elon-musk-400-billion-net-worth'}, {'snippet': 'Elon Musk is a South African-born Canadian-American businessman, inventor, and investor who has a net worth of $368 billion. Elon Musk is currently the richest person in the world. In November ...', 'title': 'Elon Musk Net Worth', 'link': 'https://www.celebritynetworth.com/richest-businessmen/ceos/elon-musk-net-worth/'}, {'snippet': \"As of 2025, Elon Musk is the richest person in the world with a net worth of over $300 billion. Here's everything to know about Elon Musk's net worth.\", 'title': \"What Is Elon Musk's Net Worth? How the Tesla CEO Became the Richest ...\", 'link': 'https://people.com/what-is-elon-musk-net-worth-11696472'}, {'snippet': \"Musk is CEO of publicly traded Tesla, the world's most valuable carmaker, and closely held rocket business SpaceX. Musk owns about 13% of Tesla, according to the company's 2024 proxy statement.\", 'title': 'Bloomberg Billionaires Index - Elon Musk', 'link': 'https://www.bloomberg.com/billionaires/profiles/elon-r-musk/'}]),\n",
       "  AIMessage(content='', additional_kwargs={'tool_calls': [{'id': '18pp85wat', 'function': {'arguments': '{\"a\":368000000000,\"b\":2}', 'name': 'divide'}, 'type': 'function'}]}, response_metadata={'token_usage': {'completion_tokens': 285, 'prompt_tokens': 784, 'total_tokens': 1069, 'completion_time': 1.069241846, 'prompt_time': 0.057447496, 'queue_time': 0.20379617700000002, 'total_time': 1.126689342}, 'model_name': 'deepseek-r1-distill-llama-70b', 'system_fingerprint': 'fp_1bbe7845ec', 'finish_reason': 'tool_calls', 'logprobs': None}, id='run--39d5e9a8-bd40-4933-95e7-98b5a233e1cb-0', tool_calls=[{'name': 'divide', 'args': {'a': 368000000000, 'b': 2}, 'id': '18pp85wat', 'type': 'tool_call'}], usage_metadata={'input_tokens': 784, 'output_tokens': 285, 'total_tokens': 1069}),\n",
       "  ToolMessage(content='184000000000.0', name='divide', id='c9911c37-3be6-49b7-a737-26f3fa139346', tool_call_id='18pp85wat'),\n",
       "  AIMessage(content='The net worth of Elon Musk is $368 billion. When divided by 2, the result is:\\n\\n$\\\\boxed{184000000000.0}$', additional_kwargs={}, response_metadata={'token_usage': {'completion_tokens': 128, 'prompt_tokens': 843, 'total_tokens': 971, 'completion_time': 0.465454545, 'prompt_time': 0.06695756, 'queue_time': 0.20476168800000003, 'total_time': 0.532412105}, 'model_name': 'deepseek-r1-distill-llama-70b', 'system_fingerprint': 'fp_1bbe7845ec', 'finish_reason': 'stop', 'logprobs': None}, id='run--b27d4e30-6a06-4893-900b-7f850158fa2c-0', usage_metadata={'input_tokens': 843, 'output_tokens': 128, 'total_tokens': 971})]}"
      ]
     },
     "execution_count": 75,
     "metadata": {},
     "output_type": "execute_result"
    }
   ],
   "source": [
    "react_graph.invoke({\"messages\":message})"
   ]
  },
  {
   "cell_type": "code",
   "execution_count": 82,
   "id": "bc2c9946",
   "metadata": {},
   "outputs": [],
   "source": [
    "message = [HumanMessage(content=\"What is the speed of light in m/s and multiply it by 10?\")]"
   ]
  },
  {
   "cell_type": "code",
   "execution_count": 83,
   "id": "d8d6cba1",
   "metadata": {},
   "outputs": [],
   "source": [
    "response=react_graph.invoke({\"messages\":message})"
   ]
  },
  {
   "cell_type": "code",
   "execution_count": 84,
   "id": "aa78c2e1",
   "metadata": {},
   "outputs": [
    {
     "data": {
      "text/plain": [
       "'The speed of light is 299,792,458 meters per second. When multiplied by 10, the result is 2,997,924,580 meters per second.'"
      ]
     },
     "execution_count": 84,
     "metadata": {},
     "output_type": "execute_result"
    }
   ],
   "source": [
    "response[\"messages\"][-1].content"
   ]
  },
  {
   "cell_type": "code",
   "execution_count": 85,
   "id": "7da6e853",
   "metadata": {},
   "outputs": [
    {
     "name": "stdout",
     "output_type": "stream",
     "text": [
      "================================\u001b[1m Human Message \u001b[0m=================================\n",
      "\n",
      "What is the speed of light in m/s and multiply it by 10?\n",
      "==================================\u001b[1m Ai Message \u001b[0m==================================\n",
      "Tool Calls:\n",
      "  multiply (1wh5xryf5)\n",
      " Call ID: 1wh5xryf5\n",
      "  Args:\n",
      "    a: 299792458\n",
      "    b: 10\n",
      "=================================\u001b[1m Tool Message \u001b[0m=================================\n",
      "Name: multiply\n",
      "\n",
      "2997924580\n",
      "==================================\u001b[1m Ai Message \u001b[0m==================================\n",
      "\n",
      "The speed of light is 299,792,458 meters per second. When multiplied by 10, the result is 2,997,924,580 meters per second.\n"
     ]
    }
   ],
   "source": [
    "for m in response[\"messages\"]:\n",
    "    m.pretty_print()"
   ]
  },
  {
   "cell_type": "code",
   "execution_count": 87,
   "id": "541d7396",
   "metadata": {},
   "outputs": [],
   "source": [
    "import yfinance as yf"
   ]
  },
  {
   "cell_type": "code",
   "execution_count": 88,
   "id": "a806f6e3",
   "metadata": {},
   "outputs": [],
   "source": [
    "@tool\n",
    "def get_stock_price(ticker:str)->str:\n",
    "    \"\"\"\n",
    "    Fetches the previous closing price of a given stock ticker from Yahoo Finance.\n",
    "\n",
    "    Args:\n",
    "        ticker (str): The stock ticker symbol (e.g., 'AAPL', 'TSLA', 'NIFTY.BO').\n",
    "\n",
    "    Returns:\n",
    "        str: A message with the stock's previous closing price.\n",
    "    \"\"\"\n",
    "    try:\n",
    "        stock = yf.Ticker(ticker)\n",
    "        price = stock.info.get('previousClose')\n",
    "        if price is None:\n",
    "            return f\"Could not fetch price for ticker '{ticker}'.\"\n",
    "        return f\"The last closing price of {ticker.upper()} was ${price:.2f}.\"\n",
    "    except Exception as e:\n",
    "        return f\"An error occurred while fetching stock data: {str(e)}\""
   ]
  },
  {
   "cell_type": "code",
   "execution_count": 89,
   "id": "1c4db915",
   "metadata": {},
   "outputs": [
    {
     "data": {
      "text/plain": [
       "'The last closing price of AAPL was $199.20.'"
      ]
     },
     "execution_count": 89,
     "metadata": {},
     "output_type": "execute_result"
    }
   ],
   "source": [
    "get_stock_price.invoke(\"AAPL\")"
   ]
  },
  {
   "cell_type": "code",
   "execution_count": 90,
   "id": "97857611",
   "metadata": {},
   "outputs": [
    {
     "data": {
      "text/plain": [
       "'The last closing price of TSLA was $319.11.'"
      ]
     },
     "execution_count": 90,
     "metadata": {},
     "output_type": "execute_result"
    }
   ],
   "source": [
    "get_stock_price.invoke(\"TSLA\")"
   ]
  },
  {
   "cell_type": "code",
   "execution_count": 93,
   "id": "5f388a40",
   "metadata": {},
   "outputs": [
    {
     "data": {
      "text/plain": [
       "[StructuredTool(name='add', description='Adds two numbers.\\n\\nArgs:\\n    a (int): The first number.\\n    b (int): The second number.\\n\\nReturns:\\n    int: The sum of a and b.', args_schema=<class 'langchain_core.utils.pydantic.add'>, func=<function add at 0x0000024A7FE34680>),\n",
       " StructuredTool(name='multiply', description='Multiplies two numbers.\\n\\nArgs:\\n    a (int): The first number.\\n    b (int): The second number.\\n\\n    Returns:\\n    int: The product of a and b.', args_schema=<class 'langchain_core.utils.pydantic.multiply'>, func=<function multiply at 0x0000024A7FE34900>),\n",
       " StructuredTool(name='divide', description='Divides two numbers.\\n\\nArgs:\\n    a (int): The numerator.\\n    b (int): The denominator.\\n\\nReturns:\\n    float: The result of the division.', args_schema=<class 'langchain_core.utils.pydantic.divide'>, func=<function divide at 0x0000024A7FE347C0>),\n",
       " DuckDuckGoSearchResults(api_wrapper=DuckDuckGoSearchAPIWrapper(region='wt-wt', safesearch='moderate', time='y', max_results=5, backend='auto', source='text')),\n",
       " StructuredTool(name='get_stock_price', description=\"Fetches the previous closing price of a given stock ticker from Yahoo Finance.\\n\\nArgs:\\n    ticker (str): The stock ticker symbol (e.g., 'AAPL', 'TSLA', 'NIFTY.BO').\\n\\nReturns:\\n    str: A message with the stock's previous closing price.\", args_schema=<class 'langchain_core.utils.pydantic.get_stock_price'>, func=<function get_stock_price at 0x0000024A0A67A020>)]"
      ]
     },
     "execution_count": 93,
     "metadata": {},
     "output_type": "execute_result"
    }
   ],
   "source": [
    "tools"
   ]
  },
  {
   "cell_type": "code",
   "execution_count": 92,
   "id": "29ef5ee4",
   "metadata": {},
   "outputs": [],
   "source": [
    "tools = [add, multiply, divide, search, get_stock_price]"
   ]
  },
  {
   "cell_type": "code",
   "execution_count": 94,
   "id": "b19c03ca",
   "metadata": {},
   "outputs": [],
   "source": [
    "llm_with_tools=llm.bind_tools(tools)"
   ]
  },
  {
   "cell_type": "code",
   "execution_count": 95,
   "id": "67749fbf",
   "metadata": {},
   "outputs": [],
   "source": [
    "response=llm_with_tools.invoke(\"can you give me a latest stock price of adani greens?\")"
   ]
  },
  {
   "cell_type": "code",
   "execution_count": 96,
   "id": "12364f96",
   "metadata": {},
   "outputs": [
    {
     "data": {
      "text/plain": [
       "''"
      ]
     },
     "execution_count": 96,
     "metadata": {},
     "output_type": "execute_result"
    }
   ],
   "source": [
    "response.content"
   ]
  },
  {
   "cell_type": "code",
   "execution_count": 97,
   "id": "233f352e",
   "metadata": {},
   "outputs": [
    {
     "data": {
      "text/plain": [
       "[{'name': 'get_stock_price',\n",
       "  'args': {'ticker': 'ADANIGREEN.BO'},\n",
       "  'id': 'fy7nk9svd',\n",
       "  'type': 'tool_call'}]"
      ]
     },
     "execution_count": 97,
     "metadata": {},
     "output_type": "execute_result"
    }
   ],
   "source": [
    "response.tool_calls"
   ]
  },
  {
   "cell_type": "code",
   "execution_count": 100,
   "id": "cb2b33cf",
   "metadata": {},
   "outputs": [],
   "source": [
    "SYSTEM_PROMPT = SystemMessage(\n",
    "    content=\"You are a helpful assistant tasked with using search, the yahoo finance tool and performing arithmetic on a set of inputs.\"\n",
    ")\n",
    "def function_1(state:MessagesState):\n",
    "    \n",
    "    user_question=state[\"messages\"]\n",
    "    \n",
    "    input_question = [SYSTEM_PROMPT]+user_question\n",
    "    \n",
    "    response = llm_with_tools.invoke(input_question)\n",
    "    \n",
    "    return {\n",
    "        \"messages\":[response]\n",
    "    }"
   ]
  },
  {
   "cell_type": "code",
   "execution_count": 101,
   "id": "0955f086",
   "metadata": {},
   "outputs": [],
   "source": [
    "workflow = StateGraph(MessagesState)\n",
    "workflow.add_node(\"llm_decision_step\", function_1)\n",
    "workflow.add_node(\"tools\", ToolNode(tools))\n",
    "workflow.add_edge(START, \"llm_decision_step\")\n",
    "workflow.add_conditional_edges(\n",
    "    \"llm_decision_step\",\n",
    "    tools_condition,\n",
    ")\n",
    "workflow.add_edge(\"tools\", \"llm_decision_step\")\n",
    "react_graph2 = workflow.compile()"
   ]
  },
  {
   "cell_type": "code",
   "execution_count": 102,
   "id": "8c0335f9",
   "metadata": {},
   "outputs": [
    {
     "data": {
      "image/png": "[encoded data removed]",
      "text/plain": [
       "<IPython.core.display.Image object>"
      ]
     },
     "metadata": {},
     "output_type": "display_data"
    }
   ],
   "source": [
    "display(Image(react_graph2.get_graph(xray=True).draw_mermaid_png()))"
   ]
  },
  {
   "cell_type": "code",
   "execution_count": 105,
   "id": "4a118569",
   "metadata": {},
   "outputs": [],
   "source": [
    "messages = [HumanMessage(content=\"add 1000 in the current stock price of Apple.\")]\n",
    "messages = react_graph2.invoke({\"messages\": messages})"
   ]
  },
  {
   "cell_type": "code",
   "execution_count": 106,
   "id": "279c1e25",
   "metadata": {},
   "outputs": [
    {
     "name": "stdout",
     "output_type": "stream",
     "text": [
      "================================\u001b[1m Human Message \u001b[0m=================================\n",
      "\n",
      "add 1000 in the current stock price of Apple.\n",
      "==================================\u001b[1m Ai Message \u001b[0m==================================\n",
      "Tool Calls:\n",
      "  get_stock_price (4mp2ngqmx)\n",
      " Call ID: 4mp2ngqmx\n",
      "  Args:\n",
      "    ticker: AAPL\n",
      "=================================\u001b[1m Tool Message \u001b[0m=================================\n",
      "Name: get_stock_price\n",
      "\n",
      "The last closing price of AAPL was $199.20.\n",
      "==================================\u001b[1m Ai Message \u001b[0m==================================\n",
      "Tool Calls:\n",
      "  add (nkrvx1w1w)\n",
      " Call ID: nkrvx1w1w\n",
      "  Args:\n",
      "    a: 199\n",
      "    b: 1000\n",
      "=================================\u001b[1m Tool Message \u001b[0m=================================\n",
      "Name: add\n",
      "\n",
      "1199\n",
      "==================================\u001b[1m Ai Message \u001b[0m==================================\n",
      "\n",
      "The result of adding 1000 to the current stock price of Apple is 1199.\n"
     ]
    }
   ],
   "source": [
    "for m in messages['messages']:\n",
    "    m.pretty_print()"
   ]
  },
  {
   "cell_type": "code",
   "execution_count": 118,
   "id": "388d358d",
   "metadata": {},
   "outputs": [],
   "source": [
    "messages = [HumanMessage(content=\"can you give me 2 times of current stock price of Apple with the latest news of the Apple.\")]\n",
    "messages = react_graph2.invoke({\"messages\": messages})"
   ]
  },
  {
   "cell_type": "code",
   "execution_count": 119,
   "id": "36bf7a85",
   "metadata": {},
   "outputs": [
    {
     "name": "stdout",
     "output_type": "stream",
     "text": [
      "================================\u001b[1m Human Message \u001b[0m=================================\n",
      "\n",
      "can you give me 2 times of current stock price of Apple with the latest news of the Apple.\n",
      "==================================\u001b[1m Ai Message \u001b[0m==================================\n",
      "Tool Calls:\n",
      "  get_stock_price (q5b84gxtr)\n",
      " Call ID: q5b84gxtr\n",
      "  Args:\n",
      "    ticker: AAPL\n",
      "=================================\u001b[1m Tool Message \u001b[0m=================================\n",
      "Name: get_stock_price\n",
      "\n",
      "The last closing price of AAPL was $199.20.\n",
      "==================================\u001b[1m Ai Message \u001b[0m==================================\n",
      "Tool Calls:\n",
      "  duckduckgo_results_json (8gatyw6qe)\n",
      " Call ID: 8gatyw6qe\n",
      "  Args:\n",
      "    query: latest news Apple\n",
      "=================================\u001b[1m Tool Message \u001b[0m=================================\n",
      "Name: duckduckgo_results_json\n",
      "\n",
      "snippet: At today's WWDC 2025 keynote event, Apple unveiled a new design that will inform the next decade of iOS, iPadOS, and macOS development, so needless to say, it was a busy day. Apple also unveiled a ..., title: Everything Apple Announced at WWDC 2025 in 10 Minutes, link: https://www.macrumors.com/2025/06/09/everything-apple-announced-wwdc-2025/, snippet: CUPERTINO, CALIFORNIA Apple today previewed a beautiful new software design that makes apps and system experiences more expressive and delightful while being instantly familiar. It's crafted with a new material called Liquid Glass. This translucent material reflects and refracts its surroundings, while dynamically transforming to help bring greater focus to content, delivering a new level of ..., title: Apple introduces a delightful and elegant new software design, link: https://www.apple.com/newsroom/2025/06/apple-introduces-a-delightful-and-elegant-new-software-design/, snippet: Before you head off into the weekend, be sure to scope out the Father's Day discounts we are tracking across the latest Apple lineup - M4 iPad Pro, M3 iPad Air, iPad mini 7, M4 MacBook Air ..., title: 9to5Mac - Apple News & Mac Rumors Breaking All Day, link: https://9to5mac.com/, snippet: Get the latest news and share tips for making better decisions for your financial future. ... Apple's \"gorgeous new design,\" for all its platforms is the first major overhaul since iOS 7. It's ..., title: Everything Announced at Apple WWDC 2025: Unified OS Redesign, link: https://www.cnet.com/tech/services-and-software/everything-announced-at-apple-wwdc-2025-new-ios-ipados-macos-visionos-tvos-watchos-updates/\n",
      "==================================\u001b[1m Ai Message \u001b[0m==================================\n",
      "\n",
      "The current stock price of Apple (AAPL) is **$199.20**, so 2 times that price would be **$398.40**.\n",
      "\n",
      "Here's the latest news about Apple:\n",
      "\n",
      "- **WWDC 2025 Key Highlights**: Apple introduced a new design for its operating systems, including iOS, iPadOS, and macOS, featuring a new material called \"Liquid Glass\" that enhances user experience with translucency and dynamic transformations.\n",
      "- **Father's Day Discounts**: There are special deals available on the latest Apple products, including the M4 iPad Pro, M3 iPad Air, iPad mini 7, and M4 MacBook Air.\n",
      "- **Unified OS Redesign**: Apple announced a major overhaul of its operating systems, marking the first significant design change since iOS 7.\n",
      "\n",
      "For more details, you can visit the links provided in the search results.\n"
     ]
    }
   ],
   "source": [
    "for m in messages['messages']:\n",
    "    m.pretty_print()"
   ]
  }
 ],
 "metadata": {
  "kernelspec": {
   "display_name": "Agentic_AI",
   "language": "python",
   "name": "python3"
  },
  "language_info": {
   "codemirror_mode": {
    "name": "ipython",
    "version": 3
   },
   "file_extension": ".py",
   "mimetype": "text/x-python",
   "name": "python",
   "nbconvert_exporter": "python",
   "pygments_lexer": "ipython3",
   "version": "3.13.3"
  }
 },
 "nbformat": 4,
 "nbformat_minor": 5
}
