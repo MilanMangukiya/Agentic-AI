{
 "cells": [
  {
   "cell_type": "code",
   "execution_count": 1,
   "id": "d064ba05",
   "metadata": {},
   "outputs": [
    {
     "data": {
      "text/plain": [
       "True"
      ]
     },
     "execution_count": 1,
     "metadata": {},
     "output_type": "execute_result"
    }
   ],
   "source": [
    "import os\n",
    "from dotenv import load_dotenv\n",
    "load_dotenv()"
   ]
  },
  {
   "cell_type": "code",
   "execution_count": 2,
   "id": "17e60c96",
   "metadata": {},
   "outputs": [],
   "source": [
    "os.environ[\"OPENAI_API_KEY\"] = os.getenv(\"OPENAI_API_KEY\")\n",
    "os.environ[\"GROQ_API_KEY\"] = os.getenv(\"GROQ_API_KEY\")\n",
    "\n",
    "## Langsmith Tracking and Tracing\n",
    "os.environ[\"LANGCHAIN_API_KEY\"] = os.getenv(\"LANGCHAIN_API_KEY\")\n",
    "os.environ[\"LANGCHAIN_PROJECT\"] = os.getenv(\"LANGCHAIN_PROJECT\")\n",
    "os.environ[\"LANGCHAIN_TRACING_V2\"] = \"true\""
   ]
  },
  {
   "cell_type": "code",
   "execution_count": 3,
   "id": "1babd1e8",
   "metadata": {},
   "outputs": [
    {
     "name": "stdout",
     "output_type": "stream",
     "text": [
      "Model Name: client=<openai.resources.chat.completions.completions.Completions object at 0x000001D2E16AABA0> async_client=<openai.resources.chat.completions.completions.AsyncCompletions object at 0x000001D2E16AB620> root_client=<openai.OpenAI object at 0x000001D2E1551E80> root_async_client=<openai.AsyncOpenAI object at 0x000001D2E16AACF0> model_name='o1-mini' temperature=1.0 model_kwargs={} openai_api_key=SecretStr('**********')\n"
     ]
    }
   ],
   "source": [
    "from langchain_openai import ChatOpenAI\n",
    "\n",
    "llm = ChatOpenAI(model=\"o1-mini\")\n",
    "print(\"Model Name:\", llm)"
   ]
  },
  {
   "cell_type": "code",
   "execution_count": 4,
   "id": "a8ca1896",
   "metadata": {},
   "outputs": [
    {
     "data": {
      "text/plain": [
       "AIMessage(content=\"\\n<think>\\nOkay, I need to figure out what the capital of France is. Let's start by recalling what I know about France. France is a country in Western Europe, right? I remember learning about some of its cities like Paris, Lyon, Marseille, and maybe Nice. I think Paris is a major city there. Wait, isn't Paris the capital? Hmm, but I should make sure I'm not confusing it with another country's capital. Let me think... Spain's capital is Madrid, Italy's is Rome, so France must have a different one. I've heard the Eiffel Tower is in Paris, which is in France. That's a landmark, so maybe that's in the capital. But wait, sometimes big cities aren't the capital. Like in the US, New York is big but the capital is Washington D.C. But in France's case, I think Paris is both the largest city and the capital. Let me try to remember any historical context. The French government is there, right? The President's palace, maybe the Élysée Palace? That's in Paris. Also, when I see news about the French government, it's always referred to as being in Paris. So putting this all together, I'm pretty sure the capital of France is Paris. But maybe I should double-check in case there's some recent change or if I'm mixing up information. Wait, no, I don't recall any changes to France's capital. Yeah, I think that's solid. Paris is definitely the capital of France.\\n</think>\\n\\nThe capital of France is **Paris**. \\n\\nParis is not only the political and administrative heart of the country but also a global cultural and historical hub, known for landmarks like the Eiffel Tower, the Louvre Museum, and the Cathedral of Notre-Dame. It has served as the capital since the medieval period and remains the seat of the French government and presidency.\", additional_kwargs={}, response_metadata={'token_usage': {'completion_tokens': 390, 'prompt_tokens': 17, 'total_tokens': 407, 'completion_time': 0.888296029, 'prompt_time': 0.003034439, 'queue_time': 0.0017234399999999997, 'total_time': 0.891330468}, 'model_name': 'qwen-qwq-32b', 'system_fingerprint': 'fp_a91d9c2cfb', 'finish_reason': 'stop', 'logprobs': None}, id='run--e9bc6a1b-47e5-4a54-b4ce-8a447787a27a-0', usage_metadata={'input_tokens': 17, 'output_tokens': 390, 'total_tokens': 407})"
      ]
     },
     "execution_count": 4,
     "metadata": {},
     "output_type": "execute_result"
    }
   ],
   "source": [
    "from langchain_groq import ChatGroq\n",
    "model = ChatGroq(model=\"qwen-qwq-32b\")\n",
    "model.invoke(\"What is the capital of France?\")"
   ]
  },
  {
   "cell_type": "code",
   "execution_count": 7,
   "id": "79e45e47",
   "metadata": {},
   "outputs": [
    {
     "data": {
      "text/plain": [
       "ChatPromptTemplate(input_variables=['input'], input_types={}, partial_variables={}, messages=[SystemMessagePromptTemplate(prompt=PromptTemplate(input_variables=[], input_types={}, partial_variables={}, template='You are an expert AI Engineer. Provide a detailed answer.'), additional_kwargs={}), HumanMessagePromptTemplate(prompt=PromptTemplate(input_variables=['input'], input_types={}, partial_variables={}, template='{input}'), additional_kwargs={})])"
      ]
     },
     "execution_count": 7,
     "metadata": {},
     "output_type": "execute_result"
    }
   ],
   "source": [
    "### Prompt Engineering\n",
    "from langchain_core.prompts import ChatPromptTemplate\n",
    "\n",
    "prompt = ChatPromptTemplate.from_messages([\n",
    "    (\"system\", \"You are an expert AI Engineer. Provide a detailed answer.\"),\n",
    "    (\"user\", \"{input}\"),\n",
    "])\n",
    "prompt "
   ]
  },
  {
   "cell_type": "code",
   "execution_count": 8,
   "id": "416cd743",
   "metadata": {},
   "outputs": [
    {
     "data": {
      "text/plain": [
       "ChatPromptTemplate(input_variables=['input'], input_types={}, partial_variables={}, messages=[SystemMessagePromptTemplate(prompt=PromptTemplate(input_variables=[], input_types={}, partial_variables={}, template='You are an expert AI Engineer. Provide a detailed answer.'), additional_kwargs={}), HumanMessagePromptTemplate(prompt=PromptTemplate(input_variables=['input'], input_types={}, partial_variables={}, template='{input}'), additional_kwargs={})])\n",
       "| ChatGroq(client=<groq.resources.chat.completions.Completions object at 0x000001D2E1B19010>, async_client=<groq.resources.chat.completions.AsyncCompletions object at 0x000001D2E1B1A120>, model_name='qwen-qwq-32b', model_kwargs={}, groq_api_key=SecretStr('**********'))"
      ]
     },
     "execution_count": 8,
     "metadata": {},
     "output_type": "execute_result"
    }
   ],
   "source": [
    "### Chaining: getting chained the prompt and model together\n",
    "\n",
    "chain = prompt | model\n",
    "chain"
   ]
  },
  {
   "cell_type": "code",
   "execution_count": 11,
   "id": "8f7dacb8",
   "metadata": {},
   "outputs": [
    {
     "name": "stdout",
     "output_type": "stream",
     "text": [
      "Response: \n",
      "<think>\n",
      "Okay, the user is asking for the capital of France. Let me start by recalling basic geography. France is a country in Western Europe. The capital cities are usually the political and administrative centers of a country. Paris is the most well-known city in France. Wait, but maybe there's some trick here? Let me think. Sometimes people confuse Paris with other cities, but no, I'm pretty sure Paris has been the capital for a long time. The government, including the President's office, is there. Maybe check if there was a historical change? Like, during some events, but no, even during wartime, Paris remained the capital. Also, in terms of cultural significance, Paris is the heart of France. So the answer should be Paris. I don't see any reason to doubt that. Just to be thorough, maybe think about other possibilities. Lyon? No, that's a major city but not the capital. Marseille? No. So yes, the answer is definitely Paris. I should present that clearly.\n",
      "</think>\n",
      "\n",
      "The capital of France is **Paris**. \n",
      "\n",
      "**Key Details:**\n",
      "- **Location**: Paris is situated in the north-central part of France along the Seine River.\n",
      "- **Political Significance**: It serves as the seat of the French government, housing key institutions like the Élysée Palace (the presidential residence), the National Assembly, and the Senate.\n",
      "- **Cultural and Historical Importance**: Known as the \"City of Light,\" Paris is renowned globally for its art, fashion, cuisine, and landmarks such as the Eiffel Tower, Louvre Museum, and Notre-Dame Cathedral.\n",
      "- **Administrative Role**: It is the central hub for politics, economy, and international diplomacy, hosting numerous embassies and international organizations.\n",
      "\n",
      "Paris has been the capital of France since the 10th century and remains the cultural, economic, and political heart of the country. There has been no change in its status as the capital in modern history.\n"
     ]
    }
   ],
   "source": [
    "response = chain.invoke({\"input\": \"What is the capital of France?\"})\n",
    "print(\"Response:\", response.content)"
   ]
  },
  {
   "cell_type": "code",
   "execution_count": 12,
   "id": "6af3d9b0",
   "metadata": {},
   "outputs": [
    {
     "name": "stdout",
     "output_type": "stream",
     "text": [
      "Parsed Response: \n",
      "<think>\n",
      "Okay, the user is asking, \"What is the capital of France?\" Let me start by recalling basic geography. France is a country in Western Europe, and I know that Paris is its capital. But wait, maybe I should double-check to be sure. Sometimes people confuse capitals, like thinking the capital of the UK is London, which it is, but maybe there's a trick here. No, France's capital is definitely Paris. Let me think if there's any recent change? I don't recall any such thing. Historically, Paris has been the capital for a long time. Maybe the user is a student needing this for a test, or just a general question. I should confirm through my knowledge base. Yes, all sources indicate Paris as the capital. To be thorough, I can mention a bit more context, like Paris being a major cultural and political center. But the answer should be straightforward. Just need to present it clearly and concisely. Alright, no complications here. The answer is Paris.\n",
      "</think>\n",
      "\n",
      "The capital of France is **Paris**. \n",
      "\n",
      "### Key Details:\n",
      "- **Paris** has been the political and cultural heart of France for centuries.\n",
      "- It is located in the northern part of France along the Seine River.\n",
      "- As a global city, it hosts major landmarks such as the Eiffel Tower, the Louvre Museum, and Notre-Dame Cathedral.\n",
      "- The city serves as the seat of the French government, with administrative, legislative, and judicial institutions headquartered there.\n",
      "\n",
      "No other city has served as the capital of France since the French Revolution (late 18th century), and there has been no change in status since then. Paris is widely recognized internationally as France’s capital.\n"
     ]
    }
   ],
   "source": [
    "### Output Parsing : How the ouput will be visible to the user\n",
    "from langchain_core.output_parsers import StrOutputParser\n",
    "\n",
    "output_parser = StrOutputParser()\n",
    "\n",
    "chain = prompt | model | output_parser\n",
    "response = chain.invoke({\"input\": \"What is the capital of France?\"})\n",
    "print(\"Parsed Response:\", response)"
   ]
  }
 ],
 "metadata": {
  "kernelspec": {
   "display_name": "Python 3",
   "language": "python",
   "name": "python3"
  },
  "language_info": {
   "codemirror_mode": {
    "name": "ipython",
    "version": 3
   },
   "file_extension": ".py",
   "mimetype": "text/x-python",
   "name": "python",
   "nbconvert_exporter": "python",
   "pygments_lexer": "ipython3",
   "version": "3.13.2"
  }
 },
 "nbformat": 4,
 "nbformat_minor": 5
}
