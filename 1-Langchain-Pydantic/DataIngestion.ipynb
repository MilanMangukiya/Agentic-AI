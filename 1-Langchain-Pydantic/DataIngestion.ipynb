{
 "cells": [
  {
   "cell_type": "code",
   "execution_count": 2,
   "id": "49bd5615",
   "metadata": {},
   "outputs": [],
   "source": [
    "## Text loader\n",
    "\n",
    "from langchain_community.document_loaders import TextLoader\n",
    "\n",
    "TextLoader = TextLoader('text.txt', encoding='utf-8')"
   ]
  },
  {
   "cell_type": "code",
   "execution_count": 8,
   "id": "f47dac40",
   "metadata": {},
   "outputs": [
    {
     "data": {
      "text/plain": [
       "[Document(metadata={'source': 'text.txt'}, page_content='Query Formulation:\\n\\nThe user inputs a question or prompt.\\n\\nOptionally, this input may be reformulated or expanded (e.g., with query rewriting techniques).\\n\\nEmbedding the Query:\\n\\nThe query is transformed into a dense vector using a pre-trained embedding model (e.g., sentence transformers, BERT, etc.).\\n\\nThis allows the system to perform semantic search, not just keyword matching.\\n\\nDocument Retrieval:\\n\\nThe query vector is compared with vectors of documents in a vector database (e.g., FAISS, Milvus, Pinecone).\\n\\nThe top-k most relevant documents (chunks/passages) are retrieved based on similarity (usually cosine similarity).\\n\\nOptional: Re-ranking:\\n\\nRetrieved documents may be re-ranked using a more accurate (but slower) model, like a cross-encoder.\\n\\nThis improves the relevance of final documents passed to the generator.\\n\\nPassing to Generator (LLM):\\n\\nThe retrieved documents are fed into a language model (e.g., GPT, T5, etc.) along with the original question.\\n\\nThe LLM uses both the question and retrieved context to generate a more informed and accurate response.')]"
      ]
     },
     "execution_count": 8,
     "metadata": {},
     "output_type": "execute_result"
    }
   ],
   "source": [
    "documents = TextLoader.load()\n",
    "documents\n",
    "\n",
    "# print(f\"Loaded {len(documents)} documents\")"
   ]
  },
  {
   "cell_type": "code",
   "execution_count": null,
   "id": "0424d10d",
   "metadata": {},
   "outputs": [
    {
     "name": "stdout",
     "output_type": "stream",
     "text": [
      "Error: name 'b' is not defined\n"
     ]
    }
   ],
   "source": []
  }
 ],
 "metadata": {
  "kernelspec": {
   "display_name": "Python 3",
   "language": "python",
   "name": "python3"
  },
  "language_info": {
   "codemirror_mode": {
    "name": "ipython",
    "version": 3
   },
   "file_extension": ".py",
   "mimetype": "text/x-python",
   "name": "python",
   "nbconvert_exporter": "python",
   "pygments_lexer": "ipython3",
   "version": "3.13.2"
  }
 },
 "nbformat": 4,
 "nbformat_minor": 5
}
