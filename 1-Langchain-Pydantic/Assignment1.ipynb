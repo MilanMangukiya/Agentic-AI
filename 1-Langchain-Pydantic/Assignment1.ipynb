{
 "cells": [
  {
   "cell_type": "markdown",
   "id": "96d938f7",
   "metadata": {},
   "source": [
    "Create a simple assistant that uses any LLM and should be pydantic, when we ask about any product it should give you two information product Name, product details tentative price in USD (integer). use chat Prompt Template."
   ]
  },
  {
   "cell_type": "code",
   "execution_count": 1,
   "id": "78bea6f4",
   "metadata": {},
   "outputs": [
    {
     "data": {
      "text/plain": [
       "True"
      ]
     },
     "execution_count": 1,
     "metadata": {},
     "output_type": "execute_result"
    }
   ],
   "source": [
    "import os\n",
    "from dotenv import load_dotenv\n",
    "load_dotenv()"
   ]
  },
  {
   "cell_type": "code",
   "execution_count": 2,
   "id": "f0990974",
   "metadata": {},
   "outputs": [],
   "source": [
    "os.environ[\"OPENAI_API_KEY\"] = os.getenv(\"OPENAI_API_KEY\")\n",
    "os.environ[\"GROQ_API_KEY\"] = os.getenv(\"GROQ_API_KEY\")\n",
    "\n",
    "## Langsmith Tracking and Tracing\n",
    "os.environ[\"LANGCHAIN_API_KEY\"] = os.getenv(\"LANGCHAIN_API_KEY\")\n",
    "os.environ[\"LANGCHAIN_PROJECT\"] = os.getenv(\"LANGCHAIN_PROJECT\")\n",
    "os.environ[\"LANGCHAIN_TRACING_V2\"] = \"true\""
   ]
  },
  {
   "cell_type": "code",
   "execution_count": 3,
   "id": "5e83fd94",
   "metadata": {},
   "outputs": [],
   "source": [
    "from pydantic import BaseModel, Field\n",
    "\n",
    "class Product(BaseModel):\n",
    "    productName: str = Field(description=\"The name of the product.\")\n",
    "    productDetails: str = Field(description=\"The details of the product.\")\n",
    "    productPrice: float = Field(description=\"The price of the product in USD.\")\n",
    "\n"
   ]
  },
  {
   "cell_type": "code",
   "execution_count": 4,
   "id": "8c27ad70",
   "metadata": {},
   "outputs": [],
   "source": [
    "from langchain_groq import ChatGroq\n",
    "model = ChatGroq(model=\"qwen-qwq-32b\")"
   ]
  },
  {
   "cell_type": "code",
   "execution_count": 34,
   "id": "54603398",
   "metadata": {},
   "outputs": [
    {
     "data": {
      "text/plain": [
       "ChatPromptTemplate(input_variables=['format_instructions', 'productCategory'], input_types={}, partial_variables={}, messages=[SystemMessagePromptTemplate(prompt=PromptTemplate(input_variables=[], input_types={}, partial_variables={}, template='You are a product research assistant. Your task is to help the user find a product based on the product category provided. Response should contain product name in string, product details in string and product price in USD either float or interger.'), additional_kwargs={}), HumanMessagePromptTemplate(prompt=PromptTemplate(input_variables=['format_instructions', 'productCategory'], input_types={}, partial_variables={}, template='I need information about {productCategory} \\n{format_instructions}'), additional_kwargs={})])"
      ]
     },
     "execution_count": 34,
     "metadata": {},
     "output_type": "execute_result"
    }
   ],
   "source": [
    "from langchain_core.prompts import ChatPromptTemplate\n",
    "from langchain_core.output_parsers import JsonOutputParser\n",
    "\n",
    "# Set up a parser + inject instructions into the prompt template.\n",
    "parser = JsonOutputParser(pydantic_object=Product)\n",
    "\n",
    "prompt_template = ChatPromptTemplate([\n",
    "    (\"system\", \"You are a product research assistant. Your task is to help the user find a product based on the product category provided. Response should contain product name in string, product details in string and product price in USD either float or interger.\"),\n",
    "    (\"user\", \"I need information about {productCategory} \\n{format_instructions}\")\n",
    "])\n",
    "format_instructions = parser.get_format_instructions()\n",
    "prompt_template\n"
   ]
  },
  {
   "cell_type": "code",
   "execution_count": 38,
   "id": "039fd4ef",
   "metadata": {},
   "outputs": [
    {
     "data": {
      "text/plain": [
       "ChatPromptTemplate(input_variables=['format_instructions', 'productCategory'], input_types={}, partial_variables={}, messages=[SystemMessagePromptTemplate(prompt=PromptTemplate(input_variables=[], input_types={}, partial_variables={}, template='You are a product research assistant. Your task is to help the user find a product based on the product category provided. Response should contain product name in string, product details in string and product price in USD either float or interger.'), additional_kwargs={}), HumanMessagePromptTemplate(prompt=PromptTemplate(input_variables=['format_instructions', 'productCategory'], input_types={}, partial_variables={}, template='I need information about {productCategory} \\n{format_instructions}'), additional_kwargs={})])\n",
       "| ChatGroq(client=<groq.resources.chat.completions.Completions object at 0x000001685482B380>, async_client=<groq.resources.chat.completions.AsyncCompletions object at 0x00000168549A81A0>, model_name='qwen-qwq-32b', model_kwargs={}, groq_api_key=SecretStr('**********'))\n",
       "| JsonOutputParser(pydantic_object=<class '__main__.Product'>)"
      ]
     },
     "execution_count": 38,
     "metadata": {},
     "output_type": "execute_result"
    }
   ],
   "source": [
    "chain = prompt_template | model | parser\n",
    "chain"
   ]
  },
  {
   "cell_type": "code",
   "execution_count": 46,
   "id": "d1a407c9",
   "metadata": {},
   "outputs": [
    {
     "name": "stdout",
     "output_type": "stream",
     "text": [
      "{'productName': 'iPhone 15 Pro', 'productDetails': 'The iPhone 15 Pro features a dynamic island display, A17 Pro chip for advanced performance, 48MP main camera, titanium frame, and supports 5G. It includes an always-on Retina display and enhanced low-light photography capabilities.', 'productPrice': 999}\n"
     ]
    }
   ],
   "source": [
    "response = chain.invoke({\"productCategory\":\"mobile phone\",\n",
    "                        \"format_instructions\": parser.get_format_instructions()\n",
    "                        })\n",
    "print(response)\n",
    "\n"
   ]
  }
 ],
 "metadata": {
  "kernelspec": {
   "display_name": "Python 3",
   "language": "python",
   "name": "python3"
  },
  "language_info": {
   "codemirror_mode": {
    "name": "ipython",
    "version": 3
   },
   "file_extension": ".py",
   "mimetype": "text/x-python",
   "name": "python",
   "nbconvert_exporter": "python",
   "pygments_lexer": "ipython3",
   "version": "3.13.2"
  }
 },
 "nbformat": 4,
 "nbformat_minor": 5
}
